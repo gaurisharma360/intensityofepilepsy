{
  "nbformat": 4,
  "nbformat_minor": 0,
  "metadata": {
    "colab": {
      "name": "Intensity of Epilepsy using EEG.ipynb",
      "provenance": [],
      "collapsed_sections": [],
      "mount_file_id": "1ApSGWAO8Lj7dpbJDhE1OovAfjn7jHaJY",
      "authorship_tag": "ABX9TyMMfA2Xlba2BMmJs8gIKdR7",
      "include_colab_link": true
    },
    "kernelspec": {
      "name": "python3",
      "display_name": "Python 3"
    },
    "language_info": {
      "name": "python"
    }
  },
  "cells": [
    {
      "cell_type": "markdown",
      "metadata": {
        "id": "view-in-github",
        "colab_type": "text"
      },
      "source": [
        "<a href=\"https://colab.research.google.com/github/gaurisharma360/intensityofepilepsy/blob/main/Intensity_of_Epilepsy_using_EEGv3.ipynb\" target=\"_parent\"><img src=\"https://colab.research.google.com/assets/colab-badge.svg\" alt=\"Open In Colab\"/></a>"
      ]
    },
    {
      "cell_type": "code",
      "execution_count": 225,
      "metadata": {
        "id": "PBU3Ccwaw7We"
      },
      "outputs": [],
      "source": [
        "import pandas as pd\n",
        "import numpy as np"
      ]
    },
    {
      "cell_type": "code",
      "source": [
        "data_df=pd.read_csv(\"/content/Minor - Copy.csv\")"
      ],
      "metadata": {
        "id": "CBZvTmKyxbia"
      },
      "execution_count": 226,
      "outputs": []
    },
    {
      "cell_type": "code",
      "source": [
        "data_df.head()"
      ],
      "metadata": {
        "colab": {
          "base_uri": "https://localhost:8080/",
          "height": 206
        },
        "id": "mb2OtDAAyDmc",
        "outputId": "c5081e01-25bc-40bc-8543-8095f2c28e4e"
      },
      "execution_count": 227,
      "outputs": [
        {
          "output_type": "execute_result",
          "data": {
            "text/plain": [
              "   Treatment (0=Placebo, 1=Progabide)  Difference in frequencies  \\\n",
              "0                                   0                      0.375   \n",
              "1                                   0                      0.375   \n",
              "2                                   0                      0.625   \n",
              "3                                   0                      0.625   \n",
              "4                                   0                     -1.375   \n",
              "\n",
              "   Intensity of disease  \n",
              "0                     4  \n",
              "1                     4  \n",
              "2                     4  \n",
              "3                     4  \n",
              "4                     2  "
            ],
            "text/html": [
              "\n",
              "  <div id=\"df-8db2e850-fec6-43ef-82f8-499e5c4f21b4\">\n",
              "    <div class=\"colab-df-container\">\n",
              "      <div>\n",
              "<style scoped>\n",
              "    .dataframe tbody tr th:only-of-type {\n",
              "        vertical-align: middle;\n",
              "    }\n",
              "\n",
              "    .dataframe tbody tr th {\n",
              "        vertical-align: top;\n",
              "    }\n",
              "\n",
              "    .dataframe thead th {\n",
              "        text-align: right;\n",
              "    }\n",
              "</style>\n",
              "<table border=\"1\" class=\"dataframe\">\n",
              "  <thead>\n",
              "    <tr style=\"text-align: right;\">\n",
              "      <th></th>\n",
              "      <th>Treatment (0=Placebo, 1=Progabide)</th>\n",
              "      <th>Difference in frequencies</th>\n",
              "      <th>Intensity of disease</th>\n",
              "    </tr>\n",
              "  </thead>\n",
              "  <tbody>\n",
              "    <tr>\n",
              "      <th>0</th>\n",
              "      <td>0</td>\n",
              "      <td>0.375</td>\n",
              "      <td>4</td>\n",
              "    </tr>\n",
              "    <tr>\n",
              "      <th>1</th>\n",
              "      <td>0</td>\n",
              "      <td>0.375</td>\n",
              "      <td>4</td>\n",
              "    </tr>\n",
              "    <tr>\n",
              "      <th>2</th>\n",
              "      <td>0</td>\n",
              "      <td>0.625</td>\n",
              "      <td>4</td>\n",
              "    </tr>\n",
              "    <tr>\n",
              "      <th>3</th>\n",
              "      <td>0</td>\n",
              "      <td>0.625</td>\n",
              "      <td>4</td>\n",
              "    </tr>\n",
              "    <tr>\n",
              "      <th>4</th>\n",
              "      <td>0</td>\n",
              "      <td>-1.375</td>\n",
              "      <td>2</td>\n",
              "    </tr>\n",
              "  </tbody>\n",
              "</table>\n",
              "</div>\n",
              "      <button class=\"colab-df-convert\" onclick=\"convertToInteractive('df-8db2e850-fec6-43ef-82f8-499e5c4f21b4')\"\n",
              "              title=\"Convert this dataframe to an interactive table.\"\n",
              "              style=\"display:none;\">\n",
              "        \n",
              "  <svg xmlns=\"http://www.w3.org/2000/svg\" height=\"24px\"viewBox=\"0 0 24 24\"\n",
              "       width=\"24px\">\n",
              "    <path d=\"M0 0h24v24H0V0z\" fill=\"none\"/>\n",
              "    <path d=\"M18.56 5.44l.94 2.06.94-2.06 2.06-.94-2.06-.94-.94-2.06-.94 2.06-2.06.94zm-11 1L8.5 8.5l.94-2.06 2.06-.94-2.06-.94L8.5 2.5l-.94 2.06-2.06.94zm10 10l.94 2.06.94-2.06 2.06-.94-2.06-.94-.94-2.06-.94 2.06-2.06.94z\"/><path d=\"M17.41 7.96l-1.37-1.37c-.4-.4-.92-.59-1.43-.59-.52 0-1.04.2-1.43.59L10.3 9.45l-7.72 7.72c-.78.78-.78 2.05 0 2.83L4 21.41c.39.39.9.59 1.41.59.51 0 1.02-.2 1.41-.59l7.78-7.78 2.81-2.81c.8-.78.8-2.07 0-2.86zM5.41 20L4 18.59l7.72-7.72 1.47 1.35L5.41 20z\"/>\n",
              "  </svg>\n",
              "      </button>\n",
              "      \n",
              "  <style>\n",
              "    .colab-df-container {\n",
              "      display:flex;\n",
              "      flex-wrap:wrap;\n",
              "      gap: 12px;\n",
              "    }\n",
              "\n",
              "    .colab-df-convert {\n",
              "      background-color: #E8F0FE;\n",
              "      border: none;\n",
              "      border-radius: 50%;\n",
              "      cursor: pointer;\n",
              "      display: none;\n",
              "      fill: #1967D2;\n",
              "      height: 32px;\n",
              "      padding: 0 0 0 0;\n",
              "      width: 32px;\n",
              "    }\n",
              "\n",
              "    .colab-df-convert:hover {\n",
              "      background-color: #E2EBFA;\n",
              "      box-shadow: 0px 1px 2px rgba(60, 64, 67, 0.3), 0px 1px 3px 1px rgba(60, 64, 67, 0.15);\n",
              "      fill: #174EA6;\n",
              "    }\n",
              "\n",
              "    [theme=dark] .colab-df-convert {\n",
              "      background-color: #3B4455;\n",
              "      fill: #D2E3FC;\n",
              "    }\n",
              "\n",
              "    [theme=dark] .colab-df-convert:hover {\n",
              "      background-color: #434B5C;\n",
              "      box-shadow: 0px 1px 3px 1px rgba(0, 0, 0, 0.15);\n",
              "      filter: drop-shadow(0px 1px 2px rgba(0, 0, 0, 0.3));\n",
              "      fill: #FFFFFF;\n",
              "    }\n",
              "  </style>\n",
              "\n",
              "      <script>\n",
              "        const buttonEl =\n",
              "          document.querySelector('#df-8db2e850-fec6-43ef-82f8-499e5c4f21b4 button.colab-df-convert');\n",
              "        buttonEl.style.display =\n",
              "          google.colab.kernel.accessAllowed ? 'block' : 'none';\n",
              "\n",
              "        async function convertToInteractive(key) {\n",
              "          const element = document.querySelector('#df-8db2e850-fec6-43ef-82f8-499e5c4f21b4');\n",
              "          const dataTable =\n",
              "            await google.colab.kernel.invokeFunction('convertToInteractive',\n",
              "                                                     [key], {});\n",
              "          if (!dataTable) return;\n",
              "\n",
              "          const docLinkHtml = 'Like what you see? Visit the ' +\n",
              "            '<a target=\"_blank\" href=https://colab.research.google.com/notebooks/data_table.ipynb>data table notebook</a>'\n",
              "            + ' to learn more about interactive tables.';\n",
              "          element.innerHTML = '';\n",
              "          dataTable['output_type'] = 'display_data';\n",
              "          await google.colab.output.renderOutput(dataTable, element);\n",
              "          const docLink = document.createElement('div');\n",
              "          docLink.innerHTML = docLinkHtml;\n",
              "          element.appendChild(docLink);\n",
              "        }\n",
              "      </script>\n",
              "    </div>\n",
              "  </div>\n",
              "  "
            ]
          },
          "metadata": {},
          "execution_count": 227
        }
      ]
    },
    {
      "cell_type": "code",
      "source": [
        "\n",
        "x=data_df.drop([('Intensity of disease')],axis=1).values\n",
        "y=data_df['Intensity of disease'].values"
      ],
      "metadata": {
        "id": "aQxFD-IGyPAX"
      },
      "execution_count": 228,
      "outputs": []
    },
    {
      "cell_type": "code",
      "source": [
        "print(x)"
      ],
      "metadata": {
        "colab": {
          "base_uri": "https://localhost:8080/"
        },
        "id": "vJPJDtVV_jJs",
        "outputId": "b347d4f0-ebc2-4bdb-9a0c-06bef8941e00"
      },
      "execution_count": 229,
      "outputs": [
        {
          "output_type": "stream",
          "name": "stdout",
          "text": [
            "[[ 0.     0.375]\n",
            " [ 0.     0.375]\n",
            " [ 0.     0.625]\n",
            " [ 0.     0.625]\n",
            " [ 0.    -1.375]\n",
            " [ 0.    -0.625]\n",
            " [ 0.     0.   ]\n",
            " [ 0.     5.375]\n",
            " [ 0.    -0.125]\n",
            " [ 0.     2.875]\n",
            " [ 0.     1.75 ]\n",
            " [ 0.    -0.25 ]\n",
            " [ 0.    -0.25 ]\n",
            " [ 0.     0.   ]\n",
            " [ 0.    -3.5  ]\n",
            " [ 0.    -4.25 ]\n",
            " [ 0.    -1.5  ]\n",
            " [ 0.     1.5  ]\n",
            " [ 0.    -0.375]\n",
            " [ 0.    -0.5  ]\n",
            " [ 0.     0.25 ]\n",
            " [ 0.     0.625]\n",
            " [ 0.    -0.5  ]\n",
            " [ 0.     0.25 ]\n",
            " [ 0.    11.   ]\n",
            " [ 0.    -0.375]\n",
            " [ 0.     0.   ]\n",
            " [ 0.     0.75 ]\n",
            " [ 1.    -4.25 ]\n",
            " [ 1.    -1.25 ]\n",
            " [ 1.    -1.5  ]\n",
            " [ 1.     0.375]\n",
            " [ 1.     0.   ]\n",
            " [ 1.    -1.625]\n",
            " [ 1.     5.375]\n",
            " [ 1.     0.75 ]\n",
            " [ 1.    -0.125]\n",
            " [ 1.    -5.375]\n",
            " [ 1.    -1.5  ]\n",
            " [ 1.    -0.375]\n",
            " [ 1.    -2.   ]\n",
            " [ 1.    -0.125]\n",
            " [ 1.     2.375]\n",
            " [ 1.    -1.25 ]\n",
            " [ 1.     0.125]\n",
            " [ 1.     0.125]\n",
            " [ 1.    -0.5  ]\n",
            " [ 1.    -1.   ]\n",
            " [ 1.    18.875]\n",
            " [ 1.    -1.125]\n",
            " [ 1.    -2.   ]\n",
            " [ 1.    -2.75 ]\n",
            " [ 1.     1.75 ]\n",
            " [ 1.    -1.375]\n",
            " [ 1.    -0.125]\n",
            " [ 1.     3.625]\n",
            " [ 1.    -2.375]\n",
            " [ 1.    -1.625]\n",
            " [ 1.    -0.25 ]]\n"
          ]
        }
      ]
    },
    {
      "cell_type": "code",
      "source": [
        "print(y)"
      ],
      "metadata": {
        "colab": {
          "base_uri": "https://localhost:8080/"
        },
        "id": "oY5sLoHMCb1_",
        "outputId": "1fa8f31a-ed25-43e3-cfc9-3bd4ab63cef3"
      },
      "execution_count": 230,
      "outputs": [
        {
          "output_type": "stream",
          "name": "stdout",
          "text": [
            "[4 4 4 4 2 3 4 6 3 5 5 3 3 4 1 1 2 5 3 3 4 4 3 4 7 3 4 4 6 2 2 4 4 2 6 3 3\n",
            " 1 2 3 2 3 5 2 4 4 3 3 7 2 2 2 4 2 3 6 2 2 3]\n"
          ]
        }
      ]
    },
    {
      "cell_type": "code",
      "source": [
        "from sklearn.model_selection import train_test_split\n",
        "x_train,x_test,y_train,y_test=train_test_split(x,y,test_size=0.15,random_state=42)"
      ],
      "metadata": {
        "id": "nSrGYlOc039g"
      },
      "execution_count": 231,
      "outputs": []
    },
    {
      "cell_type": "code",
      "source": [
        "from sklearn.linear_model import LinearRegression\n",
        "ml=LinearRegression()\n",
        "ml.fit(x_train,y_train)"
      ],
      "metadata": {
        "colab": {
          "base_uri": "https://localhost:8080/"
        },
        "id": "Ugq9Xjdw5ROl",
        "outputId": "123d5e69-2bca-4390-cd53-ee208a888e3e"
      },
      "execution_count": 232,
      "outputs": [
        {
          "output_type": "execute_result",
          "data": {
            "text/plain": [
              "LinearRegression()"
            ]
          },
          "metadata": {},
          "execution_count": 232
        }
      ]
    },
    {
      "cell_type": "code",
      "source": [
        "y_pred=ml.predict(x_test)\n",
        "print(y_pred)"
      ],
      "metadata": {
        "colab": {
          "base_uri": "https://localhost:8080/"
        },
        "id": "L2qKLoxP51Mk",
        "outputId": "1b3ce1e8-2383-4208-cd4a-f1e012a536a6"
      },
      "execution_count": 233,
      "outputs": [
        {
          "output_type": "stream",
          "name": "stdout",
          "text": [
            "[3.61239713 3.31468996 4.76117862 3.50075694 3.19821597 2.75165522\n",
            " 2.67722842 3.38911675 2.86329541]\n"
          ]
        }
      ]
    },
    {
      "cell_type": "code",
      "source": [
        "ml.predict([[0,0.375]])"
      ],
      "metadata": {
        "colab": {
          "base_uri": "https://localhost:8080/"
        },
        "id": "3JKYlLyC6CSJ",
        "outputId": "ff925cf6-beea-4371-a35c-7dfedc3a134c"
      },
      "execution_count": 234,
      "outputs": [
        {
          "output_type": "execute_result",
          "data": {
            "text/plain": [
              "array([3.61239713])"
            ]
          },
          "metadata": {},
          "execution_count": 234
        }
      ]
    },
    {
      "cell_type": "code",
      "source": [
        "from sklearn.metrics import mean_squared_error\n",
        "errors = mean_squared_error(y_test, y_pred, squared=False)\n",
        "errors"
      ],
      "metadata": {
        "colab": {
          "base_uri": "https://localhost:8080/"
        },
        "id": "mXWAdUH-yD_Y",
        "outputId": "c7de38d5-b817-42f4-c2a0-5677477b62e0"
      },
      "execution_count": 235,
      "outputs": [
        {
          "output_type": "execute_result",
          "data": {
            "text/plain": [
              "0.6557243089297577"
            ]
          },
          "metadata": {},
          "execution_count": 235
        }
      ]
    },
    {
      "cell_type": "code",
      "source": [
        "from sklearn.metrics import r2_score\n",
        "r2_score(y_test,y_pred)"
      ],
      "metadata": {
        "colab": {
          "base_uri": "https://localhost:8080/"
        },
        "id": "mKT05qWt7jX4",
        "outputId": "cd622317-20f1-43ce-af15-5a5a47e37349"
      },
      "execution_count": 236,
      "outputs": [
        {
          "output_type": "execute_result",
          "data": {
            "text/plain": [
              "0.6833825098633266"
            ]
          },
          "metadata": {},
          "execution_count": 236
        }
      ]
    },
    {
      "cell_type": "code",
      "source": [
        "import matplotlib.pyplot as plt\n",
        "plt.figure(figsize=(5,5))\n",
        "plt.scatter(y_test,y_pred)\n",
        "plt.xlabel('Actual')\n",
        "plt.ylabel('Predicted')\n",
        "plt.title('Actual vs Predicted')"
      ],
      "metadata": {
        "colab": {
          "base_uri": "https://localhost:8080/",
          "height": 367
        },
        "id": "oh2-DeAR786U",
        "outputId": "2a343e8d-9d78-4b98-c477-b26cfb1b53e8"
      },
      "execution_count": 237,
      "outputs": [
        {
          "output_type": "execute_result",
          "data": {
            "text/plain": [
              "Text(0.5, 1.0, 'Actual vs Predicted')"
            ]
          },
          "metadata": {},
          "execution_count": 237
        },
        {
          "output_type": "display_data",
          "data": {
            "text/plain": [
              "<Figure size 360x360 with 1 Axes>"
            ],
            "image/png": "[encoded data removed]"
          },
          "metadata": {
            "needs_background": "light"
          }
        }
      ]
    },
    {
      "cell_type": "code",
      "source": [
        ""
      ],
      "metadata": {
        "id": "-3-RHgKP8woC"
      },
      "execution_count": 237,
      "outputs": []
    }
  ]
}