{
  "nbformat": 4,
  "nbformat_minor": 0,
  "metadata": {
    "colab": {
      "name": "Intensity of Epilepsy using EEG.ipynb",
      "provenance": [],
      "collapsed_sections": [],
      "mount_file_id": "1ApSGWAO8Lj7dpbJDhE1OovAfjn7jHaJY",
      "authorship_tag": "ABX9TyPF1nhCIxQIhG0gAIwNhCOD",
      "include_colab_link": true
    },
    "kernelspec": {
      "name": "python3",
      "display_name": "Python 3"
    },
    "language_info": {
      "name": "python"
    }
  },
  "cells": [
    {
      "cell_type": "markdown",
      "metadata": {
        "id": "view-in-github",
        "colab_type": "text"
      },
      "source": [
        "<a href=\"https://colab.research.google.com/github/gaurisharma360/intensityofepilepsy/blob/main/Intensity_of_Epilepsy_using_EEG.ipynb\" target=\"_parent\"><img src=\"https://colab.research.google.com/assets/colab-badge.svg\" alt=\"Open In Colab\"/></a>"
      ]
    },
    {
      "cell_type": "code",
      "execution_count": 2,
      "metadata": {
        "id": "PBU3Ccwaw7We"
      },
      "outputs": [],
      "source": [
        "import pandas as pd\n",
        "import numpy as np\n",
        "import sklearn.metrics as metrics\n",
        "from sklearn.metrics import classification_report,confusion_matrix\n",
        "from sklearn.metrics import mean_squared_error\n",
        "from math import sqrt\n",
        "from sklearn.ensemble import GradientBoostingClassifier\n",
        "import matplotlib.pyplot as plt"
      ]
    },
    {
      "cell_type": "markdown",
      "source": [
        "**Multiple Linear Regression**"
      ],
      "metadata": {
        "id": "7V1tBaqOX4CG"
      }
    },
    {
      "cell_type": "code",
      "source": [
        "data_df=pd.read_csv(\"/content/Minorv2.csv\")"
      ],
      "metadata": {
        "id": "CBZvTmKyxbia"
      },
      "execution_count": 3,
      "outputs": []
    },
    {
      "cell_type": "code",
      "source": [
        "data_df.head()"
      ],
      "metadata": {
        "colab": {
          "base_uri": "https://localhost:8080/",
          "height": 206
        },
        "id": "mb2OtDAAyDmc",
        "outputId": "00d41cb1-4d80-4de5-b407-a1987b60a0a5"
      },
      "execution_count": 4,
      "outputs": [
        {
          "output_type": "execute_result",
          "data": {
            "text/plain": [
              "   Treatment (0=Placebo, 1=Progabide)  Age  Difference in frequencies  \\\n",
              "0                                   0   31                      0.375   \n",
              "1                                   0   30                      0.375   \n",
              "2                                   0   25                      0.625   \n",
              "3                                   0   36                      0.625   \n",
              "4                                   0   22                     -1.375   \n",
              "\n",
              "   Intensity of disease  \n",
              "0                     4  \n",
              "1                     4  \n",
              "2                     4  \n",
              "3                     4  \n",
              "4                     2  "
            ],
            "text/html": [
              "\n",
              "  <div id=\"df-78c043cd-8f2b-4105-8298-5516f9070f2c\">\n",
              "    <div class=\"colab-df-container\">\n",
              "      <div>\n",
              "<style scoped>\n",
              "    .dataframe tbody tr th:only-of-type {\n",
              "        vertical-align: middle;\n",
              "    }\n",
              "\n",
              "    .dataframe tbody tr th {\n",
              "        vertical-align: top;\n",
              "    }\n",
              "\n",
              "    .dataframe thead th {\n",
              "        text-align: right;\n",
              "    }\n",
              "</style>\n",
              "<table border=\"1\" class=\"dataframe\">\n",
              "  <thead>\n",
              "    <tr style=\"text-align: right;\">\n",
              "      <th></th>\n",
              "      <th>Treatment (0=Placebo, 1=Progabide)</th>\n",
              "      <th>Age</th>\n",
              "      <th>Difference in frequencies</th>\n",
              "      <th>Intensity of disease</th>\n",
              "    </tr>\n",
              "  </thead>\n",
              "  <tbody>\n",
              "    <tr>\n",
              "      <th>0</th>\n",
              "      <td>0</td>\n",
              "      <td>31</td>\n",
              "      <td>0.375</td>\n",
              "      <td>4</td>\n",
              "    </tr>\n",
              "    <tr>\n",
              "      <th>1</th>\n",
              "      <td>0</td>\n",
              "      <td>30</td>\n",
              "      <td>0.375</td>\n",
              "      <td>4</td>\n",
              "    </tr>\n",
              "    <tr>\n",
              "      <th>2</th>\n",
              "      <td>0</td>\n",
              "      <td>25</td>\n",
              "      <td>0.625</td>\n",
              "      <td>4</td>\n",
              "    </tr>\n",
              "    <tr>\n",
              "      <th>3</th>\n",
              "      <td>0</td>\n",
              "      <td>36</td>\n",
              "      <td>0.625</td>\n",
              "      <td>4</td>\n",
              "    </tr>\n",
              "    <tr>\n",
              "      <th>4</th>\n",
              "      <td>0</td>\n",
              "      <td>22</td>\n",
              "      <td>-1.375</td>\n",
              "      <td>2</td>\n",
              "    </tr>\n",
              "  </tbody>\n",
              "</table>\n",
              "</div>\n",
              "      <button class=\"colab-df-convert\" onclick=\"convertToInteractive('df-78c043cd-8f2b-4105-8298-5516f9070f2c')\"\n",
              "              title=\"Convert this dataframe to an interactive table.\"\n",
              "              style=\"display:none;\">\n",
              "        \n",
              "  <svg xmlns=\"http://www.w3.org/2000/svg\" height=\"24px\"viewBox=\"0 0 24 24\"\n",
              "       width=\"24px\">\n",
              "    <path d=\"M0 0h24v24H0V0z\" fill=\"none\"/>\n",
              "    <path d=\"M18.56 5.44l.94 2.06.94-2.06 2.06-.94-2.06-.94-.94-2.06-.94 2.06-2.06.94zm-11 1L8.5 8.5l.94-2.06 2.06-.94-2.06-.94L8.5 2.5l-.94 2.06-2.06.94zm10 10l.94 2.06.94-2.06 2.06-.94-2.06-.94-.94-2.06-.94 2.06-2.06.94z\"/><path d=\"M17.41 7.96l-1.37-1.37c-.4-.4-.92-.59-1.43-.59-.52 0-1.04.2-1.43.59L10.3 9.45l-7.72 7.72c-.78.78-.78 2.05 0 2.83L4 21.41c.39.39.9.59 1.41.59.51 0 1.02-.2 1.41-.59l7.78-7.78 2.81-2.81c.8-.78.8-2.07 0-2.86zM5.41 20L4 18.59l7.72-7.72 1.47 1.35L5.41 20z\"/>\n",
              "  </svg>\n",
              "      </button>\n",
              "      \n",
              "  <style>\n",
              "    .colab-df-container {\n",
              "      display:flex;\n",
              "      flex-wrap:wrap;\n",
              "      gap: 12px;\n",
              "    }\n",
              "\n",
              "    .colab-df-convert {\n",
              "      background-color: #E8F0FE;\n",
              "      border: none;\n",
              "      border-radius: 50%;\n",
              "      cursor: pointer;\n",
              "      display: none;\n",
              "      fill: #1967D2;\n",
              "      height: 32px;\n",
              "      padding: 0 0 0 0;\n",
              "      width: 32px;\n",
              "    }\n",
              "\n",
              "    .colab-df-convert:hover {\n",
              "      background-color: #E2EBFA;\n",
              "      box-shadow: 0px 1px 2px rgba(60, 64, 67, 0.3), 0px 1px 3px 1px rgba(60, 64, 67, 0.15);\n",
              "      fill: #174EA6;\n",
              "    }\n",
              "\n",
              "    [theme=dark] .colab-df-convert {\n",
              "      background-color: #3B4455;\n",
              "      fill: #D2E3FC;\n",
              "    }\n",
              "\n",
              "    [theme=dark] .colab-df-convert:hover {\n",
              "      background-color: #434B5C;\n",
              "      box-shadow: 0px 1px 3px 1px rgba(0, 0, 0, 0.15);\n",
              "      filter: drop-shadow(0px 1px 2px rgba(0, 0, 0, 0.3));\n",
              "      fill: #FFFFFF;\n",
              "    }\n",
              "  </style>\n",
              "\n",
              "      <script>\n",
              "        const buttonEl =\n",
              "          document.querySelector('#df-78c043cd-8f2b-4105-8298-5516f9070f2c button.colab-df-convert');\n",
              "        buttonEl.style.display =\n",
              "          google.colab.kernel.accessAllowed ? 'block' : 'none';\n",
              "\n",
              "        async function convertToInteractive(key) {\n",
              "          const element = document.querySelector('#df-78c043cd-8f2b-4105-8298-5516f9070f2c');\n",
              "          const dataTable =\n",
              "            await google.colab.kernel.invokeFunction('convertToInteractive',\n",
              "                                                     [key], {});\n",
              "          if (!dataTable) return;\n",
              "\n",
              "          const docLinkHtml = 'Like what you see? Visit the ' +\n",
              "            '<a target=\"_blank\" href=https://colab.research.google.com/notebooks/data_table.ipynb>data table notebook</a>'\n",
              "            + ' to learn more about interactive tables.';\n",
              "          element.innerHTML = '';\n",
              "          dataTable['output_type'] = 'display_data';\n",
              "          await google.colab.output.renderOutput(dataTable, element);\n",
              "          const docLink = document.createElement('div');\n",
              "          docLink.innerHTML = docLinkHtml;\n",
              "          element.appendChild(docLink);\n",
              "        }\n",
              "      </script>\n",
              "    </div>\n",
              "  </div>\n",
              "  "
            ]
          },
          "metadata": {},
          "execution_count": 4
        }
      ]
    },
    {
      "cell_type": "code",
      "source": [
        "\n",
        "x=data_df.drop([('Intensity of disease')],axis=1).values\n",
        "y=data_df['Intensity of disease'].values"
      ],
      "metadata": {
        "id": "aQxFD-IGyPAX"
      },
      "execution_count": 5,
      "outputs": []
    },
    {
      "cell_type": "code",
      "source": [
        "print(x)"
      ],
      "metadata": {
        "colab": {
          "base_uri": "https://localhost:8080/"
        },
        "id": "vJPJDtVV_jJs",
        "outputId": "e772b979-739c-4ad8-dd87-7d1de045361b"
      },
      "execution_count": 6,
      "outputs": [
        {
          "output_type": "stream",
          "name": "stdout",
          "text": [
            "[[ 0.    31.     0.375]\n",
            " [ 0.    30.     0.375]\n",
            " [ 0.    25.     0.625]\n",
            " [ 0.    36.     0.625]\n",
            " [ 0.    22.    -1.375]\n",
            " [ 0.    29.    -0.625]\n",
            " [ 0.    31.     0.   ]\n",
            " [ 0.    36.     5.375]\n",
            " [ 0.    37.    -0.125]\n",
            " [ 0.    28.     2.875]\n",
            " [ 0.    36.     1.75 ]\n",
            " [ 0.    24.    -0.25 ]\n",
            " [ 0.    28.    -0.25 ]\n",
            " [ 0.    36.     0.   ]\n",
            " [ 0.    26.    -3.5  ]\n",
            " [ 0.    26.    -4.25 ]\n",
            " [ 0.    28.    -1.5  ]\n",
            " [ 0.    31.     1.5  ]\n",
            " [ 0.    32.    -0.375]\n",
            " [ 0.    21.    -0.5  ]\n",
            " [ 0.    29.     0.25 ]\n",
            " [ 0.    21.     0.625]\n",
            " [ 0.    32.    -0.5  ]\n",
            " [ 0.    25.     0.25 ]\n",
            " [ 0.    30.    11.   ]\n",
            " [ 0.    40.    -0.375]\n",
            " [ 0.    19.     0.   ]\n",
            " [ 0.    22.     0.75 ]\n",
            " [ 1.    18.    -4.25 ]\n",
            " [ 1.    32.    -1.25 ]\n",
            " [ 1.    20.    -1.5  ]\n",
            " [ 1.    20.     0.375]\n",
            " [ 1.    18.     0.   ]\n",
            " [ 1.    24.    -1.625]\n",
            " [ 1.    30.     5.375]\n",
            " [ 1.    35.     0.75 ]\n",
            " [ 1.    57.    -0.125]\n",
            " [ 1.    20.    -5.375]\n",
            " [ 1.    22.    -1.5  ]\n",
            " [ 1.    28.    -0.375]\n",
            " [ 1.    23.    -2.   ]\n",
            " [ 1.    40.    -0.125]\n",
            " [ 1.    43.     2.375]\n",
            " [ 1.    21.    -1.25 ]\n",
            " [ 1.    35.     0.125]\n",
            " [ 1.    25.     0.125]\n",
            " [ 1.    26.    -0.5  ]\n",
            " [ 1.    25.    -1.   ]\n",
            " [ 1.    22.    18.875]\n",
            " [ 1.    32.    -1.125]\n",
            " [ 1.    25.    -2.   ]\n",
            " [ 1.    35.    -2.75 ]\n",
            " [ 1.    21.     1.75 ]\n",
            " [ 1.    41.    -1.375]\n",
            " [ 1.    32.    -0.125]\n",
            " [ 1.    26.     3.625]\n",
            " [ 1.    21.    -2.375]\n",
            " [ 1.    36.    -1.625]\n",
            " [ 1.    37.    -0.25 ]]\n"
          ]
        }
      ]
    },
    {
      "cell_type": "code",
      "source": [
        "print(y)"
      ],
      "metadata": {
        "colab": {
          "base_uri": "https://localhost:8080/"
        },
        "id": "oY5sLoHMCb1_",
        "outputId": "826a56b3-1d6b-4a4d-8501-d31c6dffc287"
      },
      "execution_count": 7,
      "outputs": [
        {
          "output_type": "stream",
          "name": "stdout",
          "text": [
            "[4 4 4 4 2 3 4 6 3 5 5 3 3 4 1 1 2 5 3 3 4 4 3 4 7 3 4 4 6 2 2 4 4 2 6 3 3\n",
            " 1 2 3 2 3 5 2 4 4 3 3 7 2 2 2 4 2 3 6 2 2 3]\n"
          ]
        }
      ]
    },
    {
      "cell_type": "code",
      "source": [
        "from sklearn.model_selection import train_test_split\n",
        "x_train,x_test,y_train,y_test=train_test_split(x,y,test_size=0.30,random_state=42)"
      ],
      "metadata": {
        "id": "nSrGYlOc039g"
      },
      "execution_count": 8,
      "outputs": []
    },
    {
      "cell_type": "code",
      "source": [
        "from sklearn.linear_model import LinearRegression\n",
        "ml=LinearRegression()\n",
        "ml.fit(x_train,y_train)"
      ],
      "metadata": {
        "colab": {
          "base_uri": "https://localhost:8080/"
        },
        "id": "Ugq9Xjdw5ROl",
        "outputId": "79f798fd-98ca-45d9-c3ae-6b37b1493cc5"
      },
      "execution_count": 9,
      "outputs": [
        {
          "output_type": "execute_result",
          "data": {
            "text/plain": [
              "LinearRegression()"
            ]
          },
          "metadata": {},
          "execution_count": 9
        }
      ]
    },
    {
      "cell_type": "code",
      "source": [
        "y_pred=ml.predict(x_test)\n",
        "print(y_pred)"
      ],
      "metadata": {
        "colab": {
          "base_uri": "https://localhost:8080/"
        },
        "id": "L2qKLoxP51Mk",
        "outputId": "dec2f576-92ff-4a86-af16-d6b0a8800a19"
      },
      "execution_count": 10,
      "outputs": [
        {
          "output_type": "stream",
          "name": "stdout",
          "text": [
            "[3.64897148 3.34576147 4.74408632 3.5764498  3.19162532 2.87289022\n",
            " 2.76485826 3.49676603 2.86662878 3.44693154 2.88065276 3.75700343\n",
            " 3.3485911  3.22803626 3.54750118 3.97396801 3.5406393  3.0789624 ]\n"
          ]
        }
      ]
    },
    {
      "cell_type": "code",
      "source": [
        "ml.predict([[0,31,0.375]])"
      ],
      "metadata": {
        "colab": {
          "base_uri": "https://localhost:8080/"
        },
        "id": "3JKYlLyC6CSJ",
        "outputId": "011e3480-ff1a-4c4f-83d2-7f25510e18c1"
      },
      "execution_count": 11,
      "outputs": [
        {
          "output_type": "execute_result",
          "data": {
            "text/plain": [
              "array([3.64897148])"
            ]
          },
          "metadata": {},
          "execution_count": 11
        }
      ]
    },
    {
      "cell_type": "code",
      "source": [
        "from sklearn.metrics import mean_squared_error\n",
        "errors = mean_squared_error(y_test, y_pred, squared=False)\n",
        "errors"
      ],
      "metadata": {
        "colab": {
          "base_uri": "https://localhost:8080/"
        },
        "id": "mXWAdUH-yD_Y",
        "outputId": "047dbb1a-e668-433b-9176-fd74ce35f9db"
      },
      "execution_count": 12,
      "outputs": [
        {
          "output_type": "execute_result",
          "data": {
            "text/plain": [
              "0.6969746112347806"
            ]
          },
          "metadata": {},
          "execution_count": 12
        }
      ]
    },
    {
      "cell_type": "code",
      "source": [
        "from sklearn.metrics import r2_score\n",
        "m1=r2_score(y_test,y_pred)\n",
        "print(m1)"
      ],
      "metadata": {
        "colab": {
          "base_uri": "https://localhost:8080/"
        },
        "id": "mKT05qWt7jX4",
        "outputId": "8118cab8-07fc-4628-a136-5a5a4a2d465d"
      },
      "execution_count": 13,
      "outputs": [
        {
          "output_type": "stream",
          "name": "stdout",
          "text": [
            "0.5687927418610875\n"
          ]
        }
      ]
    },
    {
      "cell_type": "code",
      "source": [
        "ms1=mean_squared_error(y_test,y_pred)\n",
        "rms1 = sqrt(ms1)\n",
        "\n",
        "print(\"Mean Squared Error is\",ms1)\n",
        "print(\"Root Mean Squared Error is\",rms1)"
      ],
      "metadata": {
        "id": "bmxNrSjXQip2",
        "outputId": "77ce8133-3bfe-4ee3-c639-d7b653c88c77",
        "colab": {
          "base_uri": "https://localhost:8080/"
        }
      },
      "execution_count": 14,
      "outputs": [
        {
          "output_type": "stream",
          "name": "stdout",
          "text": [
            "Mean Squared Error is 0.48577360870587355\n",
            "Root Mean Squared Error is 0.6969746112347806\n"
          ]
        }
      ]
    },
    {
      "cell_type": "code",
      "source": [
        "\n",
        "plt.figure(figsize=(5,5))\n",
        "plt.scatter(y_test,y_pred)\n",
        "plt.xlabel('Actual')\n",
        "plt.ylabel('Predicted')\n",
        "plt.title('Actual vs Predicted in Multiple Linear Regression')"
      ],
      "metadata": {
        "colab": {
          "base_uri": "https://localhost:8080/",
          "height": 367
        },
        "id": "oh2-DeAR786U",
        "outputId": "a17ce842-0928-46b4-c3d7-461b7c134993"
      },
      "execution_count": 79,
      "outputs": [
        {
          "output_type": "execute_result",
          "data": {
            "text/plain": [
              "Text(0.5, 1.0, 'Actual vs Predicted in Multiple Linear Regression')"
            ]
          },
          "metadata": {},
          "execution_count": 79
        },
        {
          "output_type": "display_data",
          "data": {
            "text/plain": [
              "<Figure size 360x360 with 1 Axes>"
            ],
            "image/png": "[encoded data removed]"
          },
          "metadata": {
            "needs_background": "light"
          }
        }
      ]
    },
    {
      "cell_type": "code",
      "source": [
        "#cannot be performed here\n",
        "#from sklearn.metrics import classification_report,confusion_matrix\n",
        "#print(classification_report(y_test,y_pred))\n",
        "#print(confusion_matrix(y_test,y_pred))"
      ],
      "metadata": {
        "id": "aSuXcKefVB6g"
      },
      "execution_count": 16,
      "outputs": []
    },
    {
      "cell_type": "markdown",
      "source": [
        "**Multinomial Logistic Regression**"
      ],
      "metadata": {
        "id": "9dwhn-0rI3a2"
      }
    },
    {
      "cell_type": "code",
      "source": [
        "x_train"
      ],
      "metadata": {
        "colab": {
          "base_uri": "https://localhost:8080/"
        },
        "id": "YoYd2LhfJDyq",
        "outputId": "63aa602b-c05d-4b8e-8b94-8503bf496569"
      },
      "execution_count": 17,
      "outputs": [
        {
          "output_type": "execute_result",
          "data": {
            "text/plain": [
              "array([[ 1.   , 32.   , -0.125],\n",
              "       [ 0.   , 21.   , -0.5  ],\n",
              "       [ 1.   , 20.   , -1.5  ],\n",
              "       [ 1.   , 25.   , -2.   ],\n",
              "       [ 1.   , 35.   ,  0.125],\n",
              "       [ 1.   , 26.   ,  3.625],\n",
              "       [ 0.   , 26.   , -4.25 ],\n",
              "       [ 0.   , 28.   ,  2.875],\n",
              "       [ 0.   , 22.   ,  0.75 ],\n",
              "       [ 0.   , 19.   ,  0.   ],\n",
              "       [ 0.   , 28.   , -1.5  ],\n",
              "       [ 0.   , 30.   , 11.   ],\n",
              "       [ 1.   , 24.   , -1.625],\n",
              "       [ 1.   , 21.   , -2.375],\n",
              "       [ 1.   , 40.   , -0.125],\n",
              "       [ 0.   , 24.   , -0.25 ],\n",
              "       [ 1.   , 18.   ,  0.   ],\n",
              "       [ 1.   , 21.   ,  1.75 ],\n",
              "       [ 1.   , 23.   , -2.   ],\n",
              "       [ 1.   , 20.   , -5.375],\n",
              "       [ 1.   , 32.   , -1.25 ],\n",
              "       [ 1.   , 21.   , -1.25 ],\n",
              "       [ 0.   , 30.   ,  0.375],\n",
              "       [ 0.   , 21.   ,  0.625],\n",
              "       [ 0.   , 25.   ,  0.625],\n",
              "       [ 1.   , 26.   , -0.5  ],\n",
              "       [ 1.   , 28.   , -0.375],\n",
              "       [ 1.   , 35.   ,  0.75 ],\n",
              "       [ 0.   , 25.   ,  0.25 ],\n",
              "       [ 1.   , 22.   , 18.875],\n",
              "       [ 0.   , 36.   ,  1.75 ],\n",
              "       [ 0.   , 32.   , -0.5  ],\n",
              "       [ 0.   , 32.   , -0.375],\n",
              "       [ 1.   , 37.   , -0.25 ],\n",
              "       [ 0.   , 29.   ,  0.25 ],\n",
              "       [ 0.   , 36.   ,  5.375],\n",
              "       [ 1.   , 43.   ,  2.375],\n",
              "       [ 0.   , 26.   , -3.5  ],\n",
              "       [ 1.   , 18.   , -4.25 ],\n",
              "       [ 1.   , 35.   , -2.75 ],\n",
              "       [ 1.   , 22.   , -1.5  ]])"
            ]
          },
          "metadata": {},
          "execution_count": 17
        }
      ]
    },
    {
      "cell_type": "code",
      "source": [
        "y_train"
      ],
      "metadata": {
        "colab": {
          "base_uri": "https://localhost:8080/"
        },
        "id": "_7M70S_IJQXJ",
        "outputId": "0a244211-9c5e-4b96-e076-2bb904b37ea7"
      },
      "execution_count": 18,
      "outputs": [
        {
          "output_type": "execute_result",
          "data": {
            "text/plain": [
              "array([3, 3, 2, 2, 4, 6, 1, 5, 4, 4, 2, 7, 2, 2, 3, 3, 4, 4, 2, 1, 2, 2,\n",
              "       4, 4, 4, 3, 3, 3, 4, 7, 5, 3, 3, 3, 4, 6, 5, 1, 6, 2, 2])"
            ]
          },
          "metadata": {},
          "execution_count": 18
        }
      ]
    },
    {
      "cell_type": "code",
      "source": [
        "x_test"
      ],
      "metadata": {
        "colab": {
          "base_uri": "https://localhost:8080/"
        },
        "id": "bsMnTaJHJt9_",
        "outputId": "c08247c3-4330-46b7-bdb2-7683e3aef85f"
      },
      "execution_count": 19,
      "outputs": [
        {
          "output_type": "execute_result",
          "data": {
            "text/plain": [
              "array([[ 0.   , 31.   ,  0.375],\n",
              "       [ 0.   , 29.   , -0.625],\n",
              "       [ 1.   , 30.   ,  5.375],\n",
              "       [ 0.   , 36.   ,  0.   ],\n",
              "       [ 1.   , 25.   ,  0.125],\n",
              "       [ 1.   , 41.   , -1.375],\n",
              "       [ 1.   , 36.   , -1.625],\n",
              "       [ 0.   , 40.   , -0.375],\n",
              "       [ 1.   , 25.   , -1.   ],\n",
              "       [ 0.   , 28.   , -0.25 ],\n",
              "       [ 1.   , 32.   , -1.125],\n",
              "       [ 0.   , 36.   ,  0.625],\n",
              "       [ 1.   , 57.   , -0.125],\n",
              "       [ 1.   , 20.   ,  0.375],\n",
              "       [ 0.   , 37.   , -0.125],\n",
              "       [ 0.   , 31.   ,  1.5  ],\n",
              "       [ 0.   , 31.   ,  0.   ],\n",
              "       [ 0.   , 22.   , -1.375]])"
            ]
          },
          "metadata": {},
          "execution_count": 19
        }
      ]
    },
    {
      "cell_type": "code",
      "source": [
        "y_test"
      ],
      "metadata": {
        "colab": {
          "base_uri": "https://localhost:8080/"
        },
        "id": "wFiLY_yhJxBO",
        "outputId": "c6ffc779-8098-484e-83f3-51c1ccfbfdf6"
      },
      "execution_count": 20,
      "outputs": [
        {
          "output_type": "execute_result",
          "data": {
            "text/plain": [
              "array([4, 3, 6, 4, 4, 2, 2, 3, 3, 3, 2, 4, 3, 4, 3, 5, 4, 2])"
            ]
          },
          "metadata": {},
          "execution_count": 20
        }
      ]
    },
    {
      "cell_type": "code",
      "source": [
        "from sklearn.linear_model import LogisticRegression\n",
        "from sklearn.preprocessing import StandardScaler"
      ],
      "metadata": {
        "id": "mqmCbrISJ1N3"
      },
      "execution_count": 21,
      "outputs": []
    },
    {
      "cell_type": "code",
      "source": [
        "lr=LogisticRegression(multi_class=\"multinomial\",solver=\"lbfgs\",random_state=42)"
      ],
      "metadata": {
        "id": "CsYXs6nbKF0k"
      },
      "execution_count": 22,
      "outputs": []
    },
    {
      "cell_type": "code",
      "source": [
        "lr.fit(x_train,y_train)"
      ],
      "metadata": {
        "colab": {
          "base_uri": "https://localhost:8080/"
        },
        "id": "prWyonxwO5N0",
        "outputId": "ac524364-c60f-4fc4-bb62-f0c5859d2aff"
      },
      "execution_count": 23,
      "outputs": [
        {
          "output_type": "stream",
          "name": "stderr",
          "text": [
            "/usr/local/lib/python3.7/dist-packages/sklearn/linear_model/_logistic.py:818: ConvergenceWarning: lbfgs failed to converge (status=1):\n",
            "STOP: TOTAL NO. of ITERATIONS REACHED LIMIT.\n",
            "\n",
            "Increase the number of iterations (max_iter) or scale the data as shown in:\n",
            "    https://scikit-learn.org/stable/modules/preprocessing.html\n",
            "Please also refer to the documentation for alternative solver options:\n",
            "    https://scikit-learn.org/stable/modules/linear_model.html#logistic-regression\n",
            "  extra_warning_msg=_LOGISTIC_SOLVER_CONVERGENCE_MSG,\n"
          ]
        },
        {
          "output_type": "execute_result",
          "data": {
            "text/plain": [
              "LogisticRegression(multi_class='multinomial', random_state=42)"
            ]
          },
          "metadata": {},
          "execution_count": 23
        }
      ]
    },
    {
      "cell_type": "code",
      "source": [
        "y_predlr=lr.predict(x_test)"
      ],
      "metadata": {
        "id": "37yOBqKyPGU0"
      },
      "execution_count": 24,
      "outputs": []
    },
    {
      "cell_type": "code",
      "source": [
        "#lr.score(x_test,y_test)"
      ],
      "metadata": {
        "id": "1MZSx1doPYTH"
      },
      "execution_count": 25,
      "outputs": []
    },
    {
      "cell_type": "code",
      "source": [
        "print('Accuracy Score:', metrics.accuracy_score(y_test, y_predlr))  \n",
        "m2=metrics.accuracy_score(y_test, y_predlr)"
      ],
      "metadata": {
        "colab": {
          "base_uri": "https://localhost:8080/"
        },
        "id": "uPWcA4Asdqbt",
        "outputId": "cdb4b02e-56d6-4035-86c1-a6bef3617db1"
      },
      "execution_count": 26,
      "outputs": [
        {
          "output_type": "stream",
          "name": "stdout",
          "text": [
            "Accuracy Score: 0.4444444444444444\n"
          ]
        }
      ]
    },
    {
      "cell_type": "code",
      "source": [
        "ms2=mean_squared_error(y_test,y_predlr)\n",
        "rms2 = sqrt(ms2)\n",
        "print(\"Mean Squared Error is\",ms2)\n",
        "print(\"Root Mean Squared Error is\",rms2)"
      ],
      "metadata": {
        "id": "fgOgGBuUUTEN",
        "outputId": "e1c63de8-fbd2-455b-8f10-4ed5f2a9d7a3",
        "colab": {
          "base_uri": "https://localhost:8080/"
        }
      },
      "execution_count": 27,
      "outputs": [
        {
          "output_type": "stream",
          "name": "stdout",
          "text": [
            "Mean Squared Error is 0.7222222222222222\n",
            "Root Mean Squared Error is 0.8498365855987975\n"
          ]
        }
      ]
    },
    {
      "cell_type": "code",
      "source": [
        "class_report=classification_report(y_test, y_predlr)\n",
        "print(class_report)"
      ],
      "metadata": {
        "colab": {
          "base_uri": "https://localhost:8080/"
        },
        "id": "xPiLUxASeqew",
        "outputId": "d548e86a-6532-4d06-f976-ae1b895ab3cb"
      },
      "execution_count": 28,
      "outputs": [
        {
          "output_type": "stream",
          "name": "stdout",
          "text": [
            "              precision    recall  f1-score   support\n",
            "\n",
            "           2       0.00      0.00      0.00         4\n",
            "           3       0.42      0.83      0.56         6\n",
            "           4       0.50      0.33      0.40         6\n",
            "           5       0.00      0.00      0.00         1\n",
            "           6       1.00      1.00      1.00         1\n",
            "\n",
            "    accuracy                           0.44        18\n",
            "   macro avg       0.38      0.43      0.39        18\n",
            "weighted avg       0.36      0.44      0.37        18\n",
            "\n"
          ]
        },
        {
          "output_type": "stream",
          "name": "stderr",
          "text": [
            "/usr/local/lib/python3.7/dist-packages/sklearn/metrics/_classification.py:1318: UndefinedMetricWarning: Precision and F-score are ill-defined and being set to 0.0 in labels with no predicted samples. Use `zero_division` parameter to control this behavior.\n",
            "  _warn_prf(average, modifier, msg_start, len(result))\n",
            "/usr/local/lib/python3.7/dist-packages/sklearn/metrics/_classification.py:1318: UndefinedMetricWarning: Precision and F-score are ill-defined and being set to 0.0 in labels with no predicted samples. Use `zero_division` parameter to control this behavior.\n",
            "  _warn_prf(average, modifier, msg_start, len(result))\n",
            "/usr/local/lib/python3.7/dist-packages/sklearn/metrics/_classification.py:1318: UndefinedMetricWarning: Precision and F-score are ill-defined and being set to 0.0 in labels with no predicted samples. Use `zero_division` parameter to control this behavior.\n",
            "  _warn_prf(average, modifier, msg_start, len(result))\n"
          ]
        }
      ]
    },
    {
      "cell_type": "code",
      "source": [
        "plt.figure(figsize=(5,5))\n",
        "plt.scatter(y_test,y_predlr)\n",
        "plt.xlabel('Actual')\n",
        "plt.ylabel('Predicted')\n",
        "plt.title('Actual vs Predicted in Multinomial Logistic Regression')"
      ],
      "metadata": {
        "id": "E5JL9GnOIxZM",
        "outputId": "417d3e7f-58b0-496f-bfbc-31742e2b70f9",
        "colab": {
          "base_uri": "https://localhost:8080/",
          "height": 367
        }
      },
      "execution_count": 80,
      "outputs": [
        {
          "output_type": "execute_result",
          "data": {
            "text/plain": [
              "Text(0.5, 1.0, 'Actual vs Predicted in Multinomial Logistic Regression')"
            ]
          },
          "metadata": {},
          "execution_count": 80
        },
        {
          "output_type": "display_data",
          "data": {
            "text/plain": [
              "<Figure size 360x360 with 1 Axes>"
            ],
            "image/png": "[encoded data removed]"
          },
          "metadata": {
            "needs_background": "light"
          }
        }
      ]
    },
    {
      "cell_type": "code",
      "source": [
        "#applying standardisation\n",
        "#scaler=StandardScaler()"
      ],
      "metadata": {
        "id": "n1rHcCWNSviT"
      },
      "execution_count": 30,
      "outputs": []
    },
    {
      "cell_type": "code",
      "source": [
        "#x_train_s=scaler.fit_transform(x_train)\n",
        "#x_test_s=scaler.transform(x_test)"
      ],
      "metadata": {
        "id": "24pfI4KVVFfL"
      },
      "execution_count": 31,
      "outputs": []
    },
    {
      "cell_type": "code",
      "source": [
        "#lr.fit(x_train,y_train)"
      ],
      "metadata": {
        "id": "xpvgqcqUVSpN"
      },
      "execution_count": 32,
      "outputs": []
    },
    {
      "cell_type": "code",
      "source": [
        "#y_predlr2=lr.predict(x_test_s)"
      ],
      "metadata": {
        "id": "0OUpxMl5VcYv"
      },
      "execution_count": 33,
      "outputs": []
    },
    {
      "cell_type": "code",
      "source": [
        "#lr.score(x_test_s,y_test)"
      ],
      "metadata": {
        "id": "_376RS2YVnhN"
      },
      "execution_count": 34,
      "outputs": []
    },
    {
      "cell_type": "markdown",
      "source": [
        "**Naive Bayes**"
      ],
      "metadata": {
        "id": "1jYsLpf5bhPh"
      }
    },
    {
      "cell_type": "code",
      "source": [
        "x_train"
      ],
      "metadata": {
        "colab": {
          "base_uri": "https://localhost:8080/"
        },
        "id": "WZN0L6v2bqcI",
        "outputId": "697ddf89-d5f5-437a-a450-40ada111e6a6"
      },
      "execution_count": 35,
      "outputs": [
        {
          "output_type": "execute_result",
          "data": {
            "text/plain": [
              "array([[ 1.   , 32.   , -0.125],\n",
              "       [ 0.   , 21.   , -0.5  ],\n",
              "       [ 1.   , 20.   , -1.5  ],\n",
              "       [ 1.   , 25.   , -2.   ],\n",
              "       [ 1.   , 35.   ,  0.125],\n",
              "       [ 1.   , 26.   ,  3.625],\n",
              "       [ 0.   , 26.   , -4.25 ],\n",
              "       [ 0.   , 28.   ,  2.875],\n",
              "       [ 0.   , 22.   ,  0.75 ],\n",
              "       [ 0.   , 19.   ,  0.   ],\n",
              "       [ 0.   , 28.   , -1.5  ],\n",
              "       [ 0.   , 30.   , 11.   ],\n",
              "       [ 1.   , 24.   , -1.625],\n",
              "       [ 1.   , 21.   , -2.375],\n",
              "       [ 1.   , 40.   , -0.125],\n",
              "       [ 0.   , 24.   , -0.25 ],\n",
              "       [ 1.   , 18.   ,  0.   ],\n",
              "       [ 1.   , 21.   ,  1.75 ],\n",
              "       [ 1.   , 23.   , -2.   ],\n",
              "       [ 1.   , 20.   , -5.375],\n",
              "       [ 1.   , 32.   , -1.25 ],\n",
              "       [ 1.   , 21.   , -1.25 ],\n",
              "       [ 0.   , 30.   ,  0.375],\n",
              "       [ 0.   , 21.   ,  0.625],\n",
              "       [ 0.   , 25.   ,  0.625],\n",
              "       [ 1.   , 26.   , -0.5  ],\n",
              "       [ 1.   , 28.   , -0.375],\n",
              "       [ 1.   , 35.   ,  0.75 ],\n",
              "       [ 0.   , 25.   ,  0.25 ],\n",
              "       [ 1.   , 22.   , 18.875],\n",
              "       [ 0.   , 36.   ,  1.75 ],\n",
              "       [ 0.   , 32.   , -0.5  ],\n",
              "       [ 0.   , 32.   , -0.375],\n",
              "       [ 1.   , 37.   , -0.25 ],\n",
              "       [ 0.   , 29.   ,  0.25 ],\n",
              "       [ 0.   , 36.   ,  5.375],\n",
              "       [ 1.   , 43.   ,  2.375],\n",
              "       [ 0.   , 26.   , -3.5  ],\n",
              "       [ 1.   , 18.   , -4.25 ],\n",
              "       [ 1.   , 35.   , -2.75 ],\n",
              "       [ 1.   , 22.   , -1.5  ]])"
            ]
          },
          "metadata": {},
          "execution_count": 35
        }
      ]
    },
    {
      "cell_type": "code",
      "source": [
        "from sklearn.naive_bayes import GaussianNB\n",
        "modelnb=GaussianNB()"
      ],
      "metadata": {
        "id": "GH2ejDa2bv1s"
      },
      "execution_count": 36,
      "outputs": []
    },
    {
      "cell_type": "code",
      "source": [
        "nv=modelnb.fit(x_train,y_train)"
      ],
      "metadata": {
        "id": "-VmoM2ttcHuJ"
      },
      "execution_count": 37,
      "outputs": []
    },
    {
      "cell_type": "code",
      "source": [
        "y_nv=nv.predict(x_test)"
      ],
      "metadata": {
        "id": "wKdPwQwEfMFw"
      },
      "execution_count": 38,
      "outputs": []
    },
    {
      "cell_type": "code",
      "source": [
        "modelnb.score(x_test,y_test)"
      ],
      "metadata": {
        "colab": {
          "base_uri": "https://localhost:8080/"
        },
        "id": "Oz4i7Q26cT76",
        "outputId": "5ec87960-b436-4ea6-f8e0-0cb35b02cb69"
      },
      "execution_count": 39,
      "outputs": [
        {
          "output_type": "execute_result",
          "data": {
            "text/plain": [
              "0.7222222222222222"
            ]
          },
          "metadata": {},
          "execution_count": 39
        }
      ]
    },
    {
      "cell_type": "code",
      "source": [
        "print('Accuracy Score:', metrics.accuracy_score(y_test, y_nv))  \n",
        "m3=metrics.accuracy_score(y_test, y_nv)"
      ],
      "metadata": {
        "colab": {
          "base_uri": "https://localhost:8080/"
        },
        "id": "BhSUPy7JeBtt",
        "outputId": "4b4d02b2-e074-4f17-f43c-1de3c6d88913"
      },
      "execution_count": 40,
      "outputs": [
        {
          "output_type": "stream",
          "name": "stdout",
          "text": [
            "Accuracy Score: 0.7222222222222222\n"
          ]
        }
      ]
    },
    {
      "cell_type": "code",
      "source": [
        "ms3=mean_squared_error(y_test,y_nv)\n",
        "rms3 = sqrt(ms3)\n",
        "print(\"Mean Squared Error is\",ms3)\n",
        "print(\"Root Mean Squared Error is\",rms3)"
      ],
      "metadata": {
        "id": "fM1Rf9U1VfsG",
        "outputId": "0985ffff-0274-421d-c111-606e3fc490b8",
        "colab": {
          "base_uri": "https://localhost:8080/"
        }
      },
      "execution_count": 41,
      "outputs": [
        {
          "output_type": "stream",
          "name": "stdout",
          "text": [
            "Mean Squared Error is 0.2777777777777778\n",
            "Root Mean Squared Error is 0.5270462766947299\n"
          ]
        }
      ]
    },
    {
      "cell_type": "code",
      "source": [
        "class_report=classification_report(y_test, y_nv)\n",
        "print(class_report)"
      ],
      "metadata": {
        "colab": {
          "base_uri": "https://localhost:8080/"
        },
        "id": "PfHH06qLimn2",
        "outputId": "6aa6c036-3153-455e-994a-d4335ab00f23"
      },
      "execution_count": 42,
      "outputs": [
        {
          "output_type": "stream",
          "name": "stdout",
          "text": [
            "              precision    recall  f1-score   support\n",
            "\n",
            "           2       0.80      1.00      0.89         4\n",
            "           3       0.62      0.83      0.71         6\n",
            "           4       0.75      0.50      0.60         6\n",
            "           5       0.00      0.00      0.00         1\n",
            "           6       1.00      1.00      1.00         1\n",
            "\n",
            "    accuracy                           0.72        18\n",
            "   macro avg       0.64      0.67      0.64        18\n",
            "weighted avg       0.69      0.72      0.69        18\n",
            "\n"
          ]
        },
        {
          "output_type": "stream",
          "name": "stderr",
          "text": [
            "/usr/local/lib/python3.7/dist-packages/sklearn/metrics/_classification.py:1318: UndefinedMetricWarning: Precision and F-score are ill-defined and being set to 0.0 in labels with no predicted samples. Use `zero_division` parameter to control this behavior.\n",
            "  _warn_prf(average, modifier, msg_start, len(result))\n",
            "/usr/local/lib/python3.7/dist-packages/sklearn/metrics/_classification.py:1318: UndefinedMetricWarning: Precision and F-score are ill-defined and being set to 0.0 in labels with no predicted samples. Use `zero_division` parameter to control this behavior.\n",
            "  _warn_prf(average, modifier, msg_start, len(result))\n",
            "/usr/local/lib/python3.7/dist-packages/sklearn/metrics/_classification.py:1318: UndefinedMetricWarning: Precision and F-score are ill-defined and being set to 0.0 in labels with no predicted samples. Use `zero_division` parameter to control this behavior.\n",
            "  _warn_prf(average, modifier, msg_start, len(result))\n"
          ]
        }
      ]
    },
    {
      "cell_type": "code",
      "source": [
        "x_test"
      ],
      "metadata": {
        "colab": {
          "base_uri": "https://localhost:8080/"
        },
        "id": "LUspiUDEdlEN",
        "outputId": "9c97a06a-ecdb-4b14-9581-c5561b0e1a1e"
      },
      "execution_count": 43,
      "outputs": [
        {
          "output_type": "execute_result",
          "data": {
            "text/plain": [
              "array([[ 0.   , 31.   ,  0.375],\n",
              "       [ 0.   , 29.   , -0.625],\n",
              "       [ 1.   , 30.   ,  5.375],\n",
              "       [ 0.   , 36.   ,  0.   ],\n",
              "       [ 1.   , 25.   ,  0.125],\n",
              "       [ 1.   , 41.   , -1.375],\n",
              "       [ 1.   , 36.   , -1.625],\n",
              "       [ 0.   , 40.   , -0.375],\n",
              "       [ 1.   , 25.   , -1.   ],\n",
              "       [ 0.   , 28.   , -0.25 ],\n",
              "       [ 1.   , 32.   , -1.125],\n",
              "       [ 0.   , 36.   ,  0.625],\n",
              "       [ 1.   , 57.   , -0.125],\n",
              "       [ 1.   , 20.   ,  0.375],\n",
              "       [ 0.   , 37.   , -0.125],\n",
              "       [ 0.   , 31.   ,  1.5  ],\n",
              "       [ 0.   , 31.   ,  0.   ],\n",
              "       [ 0.   , 22.   , -1.375]])"
            ]
          },
          "metadata": {},
          "execution_count": 43
        }
      ]
    },
    {
      "cell_type": "code",
      "source": [
        "y_test"
      ],
      "metadata": {
        "colab": {
          "base_uri": "https://localhost:8080/"
        },
        "id": "APfTquA1db2R",
        "outputId": "347ea179-2958-480d-9ce6-971575aae8c3"
      },
      "execution_count": 44,
      "outputs": [
        {
          "output_type": "execute_result",
          "data": {
            "text/plain": [
              "array([4, 3, 6, 4, 4, 2, 2, 3, 3, 3, 2, 4, 3, 4, 3, 5, 4, 2])"
            ]
          },
          "metadata": {},
          "execution_count": 44
        }
      ]
    },
    {
      "cell_type": "code",
      "source": [
        "modelnb.predict(x_test)"
      ],
      "metadata": {
        "colab": {
          "base_uri": "https://localhost:8080/"
        },
        "id": "lmrSR7K7deqt",
        "outputId": "32fbb403-1322-4b59-e08f-d23ce78ebbe2"
      },
      "execution_count": 45,
      "outputs": [
        {
          "output_type": "execute_result",
          "data": {
            "text/plain": [
              "array([4, 3, 6, 3, 3, 2, 2, 3, 2, 3, 2, 4, 3, 4, 3, 4, 3, 2])"
            ]
          },
          "metadata": {},
          "execution_count": 45
        }
      ]
    },
    {
      "cell_type": "code",
      "source": [
        "plt.figure(figsize=(5,5))\n",
        "plt.scatter(y_test,y_nv)\n",
        "plt.xlabel('Actual')\n",
        "plt.ylabel('Predicted')\n",
        "plt.title('Actual vs Predicted using Naive Bayes')"
      ],
      "metadata": {
        "id": "vZC6NvybKmrA",
        "outputId": "1e8e72f4-a5e2-4f1f-9adb-12dd1872bdff",
        "colab": {
          "base_uri": "https://localhost:8080/",
          "height": 367
        }
      },
      "execution_count": 81,
      "outputs": [
        {
          "output_type": "execute_result",
          "data": {
            "text/plain": [
              "Text(0.5, 1.0, 'Actual vs Predicted using Naive Bayes')"
            ]
          },
          "metadata": {},
          "execution_count": 81
        },
        {
          "output_type": "display_data",
          "data": {
            "text/plain": [
              "<Figure size 360x360 with 1 Axes>"
            ],
            "image/png": "[encoded data removed]"
          },
          "metadata": {
            "needs_background": "light"
          }
        }
      ]
    },
    {
      "cell_type": "markdown",
      "source": [
        "**K-Nearest Neighbours(KNN algorithm)**"
      ],
      "metadata": {
        "id": "v8cBIWwhgAI0"
      }
    },
    {
      "cell_type": "code",
      "source": [
        "#Scaling imp here else 0.33\n",
        "from sklearn.preprocessing import StandardScaler\n",
        "scaler=StandardScaler()\n",
        "scaler.fit(x_train)\n",
        "x_trainsc=scaler.transform(x_train)\n",
        "x_testsc=scaler.transform(x_test)"
      ],
      "metadata": {
        "id": "joDqeMAKgOqP"
      },
      "execution_count": 46,
      "outputs": []
    },
    {
      "cell_type": "code",
      "source": [
        "from sklearn.neighbors import KNeighborsClassifier\n",
        "classifier=KNeighborsClassifier(n_neighbors=5)\n",
        "classifier.fit(x_trainsc,y_train)"
      ],
      "metadata": {
        "colab": {
          "base_uri": "https://localhost:8080/"
        },
        "id": "iv23_W7chTdS",
        "outputId": "ef21b8e1-fc63-489f-ef6d-0be291733e52"
      },
      "execution_count": 47,
      "outputs": [
        {
          "output_type": "execute_result",
          "data": {
            "text/plain": [
              "KNeighborsClassifier()"
            ]
          },
          "metadata": {},
          "execution_count": 47
        }
      ]
    },
    {
      "cell_type": "code",
      "source": [
        "classifier.score(x_testsc,y_test)\n"
      ],
      "metadata": {
        "colab": {
          "base_uri": "https://localhost:8080/"
        },
        "id": "4jrGxtu5lpN6",
        "outputId": "61207cb6-7447-42af-b879-a8c81635de07"
      },
      "execution_count": 48,
      "outputs": [
        {
          "output_type": "execute_result",
          "data": {
            "text/plain": [
              "0.3333333333333333"
            ]
          },
          "metadata": {},
          "execution_count": 48
        }
      ]
    },
    {
      "cell_type": "code",
      "source": [
        "y_predknn=classifier.predict(x_testsc)"
      ],
      "metadata": {
        "id": "Jw5IjvijiUQm"
      },
      "execution_count": 49,
      "outputs": []
    },
    {
      "cell_type": "code",
      "source": [
        "m4=metrics.accuracy_score(y_test, y_predknn)\n",
        "m4"
      ],
      "metadata": {
        "id": "aseGsjnqEjLv",
        "outputId": "1c221270-2d39-43db-a291-25d4f083b6f3",
        "colab": {
          "base_uri": "https://localhost:8080/"
        }
      },
      "execution_count": 50,
      "outputs": [
        {
          "output_type": "execute_result",
          "data": {
            "text/plain": [
              "0.3333333333333333"
            ]
          },
          "metadata": {},
          "execution_count": 50
        }
      ]
    },
    {
      "cell_type": "code",
      "source": [
        "ms4=mean_squared_error(y_test,y_predknn)\n",
        "rms4 = sqrt(ms4)\n",
        "print(\"Mean Squared Error is\",ms4)\n",
        "print(\"Root Mean Squared Error is\",rms4)"
      ],
      "metadata": {
        "id": "uR0pZD1oWaeE",
        "outputId": "d92e21e4-f5e0-43dc-a993-5aa3062f4bc7",
        "colab": {
          "base_uri": "https://localhost:8080/"
        }
      },
      "execution_count": 51,
      "outputs": [
        {
          "output_type": "stream",
          "name": "stdout",
          "text": [
            "Mean Squared Error is 1.7777777777777777\n",
            "Root Mean Squared Error is 1.3333333333333333\n"
          ]
        }
      ]
    },
    {
      "cell_type": "code",
      "source": [
        "\n",
        "print(classification_report(y_test,y_predknn))\n",
        "print(confusion_matrix(y_test,y_predknn))"
      ],
      "metadata": {
        "colab": {
          "base_uri": "https://localhost:8080/"
        },
        "id": "vU-QAV9Iin-6",
        "outputId": "e9f6e906-e242-48e2-86dc-65e88714341d"
      },
      "execution_count": 52,
      "outputs": [
        {
          "output_type": "stream",
          "name": "stdout",
          "text": [
            "              precision    recall  f1-score   support\n",
            "\n",
            "           2       0.40      0.50      0.44         4\n",
            "           3       0.36      0.67      0.47         6\n",
            "           4       0.00      0.00      0.00         6\n",
            "           5       0.00      0.00      0.00         1\n",
            "           6       0.00      0.00      0.00         1\n",
            "\n",
            "    accuracy                           0.33        18\n",
            "   macro avg       0.15      0.23      0.18        18\n",
            "weighted avg       0.21      0.33      0.26        18\n",
            "\n",
            "[[2 1 1 0 0]\n",
            " [1 4 1 0 0]\n",
            " [2 4 0 0 0]\n",
            " [0 1 0 0 0]\n",
            " [0 1 0 0 0]]\n"
          ]
        },
        {
          "output_type": "stream",
          "name": "stderr",
          "text": [
            "/usr/local/lib/python3.7/dist-packages/sklearn/metrics/_classification.py:1318: UndefinedMetricWarning: Precision and F-score are ill-defined and being set to 0.0 in labels with no predicted samples. Use `zero_division` parameter to control this behavior.\n",
            "  _warn_prf(average, modifier, msg_start, len(result))\n",
            "/usr/local/lib/python3.7/dist-packages/sklearn/metrics/_classification.py:1318: UndefinedMetricWarning: Precision and F-score are ill-defined and being set to 0.0 in labels with no predicted samples. Use `zero_division` parameter to control this behavior.\n",
            "  _warn_prf(average, modifier, msg_start, len(result))\n",
            "/usr/local/lib/python3.7/dist-packages/sklearn/metrics/_classification.py:1318: UndefinedMetricWarning: Precision and F-score are ill-defined and being set to 0.0 in labels with no predicted samples. Use `zero_division` parameter to control this behavior.\n",
            "  _warn_prf(average, modifier, msg_start, len(result))\n"
          ]
        }
      ]
    },
    {
      "cell_type": "code",
      "source": [
        "plt.figure(figsize=(5,5))\n",
        "plt.scatter(y_test,y_predknn)\n",
        "plt.xlabel('Actual')\n",
        "plt.ylabel('Predicted')\n",
        "plt.title('Actual vs Predicted using KNN')"
      ],
      "metadata": {
        "id": "QxXhoiVlLNLk",
        "outputId": "a50201f9-71d5-4b88-d535-0ab3615e024a",
        "colab": {
          "base_uri": "https://localhost:8080/",
          "height": 367
        }
      },
      "execution_count": 82,
      "outputs": [
        {
          "output_type": "execute_result",
          "data": {
            "text/plain": [
              "Text(0.5, 1.0, 'Actual vs Predicted using KNN')"
            ]
          },
          "metadata": {},
          "execution_count": 82
        },
        {
          "output_type": "display_data",
          "data": {
            "text/plain": [
              "<Figure size 360x360 with 1 Axes>"
            ],
            "image/png": "[encoded data removed]"
          },
          "metadata": {
            "needs_background": "light"
          }
        }
      ]
    },
    {
      "cell_type": "markdown",
      "source": [
        "**Decision Tree**"
      ],
      "metadata": {
        "id": "MdrcXV8A-xFI"
      }
    },
    {
      "cell_type": "code",
      "source": [
        "x_train"
      ],
      "metadata": {
        "colab": {
          "base_uri": "https://localhost:8080/"
        },
        "id": "pSS6oRne-y7v",
        "outputId": "946e8411-e85e-426a-de3e-f97320f42d9a"
      },
      "execution_count": 53,
      "outputs": [
        {
          "output_type": "execute_result",
          "data": {
            "text/plain": [
              "array([[ 1.   , 32.   , -0.125],\n",
              "       [ 0.   , 21.   , -0.5  ],\n",
              "       [ 1.   , 20.   , -1.5  ],\n",
              "       [ 1.   , 25.   , -2.   ],\n",
              "       [ 1.   , 35.   ,  0.125],\n",
              "       [ 1.   , 26.   ,  3.625],\n",
              "       [ 0.   , 26.   , -4.25 ],\n",
              "       [ 0.   , 28.   ,  2.875],\n",
              "       [ 0.   , 22.   ,  0.75 ],\n",
              "       [ 0.   , 19.   ,  0.   ],\n",
              "       [ 0.   , 28.   , -1.5  ],\n",
              "       [ 0.   , 30.   , 11.   ],\n",
              "       [ 1.   , 24.   , -1.625],\n",
              "       [ 1.   , 21.   , -2.375],\n",
              "       [ 1.   , 40.   , -0.125],\n",
              "       [ 0.   , 24.   , -0.25 ],\n",
              "       [ 1.   , 18.   ,  0.   ],\n",
              "       [ 1.   , 21.   ,  1.75 ],\n",
              "       [ 1.   , 23.   , -2.   ],\n",
              "       [ 1.   , 20.   , -5.375],\n",
              "       [ 1.   , 32.   , -1.25 ],\n",
              "       [ 1.   , 21.   , -1.25 ],\n",
              "       [ 0.   , 30.   ,  0.375],\n",
              "       [ 0.   , 21.   ,  0.625],\n",
              "       [ 0.   , 25.   ,  0.625],\n",
              "       [ 1.   , 26.   , -0.5  ],\n",
              "       [ 1.   , 28.   , -0.375],\n",
              "       [ 1.   , 35.   ,  0.75 ],\n",
              "       [ 0.   , 25.   ,  0.25 ],\n",
              "       [ 1.   , 22.   , 18.875],\n",
              "       [ 0.   , 36.   ,  1.75 ],\n",
              "       [ 0.   , 32.   , -0.5  ],\n",
              "       [ 0.   , 32.   , -0.375],\n",
              "       [ 1.   , 37.   , -0.25 ],\n",
              "       [ 0.   , 29.   ,  0.25 ],\n",
              "       [ 0.   , 36.   ,  5.375],\n",
              "       [ 1.   , 43.   ,  2.375],\n",
              "       [ 0.   , 26.   , -3.5  ],\n",
              "       [ 1.   , 18.   , -4.25 ],\n",
              "       [ 1.   , 35.   , -2.75 ],\n",
              "       [ 1.   , 22.   , -1.5  ]])"
            ]
          },
          "metadata": {},
          "execution_count": 53
        }
      ]
    },
    {
      "cell_type": "code",
      "source": [
        "#importing decision tree classifier\n",
        "from sklearn.tree import DecisionTreeClassifier"
      ],
      "metadata": {
        "id": "DHkh-oNZ_1PT"
      },
      "execution_count": 54,
      "outputs": []
    },
    {
      "cell_type": "code",
      "source": [
        "#importing decision tree regressor\n",
        "from sklearn.tree import DecisionTreeRegressor"
      ],
      "metadata": {
        "id": "DK-8tkkZADlR"
      },
      "execution_count": 55,
      "outputs": []
    },
    {
      "cell_type": "code",
      "source": [
        "#creating decision tree function\n",
        "dt=DecisionTreeClassifier(random_state=42)"
      ],
      "metadata": {
        "id": "j-1XKY0BANyD"
      },
      "execution_count": 56,
      "outputs": []
    },
    {
      "cell_type": "code",
      "source": [
        "#fitting model\n",
        "dt.fit(x_train,y_train)"
      ],
      "metadata": {
        "colab": {
          "base_uri": "https://localhost:8080/"
        },
        "id": "3rrILZhLAdJb",
        "outputId": "f7e4a5a1-e69b-4bb7-e96b-38fa9aaadd03"
      },
      "execution_count": 57,
      "outputs": [
        {
          "output_type": "execute_result",
          "data": {
            "text/plain": [
              "DecisionTreeClassifier(random_state=42)"
            ]
          },
          "metadata": {},
          "execution_count": 57
        }
      ]
    },
    {
      "cell_type": "code",
      "source": [
        "#checking training score\n",
        "dt.score(x_train,y_train)"
      ],
      "metadata": {
        "colab": {
          "base_uri": "https://localhost:8080/"
        },
        "id": "J_bSAtxTAnkm",
        "outputId": "091dc5af-d921-4f5b-d390-fe525bff4a57"
      },
      "execution_count": 58,
      "outputs": [
        {
          "output_type": "execute_result",
          "data": {
            "text/plain": [
              "1.0"
            ]
          },
          "metadata": {},
          "execution_count": 58
        }
      ]
    },
    {
      "cell_type": "code",
      "source": [
        "#checking testing score\n",
        "y_preddt=dt.predict(x_test)"
      ],
      "metadata": {
        "id": "YCe46ZllA4qi"
      },
      "execution_count": 59,
      "outputs": []
    },
    {
      "cell_type": "code",
      "source": [
        "from sklearn import metrics\n",
        "m5=metrics.accuracy_score(y_test,y_preddt)\n",
        "metrics.accuracy_score(y_test,y_preddt)\n"
      ],
      "metadata": {
        "colab": {
          "base_uri": "https://localhost:8080/"
        },
        "id": "Vmc2uD9sBD1Q",
        "outputId": "9d1baf84-1bbe-4e04-ce58-ebdfa88e7158"
      },
      "execution_count": 60,
      "outputs": [
        {
          "output_type": "execute_result",
          "data": {
            "text/plain": [
              "0.7777777777777778"
            ]
          },
          "metadata": {},
          "execution_count": 60
        }
      ]
    },
    {
      "cell_type": "code",
      "source": [
        "ms5=mean_squared_error(y_test,y_preddt)\n",
        "rms5 = sqrt(ms5)\n",
        "print(\"Mean Squared Error is\",ms5)\n",
        "print(\"Root Mean Squared Error is\",rms5)"
      ],
      "metadata": {
        "id": "p5r6m2stXTE4",
        "outputId": "2b38809c-1a06-465d-ddd5-9d56abecefcd",
        "colab": {
          "base_uri": "https://localhost:8080/"
        }
      },
      "execution_count": 61,
      "outputs": [
        {
          "output_type": "stream",
          "name": "stdout",
          "text": [
            "Mean Squared Error is 0.2222222222222222\n",
            "Root Mean Squared Error is 0.4714045207910317\n"
          ]
        }
      ]
    },
    {
      "cell_type": "code",
      "source": [
        "print(classification_report(y_test,y_preddt))"
      ],
      "metadata": {
        "colab": {
          "base_uri": "https://localhost:8080/"
        },
        "id": "vqhgyXolOidd",
        "outputId": "1f30bc71-d3e0-4aa4-b9cb-a4579573141d"
      },
      "execution_count": 62,
      "outputs": [
        {
          "output_type": "stream",
          "name": "stdout",
          "text": [
            "              precision    recall  f1-score   support\n",
            "\n",
            "           2       0.80      1.00      0.89         4\n",
            "           3       1.00      0.83      0.91         6\n",
            "           4       0.80      0.67      0.73         6\n",
            "           5       0.00      0.00      0.00         1\n",
            "           6       1.00      1.00      1.00         1\n",
            "\n",
            "    accuracy                           0.78        18\n",
            "   macro avg       0.72      0.70      0.71        18\n",
            "weighted avg       0.83      0.78      0.80        18\n",
            "\n"
          ]
        }
      ]
    },
    {
      "cell_type": "code",
      "source": [
        "plt.figure(figsize=(5,5))\n",
        "plt.scatter(y_test,y_preddt)\n",
        "plt.xlabel('Actual')\n",
        "plt.ylabel('Predicted')\n",
        "plt.title('Actual vs Predicted using Decision Tree')"
      ],
      "metadata": {
        "id": "Ic4ApLs8Lcyt",
        "outputId": "194e6660-6c62-4f58-9944-e2a9e8a8dbb1",
        "colab": {
          "base_uri": "https://localhost:8080/",
          "height": 367
        }
      },
      "execution_count": 83,
      "outputs": [
        {
          "output_type": "execute_result",
          "data": {
            "text/plain": [
              "Text(0.5, 1.0, 'Actual vs Predicted using Decision Tree')"
            ]
          },
          "metadata": {},
          "execution_count": 83
        },
        {
          "output_type": "display_data",
          "data": {
            "text/plain": [
              "<Figure size 360x360 with 1 Axes>"
            ],
            "image/png": "[encoded data removed]"
          },
          "metadata": {
            "needs_background": "light"
          }
        }
      ]
    },
    {
      "cell_type": "markdown",
      "source": [
        "**Random Forest**"
      ],
      "metadata": {
        "id": "njfRjXheKdgQ"
      }
    },
    {
      "cell_type": "code",
      "source": [
        "x_train"
      ],
      "metadata": {
        "colab": {
          "base_uri": "https://localhost:8080/"
        },
        "id": "s0cAlafrKka-",
        "outputId": "87f12662-fc2e-48c8-9d3f-f38d1eaa0937"
      },
      "execution_count": 63,
      "outputs": [
        {
          "output_type": "execute_result",
          "data": {
            "text/plain": [
              "array([[ 1.   , 32.   , -0.125],\n",
              "       [ 0.   , 21.   , -0.5  ],\n",
              "       [ 1.   , 20.   , -1.5  ],\n",
              "       [ 1.   , 25.   , -2.   ],\n",
              "       [ 1.   , 35.   ,  0.125],\n",
              "       [ 1.   , 26.   ,  3.625],\n",
              "       [ 0.   , 26.   , -4.25 ],\n",
              "       [ 0.   , 28.   ,  2.875],\n",
              "       [ 0.   , 22.   ,  0.75 ],\n",
              "       [ 0.   , 19.   ,  0.   ],\n",
              "       [ 0.   , 28.   , -1.5  ],\n",
              "       [ 0.   , 30.   , 11.   ],\n",
              "       [ 1.   , 24.   , -1.625],\n",
              "       [ 1.   , 21.   , -2.375],\n",
              "       [ 1.   , 40.   , -0.125],\n",
              "       [ 0.   , 24.   , -0.25 ],\n",
              "       [ 1.   , 18.   ,  0.   ],\n",
              "       [ 1.   , 21.   ,  1.75 ],\n",
              "       [ 1.   , 23.   , -2.   ],\n",
              "       [ 1.   , 20.   , -5.375],\n",
              "       [ 1.   , 32.   , -1.25 ],\n",
              "       [ 1.   , 21.   , -1.25 ],\n",
              "       [ 0.   , 30.   ,  0.375],\n",
              "       [ 0.   , 21.   ,  0.625],\n",
              "       [ 0.   , 25.   ,  0.625],\n",
              "       [ 1.   , 26.   , -0.5  ],\n",
              "       [ 1.   , 28.   , -0.375],\n",
              "       [ 1.   , 35.   ,  0.75 ],\n",
              "       [ 0.   , 25.   ,  0.25 ],\n",
              "       [ 1.   , 22.   , 18.875],\n",
              "       [ 0.   , 36.   ,  1.75 ],\n",
              "       [ 0.   , 32.   , -0.5  ],\n",
              "       [ 0.   , 32.   , -0.375],\n",
              "       [ 1.   , 37.   , -0.25 ],\n",
              "       [ 0.   , 29.   ,  0.25 ],\n",
              "       [ 0.   , 36.   ,  5.375],\n",
              "       [ 1.   , 43.   ,  2.375],\n",
              "       [ 0.   , 26.   , -3.5  ],\n",
              "       [ 1.   , 18.   , -4.25 ],\n",
              "       [ 1.   , 35.   , -2.75 ],\n",
              "       [ 1.   , 22.   , -1.5  ]])"
            ]
          },
          "metadata": {},
          "execution_count": 63
        }
      ]
    },
    {
      "cell_type": "code",
      "source": [
        "from sklearn.ensemble import RandomForestClassifier\n",
        "rf=RandomForestClassifier(random_state=42)\n",
        "rf.fit(x_train,y_train)"
      ],
      "metadata": {
        "colab": {
          "base_uri": "https://localhost:8080/"
        },
        "id": "54-jrK6JKrfD",
        "outputId": "ebf56c1d-6b85-42d7-9f60-40bfa7c45b21"
      },
      "execution_count": 64,
      "outputs": [
        {
          "output_type": "execute_result",
          "data": {
            "text/plain": [
              "RandomForestClassifier(random_state=42)"
            ]
          },
          "metadata": {},
          "execution_count": 64
        }
      ]
    },
    {
      "cell_type": "code",
      "source": [
        "rf.predict(x_test)"
      ],
      "metadata": {
        "colab": {
          "base_uri": "https://localhost:8080/"
        },
        "id": "UkGz4LNxNvat",
        "outputId": "3c68dc17-7f06-462b-a685-d37a01737239"
      },
      "execution_count": 65,
      "outputs": [
        {
          "output_type": "execute_result",
          "data": {
            "text/plain": [
              "array([4, 3, 6, 3, 4, 2, 2, 3, 2, 3, 2, 4, 3, 4, 3, 4, 4, 2])"
            ]
          },
          "metadata": {},
          "execution_count": 65
        }
      ]
    },
    {
      "cell_type": "code",
      "source": [
        "y_predrf=rf.predict(x_test)"
      ],
      "metadata": {
        "id": "B8K2s9VqK6sx"
      },
      "execution_count": 66,
      "outputs": []
    },
    {
      "cell_type": "code",
      "source": [
        "from sklearn.metrics import accuracy_score,classification_report\n",
        "m6=accuracy_score(y_test,y_predrf)\n",
        "accuracy_score(y_test,y_predrf)\n"
      ],
      "metadata": {
        "colab": {
          "base_uri": "https://localhost:8080/"
        },
        "id": "EaReoqmfLIo3",
        "outputId": "52d1cd90-0ed7-4a97-f4a4-4c806807d552"
      },
      "execution_count": 67,
      "outputs": [
        {
          "output_type": "execute_result",
          "data": {
            "text/plain": [
              "0.8333333333333334"
            ]
          },
          "metadata": {},
          "execution_count": 67
        }
      ]
    },
    {
      "cell_type": "code",
      "source": [
        "ms6=mean_squared_error(y_test,y_predrf)\n",
        "rms6 = sqrt(ms6)\n",
        "print(\"Mean Squared Error is\",ms6)\n",
        "print(\"Root Mean Squared Error is\",rms6)"
      ],
      "metadata": {
        "id": "YuAXoIj4XkMZ",
        "outputId": "eafc050c-a352-43f5-c32f-08237dd3e3e4",
        "colab": {
          "base_uri": "https://localhost:8080/"
        }
      },
      "execution_count": 68,
      "outputs": [
        {
          "output_type": "stream",
          "name": "stdout",
          "text": [
            "Mean Squared Error is 0.16666666666666666\n",
            "Root Mean Squared Error is 0.408248290463863\n"
          ]
        }
      ]
    },
    {
      "cell_type": "code",
      "source": [
        "print(classification_report(y_test,y_predrf))"
      ],
      "metadata": {
        "colab": {
          "base_uri": "https://localhost:8080/"
        },
        "id": "PNjTgLDTMS7k",
        "outputId": "588c8563-6e30-4a53-8384-45472225df8b"
      },
      "execution_count": 69,
      "outputs": [
        {
          "output_type": "stream",
          "name": "stdout",
          "text": [
            "              precision    recall  f1-score   support\n",
            "\n",
            "           2       0.80      1.00      0.89         4\n",
            "           3       0.83      0.83      0.83         6\n",
            "           4       0.83      0.83      0.83         6\n",
            "           5       0.00      0.00      0.00         1\n",
            "           6       1.00      1.00      1.00         1\n",
            "\n",
            "    accuracy                           0.83        18\n",
            "   macro avg       0.69      0.73      0.71        18\n",
            "weighted avg       0.79      0.83      0.81        18\n",
            "\n"
          ]
        },
        {
          "output_type": "stream",
          "name": "stderr",
          "text": [
            "/usr/local/lib/python3.7/dist-packages/sklearn/metrics/_classification.py:1318: UndefinedMetricWarning: Precision and F-score are ill-defined and being set to 0.0 in labels with no predicted samples. Use `zero_division` parameter to control this behavior.\n",
            "  _warn_prf(average, modifier, msg_start, len(result))\n",
            "/usr/local/lib/python3.7/dist-packages/sklearn/metrics/_classification.py:1318: UndefinedMetricWarning: Precision and F-score are ill-defined and being set to 0.0 in labels with no predicted samples. Use `zero_division` parameter to control this behavior.\n",
            "  _warn_prf(average, modifier, msg_start, len(result))\n",
            "/usr/local/lib/python3.7/dist-packages/sklearn/metrics/_classification.py:1318: UndefinedMetricWarning: Precision and F-score are ill-defined and being set to 0.0 in labels with no predicted samples. Use `zero_division` parameter to control this behavior.\n",
            "  _warn_prf(average, modifier, msg_start, len(result))\n"
          ]
        }
      ]
    },
    {
      "cell_type": "code",
      "source": [
        "plt.figure(figsize=(5,5))\n",
        "plt.scatter(y_test,y_predrf)\n",
        "plt.xlabel('Actual')\n",
        "plt.ylabel('Predicted')\n",
        "plt.title('Actual vs Predicted using Random Forest')"
      ],
      "metadata": {
        "id": "oi34G7jQOMz1",
        "colab": {
          "base_uri": "https://localhost:8080/",
          "height": 367
        },
        "outputId": "11ca6f93-515c-4a46-ad6e-2b1ee5aaebea"
      },
      "execution_count": 85,
      "outputs": [
        {
          "output_type": "execute_result",
          "data": {
            "text/plain": [
              "Text(0.5, 1.0, 'Actual vs Predicted using Random Forest')"
            ]
          },
          "metadata": {},
          "execution_count": 85
        },
        {
          "output_type": "display_data",
          "data": {
            "text/plain": [
              "<Figure size 360x360 with 1 Axes>"
            ],
            "image/png": "[encoded data removed]"
          },
          "metadata": {
            "needs_background": "light"
          }
        }
      ]
    },
    {
      "cell_type": "markdown",
      "source": [
        "**SGD** "
      ],
      "metadata": {
        "id": "ThqV61wVVEIl"
      }
    },
    {
      "cell_type": "code",
      "source": [
        "from sklearn import preprocessing\n",
        "from sklearn.linear_model import SGDClassifier\n",
        "#scaled\n",
        "scaler = preprocessing.StandardScaler()\n",
        "sgdx_train = scaler.fit_transform(x_train)\n",
        "sgdx_test = scaler.transform(x_test)"
      ],
      "metadata": {
        "id": "t-6TEPGyVp4V"
      },
      "execution_count": 70,
      "outputs": []
    },
    {
      "cell_type": "code",
      "source": [
        "sgdc=SGDClassifier(max_iter=1000)\n",
        "print(sgdc)"
      ],
      "metadata": {
        "id": "LogMJTP4Yj5S",
        "outputId": "9803f34c-4bc2-47bc-9f56-955a570c4ea3",
        "colab": {
          "base_uri": "https://localhost:8080/"
        }
      },
      "execution_count": 71,
      "outputs": [
        {
          "output_type": "stream",
          "name": "stdout",
          "text": [
            "SGDClassifier()\n"
          ]
        }
      ]
    },
    {
      "cell_type": "code",
      "source": [
        "sgdc.fit(sgdx_train,y_train)"
      ],
      "metadata": {
        "id": "EtQaC8DrFRPm",
        "outputId": "c81bb1b1-7b03-4495-80e5-a7df0d2ed589",
        "colab": {
          "base_uri": "https://localhost:8080/"
        }
      },
      "execution_count": 72,
      "outputs": [
        {
          "output_type": "execute_result",
          "data": {
            "text/plain": [
              "SGDClassifier()"
            ]
          },
          "metadata": {},
          "execution_count": 72
        }
      ]
    },
    {
      "cell_type": "code",
      "source": [
        "score = sgdc.score(sgdx_train, y_train)\n",
        "print(\"Training score: \", score) \n",
        " \n",
        "\n"
      ],
      "metadata": {
        "id": "IXntJemlFlGE",
        "outputId": "75109cce-c56f-4051-e38c-9b2362da00df",
        "colab": {
          "base_uri": "https://localhost:8080/"
        }
      },
      "execution_count": 73,
      "outputs": [
        {
          "output_type": "stream",
          "name": "stdout",
          "text": [
            "Training score:  0.5365853658536586\n"
          ]
        }
      ]
    },
    {
      "cell_type": "code",
      "source": [
        "sgdypred = sgdc.predict(sgdx_test)"
      ],
      "metadata": {
        "id": "rylAF-acGJfr"
      },
      "execution_count": 74,
      "outputs": []
    },
    {
      "cell_type": "code",
      "source": [
        "m7=accuracy_score(y_test,sgdypred)\n",
        "accuracy_score(y_test,sgdypred)"
      ],
      "metadata": {
        "id": "geIEKc0RFGqa",
        "outputId": "7a1b09ce-a214-4364-a692-08cb9e5c8cb9",
        "colab": {
          "base_uri": "https://localhost:8080/"
        }
      },
      "execution_count": 75,
      "outputs": [
        {
          "output_type": "execute_result",
          "data": {
            "text/plain": [
              "0.2777777777777778"
            ]
          },
          "metadata": {},
          "execution_count": 75
        }
      ]
    },
    {
      "cell_type": "code",
      "source": [
        "ms7=mean_squared_error(y_test,sgdypred)\n",
        "rms7 = sqrt(ms8)\n",
        "print(\"Mean Squared Error is\",ms8)\n",
        "print(\"Root Mean Squared Error is\",rms8)"
      ],
      "metadata": {
        "id": "kupgq-dyX8G-",
        "outputId": "f1f1d8fa-4be6-4bd9-ee91-5e56ace03a8c",
        "colab": {
          "base_uri": "https://localhost:8080/"
        }
      },
      "execution_count": 100,
      "outputs": [
        {
          "output_type": "stream",
          "name": "stdout",
          "text": [
            "Mean Squared Error is 1.8888888888888888\n",
            "Root Mean Squared Error is 1.3743685418725535\n"
          ]
        }
      ]
    },
    {
      "cell_type": "code",
      "source": [
        "cr = classification_report(y_test, sgdypred)\n",
        "print(cr)"
      ],
      "metadata": {
        "id": "j_UFsQOTFq_3",
        "outputId": "24a58b86-256a-4dd7-e4f0-731176ffe3e0",
        "colab": {
          "base_uri": "https://localhost:8080/"
        }
      },
      "execution_count": 77,
      "outputs": [
        {
          "output_type": "stream",
          "name": "stdout",
          "text": [
            "              precision    recall  f1-score   support\n",
            "\n",
            "           2       0.50      0.75      0.60         4\n",
            "           3       0.00      0.00      0.00         6\n",
            "           4       0.29      0.33      0.31         6\n",
            "           5       0.00      0.00      0.00         1\n",
            "           6       0.00      0.00      0.00         1\n",
            "\n",
            "    accuracy                           0.28        18\n",
            "   macro avg       0.16      0.22      0.18        18\n",
            "weighted avg       0.21      0.28      0.24        18\n",
            "\n"
          ]
        },
        {
          "output_type": "stream",
          "name": "stderr",
          "text": [
            "/usr/local/lib/python3.7/dist-packages/sklearn/metrics/_classification.py:1318: UndefinedMetricWarning: Precision and F-score are ill-defined and being set to 0.0 in labels with no predicted samples. Use `zero_division` parameter to control this behavior.\n",
            "  _warn_prf(average, modifier, msg_start, len(result))\n",
            "/usr/local/lib/python3.7/dist-packages/sklearn/metrics/_classification.py:1318: UndefinedMetricWarning: Precision and F-score are ill-defined and being set to 0.0 in labels with no predicted samples. Use `zero_division` parameter to control this behavior.\n",
            "  _warn_prf(average, modifier, msg_start, len(result))\n",
            "/usr/local/lib/python3.7/dist-packages/sklearn/metrics/_classification.py:1318: UndefinedMetricWarning: Precision and F-score are ill-defined and being set to 0.0 in labels with no predicted samples. Use `zero_division` parameter to control this behavior.\n",
            "  _warn_prf(average, modifier, msg_start, len(result))\n"
          ]
        }
      ]
    },
    {
      "cell_type": "code",
      "source": [
        "plt.figure(figsize=(5,5))\n",
        "plt.scatter(y_test,sgdypred)\n",
        "plt.xlabel('Actual')\n",
        "plt.ylabel('Predicted')\n",
        "plt.title('Actual vs Predicted using SGD')"
      ],
      "metadata": {
        "id": "4pTaa7oJMZzk",
        "outputId": "31effdfe-172a-4a06-e567-b0d50423dc9e",
        "colab": {
          "base_uri": "https://localhost:8080/",
          "height": 367
        }
      },
      "execution_count": 86,
      "outputs": [
        {
          "output_type": "execute_result",
          "data": {
            "text/plain": [
              "Text(0.5, 1.0, 'Actual vs Predicted using SGD')"
            ]
          },
          "metadata": {},
          "execution_count": 86
        },
        {
          "output_type": "display_data",
          "data": {
            "text/plain": [
              "<Figure size 360x360 with 1 Axes>"
            ],
            "image/png": "[encoded data removed]"
          },
          "metadata": {
            "needs_background": "light"
          }
        }
      ]
    },
    {
      "cell_type": "markdown",
      "source": [
        "**PLOT**"
      ],
      "metadata": {
        "id": "o2UG2wUDNbSM"
      }
    },
    {
      "cell_type": "code",
      "source": [
        "# x-coordinates of left sides of bars \n",
        "left = [1, 2, 3, 4, 5, 6, 7]\n",
        "  \n",
        "# heights of bars\n",
        "height= [m1, m2, m3, m4, m5, m6, m7] \n",
        "# labels for bars\n",
        "tick_label = ['MultipleLinearReg', 'MultinomialLogreg', 'NaiveBayes', 'KNN', 'DecisionTree',\"RandomForest\",\"SGD\"]\n",
        "  \n",
        "# plotting a bar chart\n",
        "plt.bar(left, height, tick_label = tick_label,\n",
        "        width = 0.6, color = ['red', 'green'])\n",
        "\n",
        "\n",
        "# naming the x-axis\n",
        "plt.xlabel('x - axis')\n",
        "plt.xticks(rotation=50)\n",
        "# naming the y-axis\n",
        "plt.ylabel('y - axis')\n",
        "# plot title\n",
        "plt.title('Accuracies')\n",
        "\n",
        "# function to show the plot\n",
        "plt.show()"
      ],
      "metadata": {
        "id": "f4ms7aJFGX77",
        "colab": {
          "base_uri": "https://localhost:8080/",
          "height": 363
        },
        "outputId": "9ce19faa-9397-4e7a-abe8-12ca547eeb0f"
      },
      "execution_count": 99,
      "outputs": [
        {
          "output_type": "display_data",
          "data": {
            "text/plain": [
              "<Figure size 432x288 with 1 Axes>"
            ],
            "image/png": "[encoded data removed]"
          },
          "metadata": {
            "needs_background": "light"
          }
        }
      ]
    },
    {
      "cell_type": "code",
      "source": [
        "# x-coordinates of left sides of bars \n",
        "left = [1, 2, 3, 4, 5, 6, 7]\n",
        "  \n",
        "# heights of bars\n",
        "height= [ms1, ms2, ms3, ms4, ms5, ms6, ms7] \n",
        "# labels for bars\n",
        "tick_label = ['MultipleLinearReg', 'MultinomialLogreg', 'NaiveBayes', 'KNN', 'DecisionTree',\"RandomForest\",\"SGD\"]\n",
        "  \n",
        "# plotting a bar chart\n",
        "plt.bar(left, height, tick_label = tick_label,\n",
        "        width = 0.6, color = ['red', 'purple'])\n",
        "\n",
        "\n",
        "# naming the x-axis\n",
        "plt.xlabel('x - axis')\n",
        "plt.xticks(rotation=50)\n",
        "# naming the y-axis\n",
        "plt.ylabel('y - axis')\n",
        "# plot title\n",
        "plt.title(\"Mean Square Error\")\n",
        "\n",
        "# function to show the plot\n",
        "plt.show()"
      ],
      "metadata": {
        "id": "WTeVriTnSdzn",
        "outputId": "d709459b-fb4b-4bbc-be9b-eb255d408879",
        "colab": {
          "base_uri": "https://localhost:8080/",
          "height": 363
        }
      },
      "execution_count": 105,
      "outputs": [
        {
          "output_type": "display_data",
          "data": {
            "text/plain": [
              "<Figure size 432x288 with 1 Axes>"
            ],
            "image/png": "[encoded data removed]"
          },
          "metadata": {
            "needs_background": "light"
          }
        }
      ]
    },
    {
      "cell_type": "code",
      "source": [
        "# x-coordinates of left sides of bars \n",
        "left = [1, 2, 3, 4, 5, 6, 7]\n",
        "  \n",
        "# heights of bars\n",
        "height= [rms1, rms2, rms3, rms4, rms5, rms6, rms7] \n",
        "# labels for bars\n",
        "tick_label = ['MultipleLinearReg', 'MultinomialLogreg', 'NaiveBayes', 'KNN', 'DecisionTree',\"RandomForest\",\"SGD\"]\n",
        "  \n",
        "# plotting a bar chart\n",
        "plt.bar(left, height, tick_label = tick_label,\n",
        "        width = 0.6, color = ['blue', 'green'])\n",
        "\n",
        "\n",
        "# naming the x-axis\n",
        "plt.xlabel('x - axis')\n",
        "plt.xticks(rotation=50)\n",
        "# naming the y-axis\n",
        "plt.ylabel('y - axis')\n",
        "# plot title\n",
        "plt.title(\"Root Mean Square Error\")\n",
        "\n",
        "# function to show the plot\n",
        "plt.show()"
      ],
      "metadata": {
        "id": "oRAAFfOWUCke",
        "outputId": "5246f4d9-b3b1-489e-a764-c34b1cff70dd",
        "colab": {
          "base_uri": "https://localhost:8080/",
          "height": 363
        }
      },
      "execution_count": 103,
      "outputs": [
        {
          "output_type": "display_data",
          "data": {
            "text/plain": [
              "<Figure size 432x288 with 1 Axes>"
            ],
            "image/png": "[encoded data removed]"
          },
          "metadata": {
            "needs_background": "light"
          }
        }
      ]
    }
  ]
}