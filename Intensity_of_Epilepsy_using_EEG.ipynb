{
  "nbformat": 4,
  "nbformat_minor": 0,
  "metadata": {
    "colab": {
      "name": "Intensity of Epilepsy using EEG.ipynb",
      "provenance": [],
      "collapsed_sections": [],
      "mount_file_id": "1ApSGWAO8Lj7dpbJDhE1OovAfjn7jHaJY",
      "authorship_tag": "ABX9TyMosBo9Fe71DyFHZaIll9AT",
      "include_colab_link": true
    },
    "kernelspec": {
      "name": "python3",
      "display_name": "Python 3"
    },
    "language_info": {
      "name": "python"
    }
  },
  "cells": [
    {
      "cell_type": "markdown",
      "metadata": {
        "id": "view-in-github",
        "colab_type": "text"
      },
      "source": [
        "<a href=\"https://colab.research.google.com/github/gaurisharma360/intensityofepilepsy/blob/main/Intensity_of_Epilepsy_using_EEG.ipynb\" target=\"_parent\"><img src=\"https://colab.research.google.com/assets/colab-badge.svg\" alt=\"Open In Colab\"/></a>"
      ]
    },
    {
      "cell_type": "code",
      "execution_count": 11,
      "metadata": {
        "id": "PBU3Ccwaw7We"
      },
      "outputs": [],
      "source": [
        "import pandas as pd\n",
        "import numpy as np"
      ]
    },
    {
      "cell_type": "code",
      "source": [
        "data_df=pd.read_csv(\"/content/Minorv2.csv\")"
      ],
      "metadata": {
        "id": "CBZvTmKyxbia"
      },
      "execution_count": 12,
      "outputs": []
    },
    {
      "cell_type": "code",
      "source": [
        "data_df.head()"
      ],
      "metadata": {
        "colab": {
          "base_uri": "https://localhost:8080/",
          "height": 206
        },
        "id": "mb2OtDAAyDmc",
        "outputId": "813802e7-75eb-497b-d068-7a29f7fcc280"
      },
      "execution_count": 13,
      "outputs": [
        {
          "output_type": "execute_result",
          "data": {
            "text/plain": [
              "   Treatment (0=Placebo, 1=Progabide)  Age  Difference in frequencies  \\\n",
              "0                                   0   31                      0.375   \n",
              "1                                   0   30                      0.375   \n",
              "2                                   0   25                      0.625   \n",
              "3                                   0   36                      0.625   \n",
              "4                                   0   22                     -1.375   \n",
              "\n",
              "   Intensity of disease  \n",
              "0                     4  \n",
              "1                     4  \n",
              "2                     4  \n",
              "3                     4  \n",
              "4                     2  "
            ],
            "text/html": [
              "\n",
              "  <div id=\"df-bed6b7b5-45b3-48be-93c1-38f10d0d8cdd\">\n",
              "    <div class=\"colab-df-container\">\n",
              "      <div>\n",
              "<style scoped>\n",
              "    .dataframe tbody tr th:only-of-type {\n",
              "        vertical-align: middle;\n",
              "    }\n",
              "\n",
              "    .dataframe tbody tr th {\n",
              "        vertical-align: top;\n",
              "    }\n",
              "\n",
              "    .dataframe thead th {\n",
              "        text-align: right;\n",
              "    }\n",
              "</style>\n",
              "<table border=\"1\" class=\"dataframe\">\n",
              "  <thead>\n",
              "    <tr style=\"text-align: right;\">\n",
              "      <th></th>\n",
              "      <th>Treatment (0=Placebo, 1=Progabide)</th>\n",
              "      <th>Age</th>\n",
              "      <th>Difference in frequencies</th>\n",
              "      <th>Intensity of disease</th>\n",
              "    </tr>\n",
              "  </thead>\n",
              "  <tbody>\n",
              "    <tr>\n",
              "      <th>0</th>\n",
              "      <td>0</td>\n",
              "      <td>31</td>\n",
              "      <td>0.375</td>\n",
              "      <td>4</td>\n",
              "    </tr>\n",
              "    <tr>\n",
              "      <th>1</th>\n",
              "      <td>0</td>\n",
              "      <td>30</td>\n",
              "      <td>0.375</td>\n",
              "      <td>4</td>\n",
              "    </tr>\n",
              "    <tr>\n",
              "      <th>2</th>\n",
              "      <td>0</td>\n",
              "      <td>25</td>\n",
              "      <td>0.625</td>\n",
              "      <td>4</td>\n",
              "    </tr>\n",
              "    <tr>\n",
              "      <th>3</th>\n",
              "      <td>0</td>\n",
              "      <td>36</td>\n",
              "      <td>0.625</td>\n",
              "      <td>4</td>\n",
              "    </tr>\n",
              "    <tr>\n",
              "      <th>4</th>\n",
              "      <td>0</td>\n",
              "      <td>22</td>\n",
              "      <td>-1.375</td>\n",
              "      <td>2</td>\n",
              "    </tr>\n",
              "  </tbody>\n",
              "</table>\n",
              "</div>\n",
              "      <button class=\"colab-df-convert\" onclick=\"convertToInteractive('df-bed6b7b5-45b3-48be-93c1-38f10d0d8cdd')\"\n",
              "              title=\"Convert this dataframe to an interactive table.\"\n",
              "              style=\"display:none;\">\n",
              "        \n",
              "  <svg xmlns=\"http://www.w3.org/2000/svg\" height=\"24px\"viewBox=\"0 0 24 24\"\n",
              "       width=\"24px\">\n",
              "    <path d=\"M0 0h24v24H0V0z\" fill=\"none\"/>\n",
              "    <path d=\"M18.56 5.44l.94 2.06.94-2.06 2.06-.94-2.06-.94-.94-2.06-.94 2.06-2.06.94zm-11 1L8.5 8.5l.94-2.06 2.06-.94-2.06-.94L8.5 2.5l-.94 2.06-2.06.94zm10 10l.94 2.06.94-2.06 2.06-.94-2.06-.94-.94-2.06-.94 2.06-2.06.94z\"/><path d=\"M17.41 7.96l-1.37-1.37c-.4-.4-.92-.59-1.43-.59-.52 0-1.04.2-1.43.59L10.3 9.45l-7.72 7.72c-.78.78-.78 2.05 0 2.83L4 21.41c.39.39.9.59 1.41.59.51 0 1.02-.2 1.41-.59l7.78-7.78 2.81-2.81c.8-.78.8-2.07 0-2.86zM5.41 20L4 18.59l7.72-7.72 1.47 1.35L5.41 20z\"/>\n",
              "  </svg>\n",
              "      </button>\n",
              "      \n",
              "  <style>\n",
              "    .colab-df-container {\n",
              "      display:flex;\n",
              "      flex-wrap:wrap;\n",
              "      gap: 12px;\n",
              "    }\n",
              "\n",
              "    .colab-df-convert {\n",
              "      background-color: #E8F0FE;\n",
              "      border: none;\n",
              "      border-radius: 50%;\n",
              "      cursor: pointer;\n",
              "      display: none;\n",
              "      fill: #1967D2;\n",
              "      height: 32px;\n",
              "      padding: 0 0 0 0;\n",
              "      width: 32px;\n",
              "    }\n",
              "\n",
              "    .colab-df-convert:hover {\n",
              "      background-color: #E2EBFA;\n",
              "      box-shadow: 0px 1px 2px rgba(60, 64, 67, 0.3), 0px 1px 3px 1px rgba(60, 64, 67, 0.15);\n",
              "      fill: #174EA6;\n",
              "    }\n",
              "\n",
              "    [theme=dark] .colab-df-convert {\n",
              "      background-color: #3B4455;\n",
              "      fill: #D2E3FC;\n",
              "    }\n",
              "\n",
              "    [theme=dark] .colab-df-convert:hover {\n",
              "      background-color: #434B5C;\n",
              "      box-shadow: 0px 1px 3px 1px rgba(0, 0, 0, 0.15);\n",
              "      filter: drop-shadow(0px 1px 2px rgba(0, 0, 0, 0.3));\n",
              "      fill: #FFFFFF;\n",
              "    }\n",
              "  </style>\n",
              "\n",
              "      <script>\n",
              "        const buttonEl =\n",
              "          document.querySelector('#df-bed6b7b5-45b3-48be-93c1-38f10d0d8cdd button.colab-df-convert');\n",
              "        buttonEl.style.display =\n",
              "          google.colab.kernel.accessAllowed ? 'block' : 'none';\n",
              "\n",
              "        async function convertToInteractive(key) {\n",
              "          const element = document.querySelector('#df-bed6b7b5-45b3-48be-93c1-38f10d0d8cdd');\n",
              "          const dataTable =\n",
              "            await google.colab.kernel.invokeFunction('convertToInteractive',\n",
              "                                                     [key], {});\n",
              "          if (!dataTable) return;\n",
              "\n",
              "          const docLinkHtml = 'Like what you see? Visit the ' +\n",
              "            '<a target=\"_blank\" href=https://colab.research.google.com/notebooks/data_table.ipynb>data table notebook</a>'\n",
              "            + ' to learn more about interactive tables.';\n",
              "          element.innerHTML = '';\n",
              "          dataTable['output_type'] = 'display_data';\n",
              "          await google.colab.output.renderOutput(dataTable, element);\n",
              "          const docLink = document.createElement('div');\n",
              "          docLink.innerHTML = docLinkHtml;\n",
              "          element.appendChild(docLink);\n",
              "        }\n",
              "      </script>\n",
              "    </div>\n",
              "  </div>\n",
              "  "
            ]
          },
          "metadata": {},
          "execution_count": 13
        }
      ]
    },
    {
      "cell_type": "code",
      "source": [
        "\n",
        "x=data_df.drop([('Intensity of disease')],axis=1).values\n",
        "y=data_df['Intensity of disease'].values"
      ],
      "metadata": {
        "id": "aQxFD-IGyPAX"
      },
      "execution_count": 14,
      "outputs": []
    },
    {
      "cell_type": "code",
      "source": [
        "print(x)"
      ],
      "metadata": {
        "colab": {
          "base_uri": "https://localhost:8080/"
        },
        "id": "vJPJDtVV_jJs",
        "outputId": "afa4fb54-61f8-449c-9d3b-8f11dc5018ff"
      },
      "execution_count": 15,
      "outputs": [
        {
          "output_type": "stream",
          "name": "stdout",
          "text": [
            "[[ 0.    31.     0.375]\n",
            " [ 0.    30.     0.375]\n",
            " [ 0.    25.     0.625]\n",
            " [ 0.    36.     0.625]\n",
            " [ 0.    22.    -1.375]\n",
            " [ 0.    29.    -0.625]\n",
            " [ 0.    31.     0.   ]\n",
            " [ 0.    36.     5.375]\n",
            " [ 0.    37.    -0.125]\n",
            " [ 0.    28.     2.875]\n",
            " [ 0.    36.     1.75 ]\n",
            " [ 0.    24.    -0.25 ]\n",
            " [ 0.    28.    -0.25 ]\n",
            " [ 0.    36.     0.   ]\n",
            " [ 0.    26.    -3.5  ]\n",
            " [ 0.    26.    -4.25 ]\n",
            " [ 0.    28.    -1.5  ]\n",
            " [ 0.    31.     1.5  ]\n",
            " [ 0.    32.    -0.375]\n",
            " [ 0.    21.    -0.5  ]\n",
            " [ 0.    29.     0.25 ]\n",
            " [ 0.    21.     0.625]\n",
            " [ 0.    32.    -0.5  ]\n",
            " [ 0.    25.     0.25 ]\n",
            " [ 0.    30.    11.   ]\n",
            " [ 0.    40.    -0.375]\n",
            " [ 0.    19.     0.   ]\n",
            " [ 0.    22.     0.75 ]\n",
            " [ 1.    18.    -4.25 ]\n",
            " [ 1.    32.    -1.25 ]\n",
            " [ 1.    20.    -1.5  ]\n",
            " [ 1.    20.     0.375]\n",
            " [ 1.    18.     0.   ]\n",
            " [ 1.    24.    -1.625]\n",
            " [ 1.    30.     5.375]\n",
            " [ 1.    35.     0.75 ]\n",
            " [ 1.    57.    -0.125]\n",
            " [ 1.    20.    -5.375]\n",
            " [ 1.    22.    -1.5  ]\n",
            " [ 1.    28.    -0.375]\n",
            " [ 1.    23.    -2.   ]\n",
            " [ 1.    40.    -0.125]\n",
            " [ 1.    43.     2.375]\n",
            " [ 1.    21.    -1.25 ]\n",
            " [ 1.    35.     0.125]\n",
            " [ 1.    25.     0.125]\n",
            " [ 1.    26.    -0.5  ]\n",
            " [ 1.    25.    -1.   ]\n",
            " [ 1.    22.    18.875]\n",
            " [ 1.    32.    -1.125]\n",
            " [ 1.    25.    -2.   ]\n",
            " [ 1.    35.    -2.75 ]\n",
            " [ 1.    21.     1.75 ]\n",
            " [ 1.    41.    -1.375]\n",
            " [ 1.    32.    -0.125]\n",
            " [ 1.    26.     3.625]\n",
            " [ 1.    21.    -2.375]\n",
            " [ 1.    36.    -1.625]\n",
            " [ 1.    37.    -0.25 ]]\n"
          ]
        }
      ]
    },
    {
      "cell_type": "code",
      "source": [
        "print(y)"
      ],
      "metadata": {
        "colab": {
          "base_uri": "https://localhost:8080/"
        },
        "id": "oY5sLoHMCb1_",
        "outputId": "4ab50324-24bd-4379-d813-33d70c1fa725"
      },
      "execution_count": 16,
      "outputs": [
        {
          "output_type": "stream",
          "name": "stdout",
          "text": [
            "[4 4 4 4 2 3 4 6 3 5 5 3 3 4 1 1 2 5 3 3 4 4 3 4 7 3 4 4 6 2 2 4 4 2 6 3 3\n",
            " 1 2 3 2 3 5 2 4 4 3 3 7 2 2 2 4 2 3 6 2 2 3]\n"
          ]
        }
      ]
    },
    {
      "cell_type": "code",
      "source": [
        "from sklearn.model_selection import train_test_split\n",
        "x_train,x_test,y_train,y_test=train_test_split(x,y,test_size=0.15,random_state=42)"
      ],
      "metadata": {
        "id": "nSrGYlOc039g"
      },
      "execution_count": 17,
      "outputs": []
    },
    {
      "cell_type": "code",
      "source": [
        "from sklearn.linear_model import LinearRegression\n",
        "ml=LinearRegression()\n",
        "ml.fit(x_train,y_train)"
      ],
      "metadata": {
        "colab": {
          "base_uri": "https://localhost:8080/"
        },
        "id": "Ugq9Xjdw5ROl",
        "outputId": "3843310f-5c24-4c47-8de9-7b522defa713"
      },
      "execution_count": 18,
      "outputs": [
        {
          "output_type": "execute_result",
          "data": {
            "text/plain": [
              "LinearRegression()"
            ]
          },
          "metadata": {},
          "execution_count": 18
        }
      ]
    },
    {
      "cell_type": "code",
      "source": [
        "y_pred=ml.predict(x_test)\n",
        "print(y_pred)"
      ],
      "metadata": {
        "colab": {
          "base_uri": "https://localhost:8080/"
        },
        "id": "L2qKLoxP51Mk",
        "outputId": "d30666ea-7ae8-4f92-dff4-7d8e965e00b3"
      },
      "execution_count": 19,
      "outputs": [
        {
          "output_type": "stream",
          "name": "stdout",
          "text": [
            "[3.61986518 3.31751628 4.76316622 3.52124139 3.1899499  2.78518894\n",
            " 2.69805273 3.42005115 2.85558187]\n"
          ]
        }
      ]
    },
    {
      "cell_type": "code",
      "source": [
        "ml.predict([[0,31,0.375]])"
      ],
      "metadata": {
        "colab": {
          "base_uri": "https://localhost:8080/"
        },
        "id": "3JKYlLyC6CSJ",
        "outputId": "e85f47c3-7997-4aa2-c223-a5c03e032dec"
      },
      "execution_count": 20,
      "outputs": [
        {
          "output_type": "execute_result",
          "data": {
            "text/plain": [
              "array([3.61986518])"
            ]
          },
          "metadata": {},
          "execution_count": 20
        }
      ]
    },
    {
      "cell_type": "code",
      "source": [
        "from sklearn.metrics import mean_squared_error\n",
        "errors = mean_squared_error(y_test, y_pred, squared=False)\n",
        "errors"
      ],
      "metadata": {
        "colab": {
          "base_uri": "https://localhost:8080/"
        },
        "id": "mXWAdUH-yD_Y",
        "outputId": "3775f8ea-3844-44f8-e704-c265cb13222c"
      },
      "execution_count": 21,
      "outputs": [
        {
          "output_type": "execute_result",
          "data": {
            "text/plain": [
              "0.6634561589850955"
            ]
          },
          "metadata": {},
          "execution_count": 21
        }
      ]
    },
    {
      "cell_type": "code",
      "source": [
        "from sklearn.metrics import r2_score\n",
        "r2_score(y_test,y_pred)"
      ],
      "metadata": {
        "colab": {
          "base_uri": "https://localhost:8080/"
        },
        "id": "mKT05qWt7jX4",
        "outputId": "0048e9a2-fe93-4c12-985e-808c6f81fe8f"
      },
      "execution_count": 22,
      "outputs": [
        {
          "output_type": "execute_result",
          "data": {
            "text/plain": [
              "0.6758718175771294"
            ]
          },
          "metadata": {},
          "execution_count": 22
        }
      ]
    },
    {
      "cell_type": "code",
      "source": [
        "import matplotlib.pyplot as plt\n",
        "plt.figure(figsize=(5,5))\n",
        "plt.scatter(y_test,y_pred)\n",
        "plt.xlabel('Actual')\n",
        "plt.ylabel('Predicted')\n",
        "plt.title('Actual vs Predicted')"
      ],
      "metadata": {
        "colab": {
          "base_uri": "https://localhost:8080/",
          "height": 367
        },
        "id": "oh2-DeAR786U",
        "outputId": "06375a40-8591-444c-f2e1-35463ac96aa5"
      },
      "execution_count": 23,
      "outputs": [
        {
          "output_type": "execute_result",
          "data": {
            "text/plain": [
              "Text(0.5, 1.0, 'Actual vs Predicted')"
            ]
          },
          "metadata": {},
          "execution_count": 23
        },
        {
          "output_type": "display_data",
          "data": {
            "text/plain": [
              "<Figure size 360x360 with 1 Axes>"
            ],
            "image/png": "[encoded data removed]"
          },
          "metadata": {
            "needs_background": "light"
          }
        }
      ]
    },
    {
      "cell_type": "markdown",
      "source": [
        "**Multinomial Logistic Regression**"
      ],
      "metadata": {
        "id": "9dwhn-0rI3a2"
      }
    },
    {
      "cell_type": "code",
      "source": [
        "x_train"
      ],
      "metadata": {
        "colab": {
          "base_uri": "https://localhost:8080/"
        },
        "id": "YoYd2LhfJDyq",
        "outputId": "3dfa9a53-e2ee-4094-e770-0725647ea2c9"
      },
      "execution_count": 25,
      "outputs": [
        {
          "output_type": "execute_result",
          "data": {
            "text/plain": [
              "array([[ 0.   , 28.   , -0.25 ],\n",
              "       [ 1.   , 32.   , -1.125],\n",
              "       [ 0.   , 36.   ,  0.625],\n",
              "       [ 1.   , 57.   , -0.125],\n",
              "       [ 1.   , 20.   ,  0.375],\n",
              "       [ 0.   , 37.   , -0.125],\n",
              "       [ 0.   , 31.   ,  1.5  ],\n",
              "       [ 0.   , 31.   ,  0.   ],\n",
              "       [ 0.   , 22.   , -1.375],\n",
              "       [ 1.   , 32.   , -0.125],\n",
              "       [ 0.   , 21.   , -0.5  ],\n",
              "       [ 1.   , 20.   , -1.5  ],\n",
              "       [ 1.   , 25.   , -2.   ],\n",
              "       [ 1.   , 35.   ,  0.125],\n",
              "       [ 1.   , 26.   ,  3.625],\n",
              "       [ 0.   , 26.   , -4.25 ],\n",
              "       [ 0.   , 28.   ,  2.875],\n",
              "       [ 0.   , 22.   ,  0.75 ],\n",
              "       [ 0.   , 19.   ,  0.   ],\n",
              "       [ 0.   , 28.   , -1.5  ],\n",
              "       [ 0.   , 30.   , 11.   ],\n",
              "       [ 1.   , 24.   , -1.625],\n",
              "       [ 1.   , 21.   , -2.375],\n",
              "       [ 1.   , 40.   , -0.125],\n",
              "       [ 0.   , 24.   , -0.25 ],\n",
              "       [ 1.   , 18.   ,  0.   ],\n",
              "       [ 1.   , 21.   ,  1.75 ],\n",
              "       [ 1.   , 23.   , -2.   ],\n",
              "       [ 1.   , 20.   , -5.375],\n",
              "       [ 1.   , 32.   , -1.25 ],\n",
              "       [ 1.   , 21.   , -1.25 ],\n",
              "       [ 0.   , 30.   ,  0.375],\n",
              "       [ 0.   , 21.   ,  0.625],\n",
              "       [ 0.   , 25.   ,  0.625],\n",
              "       [ 1.   , 26.   , -0.5  ],\n",
              "       [ 1.   , 28.   , -0.375],\n",
              "       [ 1.   , 35.   ,  0.75 ],\n",
              "       [ 0.   , 25.   ,  0.25 ],\n",
              "       [ 1.   , 22.   , 18.875],\n",
              "       [ 0.   , 36.   ,  1.75 ],\n",
              "       [ 0.   , 32.   , -0.5  ],\n",
              "       [ 0.   , 32.   , -0.375],\n",
              "       [ 1.   , 37.   , -0.25 ],\n",
              "       [ 0.   , 29.   ,  0.25 ],\n",
              "       [ 0.   , 36.   ,  5.375],\n",
              "       [ 1.   , 43.   ,  2.375],\n",
              "       [ 0.   , 26.   , -3.5  ],\n",
              "       [ 1.   , 18.   , -4.25 ],\n",
              "       [ 1.   , 35.   , -2.75 ],\n",
              "       [ 1.   , 22.   , -1.5  ]])"
            ]
          },
          "metadata": {},
          "execution_count": 25
        }
      ]
    },
    {
      "cell_type": "code",
      "source": [
        "y_train"
      ],
      "metadata": {
        "colab": {
          "base_uri": "https://localhost:8080/"
        },
        "id": "_7M70S_IJQXJ",
        "outputId": "359192bb-a828-4510-92d1-1ef66851db3b"
      },
      "execution_count": 26,
      "outputs": [
        {
          "output_type": "execute_result",
          "data": {
            "text/plain": [
              "array([3, 2, 4, 3, 4, 3, 5, 4, 2, 3, 3, 2, 2, 4, 6, 1, 5, 4, 4, 2, 7, 2,\n",
              "       2, 3, 3, 4, 4, 2, 1, 2, 2, 4, 4, 4, 3, 3, 3, 4, 7, 5, 3, 3, 3, 4,\n",
              "       6, 5, 1, 6, 2, 2])"
            ]
          },
          "metadata": {},
          "execution_count": 26
        }
      ]
    },
    {
      "cell_type": "code",
      "source": [
        "x_test"
      ],
      "metadata": {
        "colab": {
          "base_uri": "https://localhost:8080/"
        },
        "id": "bsMnTaJHJt9_",
        "outputId": "a3fa1c99-7e84-4c5d-eba0-9d82515a0493"
      },
      "execution_count": 27,
      "outputs": [
        {
          "output_type": "execute_result",
          "data": {
            "text/plain": [
              "array([[ 0.   , 31.   ,  0.375],\n",
              "       [ 0.   , 29.   , -0.625],\n",
              "       [ 1.   , 30.   ,  5.375],\n",
              "       [ 0.   , 36.   ,  0.   ],\n",
              "       [ 1.   , 25.   ,  0.125],\n",
              "       [ 1.   , 41.   , -1.375],\n",
              "       [ 1.   , 36.   , -1.625],\n",
              "       [ 0.   , 40.   , -0.375],\n",
              "       [ 1.   , 25.   , -1.   ]])"
            ]
          },
          "metadata": {},
          "execution_count": 27
        }
      ]
    },
    {
      "cell_type": "code",
      "source": [
        "y_test"
      ],
      "metadata": {
        "colab": {
          "base_uri": "https://localhost:8080/"
        },
        "id": "wFiLY_yhJxBO",
        "outputId": "9b0ed739-9f0d-4176-9612-a6c988962322"
      },
      "execution_count": 28,
      "outputs": [
        {
          "output_type": "execute_result",
          "data": {
            "text/plain": [
              "array([4, 3, 6, 4, 4, 2, 2, 3, 3])"
            ]
          },
          "metadata": {},
          "execution_count": 28
        }
      ]
    },
    {
      "cell_type": "code",
      "source": [
        "from sklearn.linear_model import LogisticRegression\n",
        "from sklearn.preprocessing import StandardScaler"
      ],
      "metadata": {
        "id": "mqmCbrISJ1N3"
      },
      "execution_count": 119,
      "outputs": []
    },
    {
      "cell_type": "code",
      "source": [
        "lr=LogisticRegression(multi_class=\"multinomial\",solver=\"lbfgs\",random_state=42)"
      ],
      "metadata": {
        "id": "CsYXs6nbKF0k"
      },
      "execution_count": 120,
      "outputs": []
    },
    {
      "cell_type": "code",
      "source": [
        "lr.fit(x_train,y_train)"
      ],
      "metadata": {
        "colab": {
          "base_uri": "https://localhost:8080/"
        },
        "id": "prWyonxwO5N0",
        "outputId": "317fe0aa-d040-40a1-d791-22bc31fe5d99"
      },
      "execution_count": 121,
      "outputs": [
        {
          "output_type": "stream",
          "name": "stderr",
          "text": [
            "/usr/local/lib/python3.7/dist-packages/sklearn/linear_model/_logistic.py:818: ConvergenceWarning: lbfgs failed to converge (status=1):\n",
            "STOP: TOTAL NO. of ITERATIONS REACHED LIMIT.\n",
            "\n",
            "Increase the number of iterations (max_iter) or scale the data as shown in:\n",
            "    https://scikit-learn.org/stable/modules/preprocessing.html\n",
            "Please also refer to the documentation for alternative solver options:\n",
            "    https://scikit-learn.org/stable/modules/linear_model.html#logistic-regression\n",
            "  extra_warning_msg=_LOGISTIC_SOLVER_CONVERGENCE_MSG,\n"
          ]
        },
        {
          "output_type": "execute_result",
          "data": {
            "text/plain": [
              "LogisticRegression(multi_class='multinomial', random_state=42)"
            ]
          },
          "metadata": {},
          "execution_count": 121
        }
      ]
    },
    {
      "cell_type": "code",
      "source": [
        "y_predlr=lr.predict(x_test)"
      ],
      "metadata": {
        "id": "37yOBqKyPGU0"
      },
      "execution_count": 122,
      "outputs": []
    },
    {
      "cell_type": "code",
      "source": [
        "lr.score(x_test,y_test)"
      ],
      "metadata": {
        "colab": {
          "base_uri": "https://localhost:8080/"
        },
        "id": "1MZSx1doPYTH",
        "outputId": "2c7f3a40-6e72-478a-fdc2-3898dbc20d8e"
      },
      "execution_count": 123,
      "outputs": [
        {
          "output_type": "execute_result",
          "data": {
            "text/plain": [
              "0.5555555555555556"
            ]
          },
          "metadata": {},
          "execution_count": 123
        }
      ]
    },
    {
      "cell_type": "code",
      "source": [
        "#applying standardisation\n",
        "#scaler=StandardScaler()"
      ],
      "metadata": {
        "id": "n1rHcCWNSviT"
      },
      "execution_count": 113,
      "outputs": []
    },
    {
      "cell_type": "code",
      "source": [
        "#x_train_s=scaler.fit_transform(x_train)\n",
        "#x_test_s=scaler.transform(x_test)"
      ],
      "metadata": {
        "id": "24pfI4KVVFfL"
      },
      "execution_count": 114,
      "outputs": []
    },
    {
      "cell_type": "code",
      "source": [
        "#lr.fit(x_train,y_train)"
      ],
      "metadata": {
        "colab": {
          "base_uri": "https://localhost:8080/"
        },
        "id": "xpvgqcqUVSpN",
        "outputId": "735eba47-5a7e-4a82-a6ce-309f7706892d"
      },
      "execution_count": 115,
      "outputs": [
        {
          "output_type": "execute_result",
          "data": {
            "text/plain": [
              "LogisticRegression(max_iter=1500, multi_class='multinomial', random_state=42)"
            ]
          },
          "metadata": {},
          "execution_count": 115
        }
      ]
    },
    {
      "cell_type": "code",
      "source": [
        "#y_predlr2=lr.predict(x_test_s)"
      ],
      "metadata": {
        "id": "0OUpxMl5VcYv"
      },
      "execution_count": 116,
      "outputs": []
    },
    {
      "cell_type": "code",
      "source": [
        "#lr.score(x_test_s,y_test)"
      ],
      "metadata": {
        "colab": {
          "base_uri": "https://localhost:8080/"
        },
        "id": "_376RS2YVnhN",
        "outputId": "23e7a18b-5baf-4d79-d3bc-94bf8102880f"
      },
      "execution_count": 118,
      "outputs": [
        {
          "output_type": "execute_result",
          "data": {
            "text/plain": [
              "0.3333333333333333"
            ]
          },
          "metadata": {},
          "execution_count": 118
        }
      ]
    },
    {
      "cell_type": "code",
      "source": [
        ""
      ],
      "metadata": {
        "id": "PW5J6vXbV4C6"
      },
      "execution_count": null,
      "outputs": []
    }
  ]
}