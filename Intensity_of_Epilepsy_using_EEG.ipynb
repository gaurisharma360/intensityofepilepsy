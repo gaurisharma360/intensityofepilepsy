{
  "nbformat": 4,
  "nbformat_minor": 0,
  "metadata": {
    "colab": {
      "name": "Intensity of Epilepsy using EEG.ipynb",
      "provenance": [],
      "collapsed_sections": [],
      "mount_file_id": "1ApSGWAO8Lj7dpbJDhE1OovAfjn7jHaJY",
      "authorship_tag": "ABX9TyPFc/xGzt8LLfVsohx64RQU",
      "include_colab_link": true
    },
    "kernelspec": {
      "name": "python3",
      "display_name": "Python 3"
    },
    "language_info": {
      "name": "python"
    }
  },
  "cells": [
    {
      "cell_type": "markdown",
      "metadata": {
        "id": "view-in-github",
        "colab_type": "text"
      },
      "source": [
        "<a href=\"https://colab.research.google.com/github/gaurisharma360/intensityofepilepsy/blob/main/Intensity_of_Epilepsy_using_EEG.ipynb\" target=\"_parent\"><img src=\"https://colab.research.google.com/assets/colab-badge.svg\" alt=\"Open In Colab\"/></a>"
      ]
    },
    {
      "cell_type": "markdown",
      "source": [
        "**Multiple Linear Regression**"
      ],
      "metadata": {
        "id": "7V1tBaqOX4CG"
      }
    },
    {
      "cell_type": "code",
      "execution_count": 280,
      "metadata": {
        "id": "PBU3Ccwaw7We"
      },
      "outputs": [],
      "source": [
        "import pandas as pd\n",
        "import numpy as np"
      ]
    },
    {
      "cell_type": "code",
      "source": [
        "data_df=pd.read_csv(\"/content/Minorv2.csv\")"
      ],
      "metadata": {
        "id": "CBZvTmKyxbia"
      },
      "execution_count": 281,
      "outputs": []
    },
    {
      "cell_type": "code",
      "source": [
        "data_df.head()"
      ],
      "metadata": {
        "colab": {
          "base_uri": "https://localhost:8080/",
          "height": 206
        },
        "id": "mb2OtDAAyDmc",
        "outputId": "b31c231e-49ee-4a55-ffa1-9edfe0b3fa10"
      },
      "execution_count": 282,
      "outputs": [
        {
          "output_type": "execute_result",
          "data": {
            "text/plain": [
              "   Treatment (0=Placebo, 1=Progabide)  Age  Difference in frequencies  \\\n",
              "0                                   0   31                      0.375   \n",
              "1                                   0   30                      0.375   \n",
              "2                                   0   25                      0.625   \n",
              "3                                   0   36                      0.625   \n",
              "4                                   0   22                     -1.375   \n",
              "\n",
              "   Intensity of disease  \n",
              "0                     4  \n",
              "1                     4  \n",
              "2                     4  \n",
              "3                     4  \n",
              "4                     2  "
            ],
            "text/html": [
              "\n",
              "  <div id=\"df-931ac6be-3b2c-4dc7-8a7c-e5c3474f6029\">\n",
              "    <div class=\"colab-df-container\">\n",
              "      <div>\n",
              "<style scoped>\n",
              "    .dataframe tbody tr th:only-of-type {\n",
              "        vertical-align: middle;\n",
              "    }\n",
              "\n",
              "    .dataframe tbody tr th {\n",
              "        vertical-align: top;\n",
              "    }\n",
              "\n",
              "    .dataframe thead th {\n",
              "        text-align: right;\n",
              "    }\n",
              "</style>\n",
              "<table border=\"1\" class=\"dataframe\">\n",
              "  <thead>\n",
              "    <tr style=\"text-align: right;\">\n",
              "      <th></th>\n",
              "      <th>Treatment (0=Placebo, 1=Progabide)</th>\n",
              "      <th>Age</th>\n",
              "      <th>Difference in frequencies</th>\n",
              "      <th>Intensity of disease</th>\n",
              "    </tr>\n",
              "  </thead>\n",
              "  <tbody>\n",
              "    <tr>\n",
              "      <th>0</th>\n",
              "      <td>0</td>\n",
              "      <td>31</td>\n",
              "      <td>0.375</td>\n",
              "      <td>4</td>\n",
              "    </tr>\n",
              "    <tr>\n",
              "      <th>1</th>\n",
              "      <td>0</td>\n",
              "      <td>30</td>\n",
              "      <td>0.375</td>\n",
              "      <td>4</td>\n",
              "    </tr>\n",
              "    <tr>\n",
              "      <th>2</th>\n",
              "      <td>0</td>\n",
              "      <td>25</td>\n",
              "      <td>0.625</td>\n",
              "      <td>4</td>\n",
              "    </tr>\n",
              "    <tr>\n",
              "      <th>3</th>\n",
              "      <td>0</td>\n",
              "      <td>36</td>\n",
              "      <td>0.625</td>\n",
              "      <td>4</td>\n",
              "    </tr>\n",
              "    <tr>\n",
              "      <th>4</th>\n",
              "      <td>0</td>\n",
              "      <td>22</td>\n",
              "      <td>-1.375</td>\n",
              "      <td>2</td>\n",
              "    </tr>\n",
              "  </tbody>\n",
              "</table>\n",
              "</div>\n",
              "      <button class=\"colab-df-convert\" onclick=\"convertToInteractive('df-931ac6be-3b2c-4dc7-8a7c-e5c3474f6029')\"\n",
              "              title=\"Convert this dataframe to an interactive table.\"\n",
              "              style=\"display:none;\">\n",
              "        \n",
              "  <svg xmlns=\"http://www.w3.org/2000/svg\" height=\"24px\"viewBox=\"0 0 24 24\"\n",
              "       width=\"24px\">\n",
              "    <path d=\"M0 0h24v24H0V0z\" fill=\"none\"/>\n",
              "    <path d=\"M18.56 5.44l.94 2.06.94-2.06 2.06-.94-2.06-.94-.94-2.06-.94 2.06-2.06.94zm-11 1L8.5 8.5l.94-2.06 2.06-.94-2.06-.94L8.5 2.5l-.94 2.06-2.06.94zm10 10l.94 2.06.94-2.06 2.06-.94-2.06-.94-.94-2.06-.94 2.06-2.06.94z\"/><path d=\"M17.41 7.96l-1.37-1.37c-.4-.4-.92-.59-1.43-.59-.52 0-1.04.2-1.43.59L10.3 9.45l-7.72 7.72c-.78.78-.78 2.05 0 2.83L4 21.41c.39.39.9.59 1.41.59.51 0 1.02-.2 1.41-.59l7.78-7.78 2.81-2.81c.8-.78.8-2.07 0-2.86zM5.41 20L4 18.59l7.72-7.72 1.47 1.35L5.41 20z\"/>\n",
              "  </svg>\n",
              "      </button>\n",
              "      \n",
              "  <style>\n",
              "    .colab-df-container {\n",
              "      display:flex;\n",
              "      flex-wrap:wrap;\n",
              "      gap: 12px;\n",
              "    }\n",
              "\n",
              "    .colab-df-convert {\n",
              "      background-color: #E8F0FE;\n",
              "      border: none;\n",
              "      border-radius: 50%;\n",
              "      cursor: pointer;\n",
              "      display: none;\n",
              "      fill: #1967D2;\n",
              "      height: 32px;\n",
              "      padding: 0 0 0 0;\n",
              "      width: 32px;\n",
              "    }\n",
              "\n",
              "    .colab-df-convert:hover {\n",
              "      background-color: #E2EBFA;\n",
              "      box-shadow: 0px 1px 2px rgba(60, 64, 67, 0.3), 0px 1px 3px 1px rgba(60, 64, 67, 0.15);\n",
              "      fill: #174EA6;\n",
              "    }\n",
              "\n",
              "    [theme=dark] .colab-df-convert {\n",
              "      background-color: #3B4455;\n",
              "      fill: #D2E3FC;\n",
              "    }\n",
              "\n",
              "    [theme=dark] .colab-df-convert:hover {\n",
              "      background-color: #434B5C;\n",
              "      box-shadow: 0px 1px 3px 1px rgba(0, 0, 0, 0.15);\n",
              "      filter: drop-shadow(0px 1px 2px rgba(0, 0, 0, 0.3));\n",
              "      fill: #FFFFFF;\n",
              "    }\n",
              "  </style>\n",
              "\n",
              "      <script>\n",
              "        const buttonEl =\n",
              "          document.querySelector('#df-931ac6be-3b2c-4dc7-8a7c-e5c3474f6029 button.colab-df-convert');\n",
              "        buttonEl.style.display =\n",
              "          google.colab.kernel.accessAllowed ? 'block' : 'none';\n",
              "\n",
              "        async function convertToInteractive(key) {\n",
              "          const element = document.querySelector('#df-931ac6be-3b2c-4dc7-8a7c-e5c3474f6029');\n",
              "          const dataTable =\n",
              "            await google.colab.kernel.invokeFunction('convertToInteractive',\n",
              "                                                     [key], {});\n",
              "          if (!dataTable) return;\n",
              "\n",
              "          const docLinkHtml = 'Like what you see? Visit the ' +\n",
              "            '<a target=\"_blank\" href=https://colab.research.google.com/notebooks/data_table.ipynb>data table notebook</a>'\n",
              "            + ' to learn more about interactive tables.';\n",
              "          element.innerHTML = '';\n",
              "          dataTable['output_type'] = 'display_data';\n",
              "          await google.colab.output.renderOutput(dataTable, element);\n",
              "          const docLink = document.createElement('div');\n",
              "          docLink.innerHTML = docLinkHtml;\n",
              "          element.appendChild(docLink);\n",
              "        }\n",
              "      </script>\n",
              "    </div>\n",
              "  </div>\n",
              "  "
            ]
          },
          "metadata": {},
          "execution_count": 282
        }
      ]
    },
    {
      "cell_type": "code",
      "source": [
        "\n",
        "x=data_df.drop([('Intensity of disease')],axis=1).values\n",
        "y=data_df['Intensity of disease'].values"
      ],
      "metadata": {
        "id": "aQxFD-IGyPAX"
      },
      "execution_count": 283,
      "outputs": []
    },
    {
      "cell_type": "code",
      "source": [
        "print(x)"
      ],
      "metadata": {
        "colab": {
          "base_uri": "https://localhost:8080/"
        },
        "id": "vJPJDtVV_jJs",
        "outputId": "25f50ef1-b6be-4cbd-ce3a-90a4bcd41a53"
      },
      "execution_count": 284,
      "outputs": [
        {
          "output_type": "stream",
          "name": "stdout",
          "text": [
            "[[ 0.    31.     0.375]\n",
            " [ 0.    30.     0.375]\n",
            " [ 0.    25.     0.625]\n",
            " [ 0.    36.     0.625]\n",
            " [ 0.    22.    -1.375]\n",
            " [ 0.    29.    -0.625]\n",
            " [ 0.    31.     0.   ]\n",
            " [ 0.    36.     5.375]\n",
            " [ 0.    37.    -0.125]\n",
            " [ 0.    28.     2.875]\n",
            " [ 0.    36.     1.75 ]\n",
            " [ 0.    24.    -0.25 ]\n",
            " [ 0.    28.    -0.25 ]\n",
            " [ 0.    36.     0.   ]\n",
            " [ 0.    26.    -3.5  ]\n",
            " [ 0.    26.    -4.25 ]\n",
            " [ 0.    28.    -1.5  ]\n",
            " [ 0.    31.     1.5  ]\n",
            " [ 0.    32.    -0.375]\n",
            " [ 0.    21.    -0.5  ]\n",
            " [ 0.    29.     0.25 ]\n",
            " [ 0.    21.     0.625]\n",
            " [ 0.    32.    -0.5  ]\n",
            " [ 0.    25.     0.25 ]\n",
            " [ 0.    30.    11.   ]\n",
            " [ 0.    40.    -0.375]\n",
            " [ 0.    19.     0.   ]\n",
            " [ 0.    22.     0.75 ]\n",
            " [ 1.    18.    -4.25 ]\n",
            " [ 1.    32.    -1.25 ]\n",
            " [ 1.    20.    -1.5  ]\n",
            " [ 1.    20.     0.375]\n",
            " [ 1.    18.     0.   ]\n",
            " [ 1.    24.    -1.625]\n",
            " [ 1.    30.     5.375]\n",
            " [ 1.    35.     0.75 ]\n",
            " [ 1.    57.    -0.125]\n",
            " [ 1.    20.    -5.375]\n",
            " [ 1.    22.    -1.5  ]\n",
            " [ 1.    28.    -0.375]\n",
            " [ 1.    23.    -2.   ]\n",
            " [ 1.    40.    -0.125]\n",
            " [ 1.    43.     2.375]\n",
            " [ 1.    21.    -1.25 ]\n",
            " [ 1.    35.     0.125]\n",
            " [ 1.    25.     0.125]\n",
            " [ 1.    26.    -0.5  ]\n",
            " [ 1.    25.    -1.   ]\n",
            " [ 1.    22.    18.875]\n",
            " [ 1.    32.    -1.125]\n",
            " [ 1.    25.    -2.   ]\n",
            " [ 1.    35.    -2.75 ]\n",
            " [ 1.    21.     1.75 ]\n",
            " [ 1.    41.    -1.375]\n",
            " [ 1.    32.    -0.125]\n",
            " [ 1.    26.     3.625]\n",
            " [ 1.    21.    -2.375]\n",
            " [ 1.    36.    -1.625]\n",
            " [ 1.    37.    -0.25 ]]\n"
          ]
        }
      ]
    },
    {
      "cell_type": "code",
      "source": [
        "print(y)"
      ],
      "metadata": {
        "colab": {
          "base_uri": "https://localhost:8080/"
        },
        "id": "oY5sLoHMCb1_",
        "outputId": "5d77c96f-76f6-4a34-b95f-898cf6a8f6c8"
      },
      "execution_count": 285,
      "outputs": [
        {
          "output_type": "stream",
          "name": "stdout",
          "text": [
            "[4 4 4 4 2 3 4 6 3 5 5 3 3 4 1 1 2 5 3 3 4 4 3 4 7 3 4 4 6 2 2 4 4 2 6 3 3\n",
            " 1 2 3 2 3 5 2 4 4 3 3 7 2 2 2 4 2 3 6 2 2 3]\n"
          ]
        }
      ]
    },
    {
      "cell_type": "code",
      "source": [
        "from sklearn.model_selection import train_test_split\n",
        "x_train,x_test,y_train,y_test=train_test_split(x,y,test_size=0.30,random_state=42)"
      ],
      "metadata": {
        "id": "nSrGYlOc039g"
      },
      "execution_count": 286,
      "outputs": []
    },
    {
      "cell_type": "code",
      "source": [
        "from sklearn.linear_model import LinearRegression\n",
        "ml=LinearRegression()\n",
        "ml.fit(x_train,y_train)"
      ],
      "metadata": {
        "colab": {
          "base_uri": "https://localhost:8080/"
        },
        "id": "Ugq9Xjdw5ROl",
        "outputId": "2210087d-2ac3-4bbb-98d8-43602e72317e"
      },
      "execution_count": 287,
      "outputs": [
        {
          "output_type": "execute_result",
          "data": {
            "text/plain": [
              "LinearRegression()"
            ]
          },
          "metadata": {},
          "execution_count": 287
        }
      ]
    },
    {
      "cell_type": "code",
      "source": [
        "y_pred=ml.predict(x_test)\n",
        "print(y_pred)"
      ],
      "metadata": {
        "colab": {
          "base_uri": "https://localhost:8080/"
        },
        "id": "L2qKLoxP51Mk",
        "outputId": "cac2f10b-a984-483c-afa7-342a8a997840"
      },
      "execution_count": 288,
      "outputs": [
        {
          "output_type": "stream",
          "name": "stdout",
          "text": [
            "[3.64897148 3.34576147 4.74408632 3.5764498  3.19162532 2.87289022\n",
            " 2.76485826 3.49676603 2.86662878 3.44693154 2.88065276 3.75700343\n",
            " 3.3485911  3.22803626 3.54750118 3.97396801 3.5406393  3.0789624 ]\n"
          ]
        }
      ]
    },
    {
      "cell_type": "code",
      "source": [
        "ml.predict([[0,31,0.375]])"
      ],
      "metadata": {
        "colab": {
          "base_uri": "https://localhost:8080/"
        },
        "id": "3JKYlLyC6CSJ",
        "outputId": "e4445981-de2c-45c2-c999-89357705fb46"
      },
      "execution_count": 289,
      "outputs": [
        {
          "output_type": "execute_result",
          "data": {
            "text/plain": [
              "array([3.64897148])"
            ]
          },
          "metadata": {},
          "execution_count": 289
        }
      ]
    },
    {
      "cell_type": "code",
      "source": [
        "from sklearn.metrics import mean_squared_error\n",
        "errors = mean_squared_error(y_test, y_pred, squared=False)\n",
        "errors"
      ],
      "metadata": {
        "colab": {
          "base_uri": "https://localhost:8080/"
        },
        "id": "mXWAdUH-yD_Y",
        "outputId": "3b3d5d8b-2b01-4d4f-8931-a90ac06e97cc"
      },
      "execution_count": 290,
      "outputs": [
        {
          "output_type": "execute_result",
          "data": {
            "text/plain": [
              "0.6969746112347806"
            ]
          },
          "metadata": {},
          "execution_count": 290
        }
      ]
    },
    {
      "cell_type": "code",
      "source": [
        "from sklearn.metrics import r2_score\n",
        "r2_score(y_test,y_pred)"
      ],
      "metadata": {
        "colab": {
          "base_uri": "https://localhost:8080/"
        },
        "id": "mKT05qWt7jX4",
        "outputId": "28d46645-153c-4cae-e4b1-207a3129e945"
      },
      "execution_count": 291,
      "outputs": [
        {
          "output_type": "execute_result",
          "data": {
            "text/plain": [
              "0.5687927418610875"
            ]
          },
          "metadata": {},
          "execution_count": 291
        }
      ]
    },
    {
      "cell_type": "code",
      "source": [
        "import matplotlib.pyplot as plt\n",
        "plt.figure(figsize=(5,5))\n",
        "plt.scatter(y_test,y_pred)\n",
        "plt.xlabel('Actual')\n",
        "plt.ylabel('Predicted')\n",
        "plt.title('Actual vs Predicted')"
      ],
      "metadata": {
        "colab": {
          "base_uri": "https://localhost:8080/",
          "height": 367
        },
        "id": "oh2-DeAR786U",
        "outputId": "466e4eb2-944d-4df3-d923-1d68348dcfde"
      },
      "execution_count": 292,
      "outputs": [
        {
          "output_type": "execute_result",
          "data": {
            "text/plain": [
              "Text(0.5, 1.0, 'Actual vs Predicted')"
            ]
          },
          "metadata": {},
          "execution_count": 292
        },
        {
          "output_type": "display_data",
          "data": {
            "text/plain": [
              "<Figure size 360x360 with 1 Axes>"
            ],
            "image/png": "[encoded data removed]"
          },
          "metadata": {
            "needs_background": "light"
          }
        }
      ]
    },
    {
      "cell_type": "code",
      "source": [
        "#cannot be performed here\n",
        "#from sklearn.metrics import classification_report,confusion_matrix\n",
        "#print(classification_report(y_test,y_pred))\n",
        "#print(confusion_matrix(y_test,y_pred))"
      ],
      "metadata": {
        "id": "aSuXcKefVB6g"
      },
      "execution_count": 293,
      "outputs": []
    },
    {
      "cell_type": "markdown",
      "source": [
        "**Multinomial Logistic Regression**"
      ],
      "metadata": {
        "id": "9dwhn-0rI3a2"
      }
    },
    {
      "cell_type": "code",
      "source": [
        "x_train"
      ],
      "metadata": {
        "colab": {
          "base_uri": "https://localhost:8080/"
        },
        "id": "YoYd2LhfJDyq",
        "outputId": "358b0a38-c847-41fc-87fe-e8126db7b8d3"
      },
      "execution_count": 294,
      "outputs": [
        {
          "output_type": "execute_result",
          "data": {
            "text/plain": [
              "array([[ 1.   , 32.   , -0.125],\n",
              "       [ 0.   , 21.   , -0.5  ],\n",
              "       [ 1.   , 20.   , -1.5  ],\n",
              "       [ 1.   , 25.   , -2.   ],\n",
              "       [ 1.   , 35.   ,  0.125],\n",
              "       [ 1.   , 26.   ,  3.625],\n",
              "       [ 0.   , 26.   , -4.25 ],\n",
              "       [ 0.   , 28.   ,  2.875],\n",
              "       [ 0.   , 22.   ,  0.75 ],\n",
              "       [ 0.   , 19.   ,  0.   ],\n",
              "       [ 0.   , 28.   , -1.5  ],\n",
              "       [ 0.   , 30.   , 11.   ],\n",
              "       [ 1.   , 24.   , -1.625],\n",
              "       [ 1.   , 21.   , -2.375],\n",
              "       [ 1.   , 40.   , -0.125],\n",
              "       [ 0.   , 24.   , -0.25 ],\n",
              "       [ 1.   , 18.   ,  0.   ],\n",
              "       [ 1.   , 21.   ,  1.75 ],\n",
              "       [ 1.   , 23.   , -2.   ],\n",
              "       [ 1.   , 20.   , -5.375],\n",
              "       [ 1.   , 32.   , -1.25 ],\n",
              "       [ 1.   , 21.   , -1.25 ],\n",
              "       [ 0.   , 30.   ,  0.375],\n",
              "       [ 0.   , 21.   ,  0.625],\n",
              "       [ 0.   , 25.   ,  0.625],\n",
              "       [ 1.   , 26.   , -0.5  ],\n",
              "       [ 1.   , 28.   , -0.375],\n",
              "       [ 1.   , 35.   ,  0.75 ],\n",
              "       [ 0.   , 25.   ,  0.25 ],\n",
              "       [ 1.   , 22.   , 18.875],\n",
              "       [ 0.   , 36.   ,  1.75 ],\n",
              "       [ 0.   , 32.   , -0.5  ],\n",
              "       [ 0.   , 32.   , -0.375],\n",
              "       [ 1.   , 37.   , -0.25 ],\n",
              "       [ 0.   , 29.   ,  0.25 ],\n",
              "       [ 0.   , 36.   ,  5.375],\n",
              "       [ 1.   , 43.   ,  2.375],\n",
              "       [ 0.   , 26.   , -3.5  ],\n",
              "       [ 1.   , 18.   , -4.25 ],\n",
              "       [ 1.   , 35.   , -2.75 ],\n",
              "       [ 1.   , 22.   , -1.5  ]])"
            ]
          },
          "metadata": {},
          "execution_count": 294
        }
      ]
    },
    {
      "cell_type": "code",
      "source": [
        "y_train"
      ],
      "metadata": {
        "colab": {
          "base_uri": "https://localhost:8080/"
        },
        "id": "_7M70S_IJQXJ",
        "outputId": "95ed8631-25d9-4a4e-dbd4-9329fe2bccd8"
      },
      "execution_count": 295,
      "outputs": [
        {
          "output_type": "execute_result",
          "data": {
            "text/plain": [
              "array([3, 3, 2, 2, 4, 6, 1, 5, 4, 4, 2, 7, 2, 2, 3, 3, 4, 4, 2, 1, 2, 2,\n",
              "       4, 4, 4, 3, 3, 3, 4, 7, 5, 3, 3, 3, 4, 6, 5, 1, 6, 2, 2])"
            ]
          },
          "metadata": {},
          "execution_count": 295
        }
      ]
    },
    {
      "cell_type": "code",
      "source": [
        "x_test"
      ],
      "metadata": {
        "colab": {
          "base_uri": "https://localhost:8080/"
        },
        "id": "bsMnTaJHJt9_",
        "outputId": "3fd9d289-bbca-4517-ecb1-c462331d38b8"
      },
      "execution_count": 296,
      "outputs": [
        {
          "output_type": "execute_result",
          "data": {
            "text/plain": [
              "array([[ 0.   , 31.   ,  0.375],\n",
              "       [ 0.   , 29.   , -0.625],\n",
              "       [ 1.   , 30.   ,  5.375],\n",
              "       [ 0.   , 36.   ,  0.   ],\n",
              "       [ 1.   , 25.   ,  0.125],\n",
              "       [ 1.   , 41.   , -1.375],\n",
              "       [ 1.   , 36.   , -1.625],\n",
              "       [ 0.   , 40.   , -0.375],\n",
              "       [ 1.   , 25.   , -1.   ],\n",
              "       [ 0.   , 28.   , -0.25 ],\n",
              "       [ 1.   , 32.   , -1.125],\n",
              "       [ 0.   , 36.   ,  0.625],\n",
              "       [ 1.   , 57.   , -0.125],\n",
              "       [ 1.   , 20.   ,  0.375],\n",
              "       [ 0.   , 37.   , -0.125],\n",
              "       [ 0.   , 31.   ,  1.5  ],\n",
              "       [ 0.   , 31.   ,  0.   ],\n",
              "       [ 0.   , 22.   , -1.375]])"
            ]
          },
          "metadata": {},
          "execution_count": 296
        }
      ]
    },
    {
      "cell_type": "code",
      "source": [
        "y_test"
      ],
      "metadata": {
        "colab": {
          "base_uri": "https://localhost:8080/"
        },
        "id": "wFiLY_yhJxBO",
        "outputId": "61d4d269-b488-4fc7-c7e2-b08a10f24671"
      },
      "execution_count": 297,
      "outputs": [
        {
          "output_type": "execute_result",
          "data": {
            "text/plain": [
              "array([4, 3, 6, 4, 4, 2, 2, 3, 3, 3, 2, 4, 3, 4, 3, 5, 4, 2])"
            ]
          },
          "metadata": {},
          "execution_count": 297
        }
      ]
    },
    {
      "cell_type": "code",
      "source": [
        "from sklearn.linear_model import LogisticRegression\n",
        "from sklearn.preprocessing import StandardScaler"
      ],
      "metadata": {
        "id": "mqmCbrISJ1N3"
      },
      "execution_count": 298,
      "outputs": []
    },
    {
      "cell_type": "code",
      "source": [
        "lr=LogisticRegression(multi_class=\"multinomial\",solver=\"lbfgs\",random_state=42)"
      ],
      "metadata": {
        "id": "CsYXs6nbKF0k"
      },
      "execution_count": 299,
      "outputs": []
    },
    {
      "cell_type": "code",
      "source": [
        "lr.fit(x_train,y_train)"
      ],
      "metadata": {
        "colab": {
          "base_uri": "https://localhost:8080/"
        },
        "id": "prWyonxwO5N0",
        "outputId": "54e375f1-6046-42e2-e18d-a8e353bf8085"
      },
      "execution_count": 300,
      "outputs": [
        {
          "output_type": "stream",
          "name": "stderr",
          "text": [
            "/usr/local/lib/python3.7/dist-packages/sklearn/linear_model/_logistic.py:818: ConvergenceWarning: lbfgs failed to converge (status=1):\n",
            "STOP: TOTAL NO. of ITERATIONS REACHED LIMIT.\n",
            "\n",
            "Increase the number of iterations (max_iter) or scale the data as shown in:\n",
            "    https://scikit-learn.org/stable/modules/preprocessing.html\n",
            "Please also refer to the documentation for alternative solver options:\n",
            "    https://scikit-learn.org/stable/modules/linear_model.html#logistic-regression\n",
            "  extra_warning_msg=_LOGISTIC_SOLVER_CONVERGENCE_MSG,\n"
          ]
        },
        {
          "output_type": "execute_result",
          "data": {
            "text/plain": [
              "LogisticRegression(multi_class='multinomial', random_state=42)"
            ]
          },
          "metadata": {},
          "execution_count": 300
        }
      ]
    },
    {
      "cell_type": "code",
      "source": [
        "y_predlr=lr.predict(x_test)"
      ],
      "metadata": {
        "id": "37yOBqKyPGU0"
      },
      "execution_count": 301,
      "outputs": []
    },
    {
      "cell_type": "code",
      "source": [
        "#lr.score(x_test,y_test)"
      ],
      "metadata": {
        "id": "1MZSx1doPYTH"
      },
      "execution_count": 302,
      "outputs": []
    },
    {
      "cell_type": "code",
      "source": [
        "print('Accuracy Score:', metrics.accuracy_score(y_test, y_predlr))  \n"
      ],
      "metadata": {
        "id": "uPWcA4Asdqbt",
        "outputId": "4752b5cd-cb05-4f3e-8df9-8545c457f0d8",
        "colab": {
          "base_uri": "https://localhost:8080/"
        }
      },
      "execution_count": 303,
      "outputs": [
        {
          "output_type": "stream",
          "name": "stdout",
          "text": [
            "Accuracy Score: 0.4444444444444444\n"
          ]
        }
      ]
    },
    {
      "cell_type": "code",
      "source": [
        "class_report=classification_report(y_test, y_predlr)\n",
        "print(class_report)"
      ],
      "metadata": {
        "id": "xPiLUxASeqew",
        "outputId": "bc6deda5-47c4-47fe-9f4e-7ee028da0f59",
        "colab": {
          "base_uri": "https://localhost:8080/"
        }
      },
      "execution_count": 304,
      "outputs": [
        {
          "output_type": "stream",
          "name": "stdout",
          "text": [
            "              precision    recall  f1-score   support\n",
            "\n",
            "           2       0.00      0.00      0.00         4\n",
            "           3       0.42      0.83      0.56         6\n",
            "           4       0.50      0.33      0.40         6\n",
            "           5       0.00      0.00      0.00         1\n",
            "           6       1.00      1.00      1.00         1\n",
            "\n",
            "    accuracy                           0.44        18\n",
            "   macro avg       0.38      0.43      0.39        18\n",
            "weighted avg       0.36      0.44      0.37        18\n",
            "\n"
          ]
        },
        {
          "output_type": "stream",
          "name": "stderr",
          "text": [
            "/usr/local/lib/python3.7/dist-packages/sklearn/metrics/_classification.py:1318: UndefinedMetricWarning: Precision and F-score are ill-defined and being set to 0.0 in labels with no predicted samples. Use `zero_division` parameter to control this behavior.\n",
            "  _warn_prf(average, modifier, msg_start, len(result))\n",
            "/usr/local/lib/python3.7/dist-packages/sklearn/metrics/_classification.py:1318: UndefinedMetricWarning: Precision and F-score are ill-defined and being set to 0.0 in labels with no predicted samples. Use `zero_division` parameter to control this behavior.\n",
            "  _warn_prf(average, modifier, msg_start, len(result))\n",
            "/usr/local/lib/python3.7/dist-packages/sklearn/metrics/_classification.py:1318: UndefinedMetricWarning: Precision and F-score are ill-defined and being set to 0.0 in labels with no predicted samples. Use `zero_division` parameter to control this behavior.\n",
            "  _warn_prf(average, modifier, msg_start, len(result))\n"
          ]
        }
      ]
    },
    {
      "cell_type": "code",
      "source": [
        "#applying standardisation\n",
        "#scaler=StandardScaler()"
      ],
      "metadata": {
        "id": "n1rHcCWNSviT"
      },
      "execution_count": 305,
      "outputs": []
    },
    {
      "cell_type": "code",
      "source": [
        "#x_train_s=scaler.fit_transform(x_train)\n",
        "#x_test_s=scaler.transform(x_test)"
      ],
      "metadata": {
        "id": "24pfI4KVVFfL"
      },
      "execution_count": 306,
      "outputs": []
    },
    {
      "cell_type": "code",
      "source": [
        "#lr.fit(x_train,y_train)"
      ],
      "metadata": {
        "id": "xpvgqcqUVSpN"
      },
      "execution_count": 307,
      "outputs": []
    },
    {
      "cell_type": "code",
      "source": [
        "#y_predlr2=lr.predict(x_test_s)"
      ],
      "metadata": {
        "id": "0OUpxMl5VcYv"
      },
      "execution_count": 308,
      "outputs": []
    },
    {
      "cell_type": "code",
      "source": [
        "#lr.score(x_test_s,y_test)"
      ],
      "metadata": {
        "id": "_376RS2YVnhN"
      },
      "execution_count": 309,
      "outputs": []
    },
    {
      "cell_type": "markdown",
      "source": [
        "**Naive Bayes**"
      ],
      "metadata": {
        "id": "1jYsLpf5bhPh"
      }
    },
    {
      "cell_type": "code",
      "source": [
        "x_train"
      ],
      "metadata": {
        "colab": {
          "base_uri": "https://localhost:8080/"
        },
        "id": "WZN0L6v2bqcI",
        "outputId": "7f7c2e6b-d5b0-44ee-aa29-60b75bc44f47"
      },
      "execution_count": 310,
      "outputs": [
        {
          "output_type": "execute_result",
          "data": {
            "text/plain": [
              "array([[ 1.   , 32.   , -0.125],\n",
              "       [ 0.   , 21.   , -0.5  ],\n",
              "       [ 1.   , 20.   , -1.5  ],\n",
              "       [ 1.   , 25.   , -2.   ],\n",
              "       [ 1.   , 35.   ,  0.125],\n",
              "       [ 1.   , 26.   ,  3.625],\n",
              "       [ 0.   , 26.   , -4.25 ],\n",
              "       [ 0.   , 28.   ,  2.875],\n",
              "       [ 0.   , 22.   ,  0.75 ],\n",
              "       [ 0.   , 19.   ,  0.   ],\n",
              "       [ 0.   , 28.   , -1.5  ],\n",
              "       [ 0.   , 30.   , 11.   ],\n",
              "       [ 1.   , 24.   , -1.625],\n",
              "       [ 1.   , 21.   , -2.375],\n",
              "       [ 1.   , 40.   , -0.125],\n",
              "       [ 0.   , 24.   , -0.25 ],\n",
              "       [ 1.   , 18.   ,  0.   ],\n",
              "       [ 1.   , 21.   ,  1.75 ],\n",
              "       [ 1.   , 23.   , -2.   ],\n",
              "       [ 1.   , 20.   , -5.375],\n",
              "       [ 1.   , 32.   , -1.25 ],\n",
              "       [ 1.   , 21.   , -1.25 ],\n",
              "       [ 0.   , 30.   ,  0.375],\n",
              "       [ 0.   , 21.   ,  0.625],\n",
              "       [ 0.   , 25.   ,  0.625],\n",
              "       [ 1.   , 26.   , -0.5  ],\n",
              "       [ 1.   , 28.   , -0.375],\n",
              "       [ 1.   , 35.   ,  0.75 ],\n",
              "       [ 0.   , 25.   ,  0.25 ],\n",
              "       [ 1.   , 22.   , 18.875],\n",
              "       [ 0.   , 36.   ,  1.75 ],\n",
              "       [ 0.   , 32.   , -0.5  ],\n",
              "       [ 0.   , 32.   , -0.375],\n",
              "       [ 1.   , 37.   , -0.25 ],\n",
              "       [ 0.   , 29.   ,  0.25 ],\n",
              "       [ 0.   , 36.   ,  5.375],\n",
              "       [ 1.   , 43.   ,  2.375],\n",
              "       [ 0.   , 26.   , -3.5  ],\n",
              "       [ 1.   , 18.   , -4.25 ],\n",
              "       [ 1.   , 35.   , -2.75 ],\n",
              "       [ 1.   , 22.   , -1.5  ]])"
            ]
          },
          "metadata": {},
          "execution_count": 310
        }
      ]
    },
    {
      "cell_type": "code",
      "source": [
        "from sklearn.naive_bayes import GaussianNB\n",
        "modelnb=GaussianNB()"
      ],
      "metadata": {
        "id": "GH2ejDa2bv1s"
      },
      "execution_count": 311,
      "outputs": []
    },
    {
      "cell_type": "code",
      "source": [
        "nv=modelnb.fit(x_train,y_train)"
      ],
      "metadata": {
        "id": "-VmoM2ttcHuJ"
      },
      "execution_count": 312,
      "outputs": []
    },
    {
      "cell_type": "code",
      "source": [
        "y_nv=nv.predict(x_test)"
      ],
      "metadata": {
        "id": "wKdPwQwEfMFw"
      },
      "execution_count": 313,
      "outputs": []
    },
    {
      "cell_type": "code",
      "source": [
        "modelnb.score(x_test,y_test)"
      ],
      "metadata": {
        "colab": {
          "base_uri": "https://localhost:8080/"
        },
        "id": "Oz4i7Q26cT76",
        "outputId": "69747473-947d-41e0-d14a-43684d77def2"
      },
      "execution_count": 314,
      "outputs": [
        {
          "output_type": "execute_result",
          "data": {
            "text/plain": [
              "0.7222222222222222"
            ]
          },
          "metadata": {},
          "execution_count": 314
        }
      ]
    },
    {
      "cell_type": "code",
      "source": [
        "print('Accuracy Score:', metrics.accuracy_score(y_test, y_nv))  \n"
      ],
      "metadata": {
        "id": "BhSUPy7JeBtt",
        "outputId": "a85bddf9-dcfc-4a07-e115-3ed15968d7ab",
        "colab": {
          "base_uri": "https://localhost:8080/"
        }
      },
      "execution_count": 315,
      "outputs": [
        {
          "output_type": "stream",
          "name": "stdout",
          "text": [
            "Accuracy Score: 0.7222222222222222\n"
          ]
        }
      ]
    },
    {
      "cell_type": "code",
      "source": [
        "class_report=classification_report(y_test, y_nv)\n",
        "print(class_report)"
      ],
      "metadata": {
        "id": "PfHH06qLimn2",
        "outputId": "314a9f0b-5fe9-453c-ff6c-29eb8ef164a2",
        "colab": {
          "base_uri": "https://localhost:8080/"
        }
      },
      "execution_count": 316,
      "outputs": [
        {
          "output_type": "stream",
          "name": "stdout",
          "text": [
            "              precision    recall  f1-score   support\n",
            "\n",
            "           2       0.80      1.00      0.89         4\n",
            "           3       0.62      0.83      0.71         6\n",
            "           4       0.75      0.50      0.60         6\n",
            "           5       0.00      0.00      0.00         1\n",
            "           6       1.00      1.00      1.00         1\n",
            "\n",
            "    accuracy                           0.72        18\n",
            "   macro avg       0.64      0.67      0.64        18\n",
            "weighted avg       0.69      0.72      0.69        18\n",
            "\n"
          ]
        },
        {
          "output_type": "stream",
          "name": "stderr",
          "text": [
            "/usr/local/lib/python3.7/dist-packages/sklearn/metrics/_classification.py:1318: UndefinedMetricWarning: Precision and F-score are ill-defined and being set to 0.0 in labels with no predicted samples. Use `zero_division` parameter to control this behavior.\n",
            "  _warn_prf(average, modifier, msg_start, len(result))\n",
            "/usr/local/lib/python3.7/dist-packages/sklearn/metrics/_classification.py:1318: UndefinedMetricWarning: Precision and F-score are ill-defined and being set to 0.0 in labels with no predicted samples. Use `zero_division` parameter to control this behavior.\n",
            "  _warn_prf(average, modifier, msg_start, len(result))\n",
            "/usr/local/lib/python3.7/dist-packages/sklearn/metrics/_classification.py:1318: UndefinedMetricWarning: Precision and F-score are ill-defined and being set to 0.0 in labels with no predicted samples. Use `zero_division` parameter to control this behavior.\n",
            "  _warn_prf(average, modifier, msg_start, len(result))\n"
          ]
        }
      ]
    },
    {
      "cell_type": "code",
      "source": [
        "x_test"
      ],
      "metadata": {
        "colab": {
          "base_uri": "https://localhost:8080/"
        },
        "id": "LUspiUDEdlEN",
        "outputId": "8cf2e052-4ddc-45e4-d02e-af6bc8aeb276"
      },
      "execution_count": 317,
      "outputs": [
        {
          "output_type": "execute_result",
          "data": {
            "text/plain": [
              "array([[ 0.   , 31.   ,  0.375],\n",
              "       [ 0.   , 29.   , -0.625],\n",
              "       [ 1.   , 30.   ,  5.375],\n",
              "       [ 0.   , 36.   ,  0.   ],\n",
              "       [ 1.   , 25.   ,  0.125],\n",
              "       [ 1.   , 41.   , -1.375],\n",
              "       [ 1.   , 36.   , -1.625],\n",
              "       [ 0.   , 40.   , -0.375],\n",
              "       [ 1.   , 25.   , -1.   ],\n",
              "       [ 0.   , 28.   , -0.25 ],\n",
              "       [ 1.   , 32.   , -1.125],\n",
              "       [ 0.   , 36.   ,  0.625],\n",
              "       [ 1.   , 57.   , -0.125],\n",
              "       [ 1.   , 20.   ,  0.375],\n",
              "       [ 0.   , 37.   , -0.125],\n",
              "       [ 0.   , 31.   ,  1.5  ],\n",
              "       [ 0.   , 31.   ,  0.   ],\n",
              "       [ 0.   , 22.   , -1.375]])"
            ]
          },
          "metadata": {},
          "execution_count": 317
        }
      ]
    },
    {
      "cell_type": "code",
      "source": [
        "y_test"
      ],
      "metadata": {
        "colab": {
          "base_uri": "https://localhost:8080/"
        },
        "id": "APfTquA1db2R",
        "outputId": "38c0cba7-656d-45f9-b9b5-25108975cf14"
      },
      "execution_count": 318,
      "outputs": [
        {
          "output_type": "execute_result",
          "data": {
            "text/plain": [
              "array([4, 3, 6, 4, 4, 2, 2, 3, 3, 3, 2, 4, 3, 4, 3, 5, 4, 2])"
            ]
          },
          "metadata": {},
          "execution_count": 318
        }
      ]
    },
    {
      "cell_type": "code",
      "source": [
        "modelnb.predict(x_test)"
      ],
      "metadata": {
        "colab": {
          "base_uri": "https://localhost:8080/"
        },
        "id": "lmrSR7K7deqt",
        "outputId": "6d9a0a96-755c-4363-d044-3088c08bc6cb"
      },
      "execution_count": 319,
      "outputs": [
        {
          "output_type": "execute_result",
          "data": {
            "text/plain": [
              "array([4, 3, 6, 3, 3, 2, 2, 3, 2, 3, 2, 4, 3, 4, 3, 4, 3, 2])"
            ]
          },
          "metadata": {},
          "execution_count": 319
        }
      ]
    },
    {
      "cell_type": "markdown",
      "source": [
        "**K-Nearest Neighbours(KNN algorithm)**"
      ],
      "metadata": {
        "id": "v8cBIWwhgAI0"
      }
    },
    {
      "cell_type": "code",
      "source": [
        "#Scaling imp here else 0.33\n",
        "from sklearn.preprocessing import StandardScaler\n",
        "scaler=StandardScaler()\n",
        "scaler.fit(x_train)\n",
        "x_trainsc=scaler.transform(x_train)\n",
        "x_testsc=scaler.transform(x_test)"
      ],
      "metadata": {
        "id": "joDqeMAKgOqP"
      },
      "execution_count": 320,
      "outputs": []
    },
    {
      "cell_type": "code",
      "source": [
        "from sklearn.neighbors import KNeighborsClassifier\n",
        "classifier=KNeighborsClassifier(n_neighbors=5)\n",
        "classifier.fit(x_trainsc,y_train)"
      ],
      "metadata": {
        "colab": {
          "base_uri": "https://localhost:8080/"
        },
        "id": "iv23_W7chTdS",
        "outputId": "965a24d8-3680-447b-cf29-b4bcc959a74f"
      },
      "execution_count": 321,
      "outputs": [
        {
          "output_type": "execute_result",
          "data": {
            "text/plain": [
              "KNeighborsClassifier()"
            ]
          },
          "metadata": {},
          "execution_count": 321
        }
      ]
    },
    {
      "cell_type": "code",
      "source": [
        "classifier.score(x_testsc,y_test)"
      ],
      "metadata": {
        "colab": {
          "base_uri": "https://localhost:8080/"
        },
        "id": "4jrGxtu5lpN6",
        "outputId": "92052b04-9591-42ac-d09e-69ad90932c2d"
      },
      "execution_count": 322,
      "outputs": [
        {
          "output_type": "execute_result",
          "data": {
            "text/plain": [
              "0.3333333333333333"
            ]
          },
          "metadata": {},
          "execution_count": 322
        }
      ]
    },
    {
      "cell_type": "code",
      "source": [
        "y_predknn=classifier.predict(x_testsc)"
      ],
      "metadata": {
        "id": "Jw5IjvijiUQm"
      },
      "execution_count": 323,
      "outputs": []
    },
    {
      "cell_type": "code",
      "source": [
        "from sklearn.metrics import classification_report,confusion_matrix\n",
        "print(classification_report(y_test,y_predknn))\n",
        "print(confusion_matrix(y_test,y_predknn))"
      ],
      "metadata": {
        "colab": {
          "base_uri": "https://localhost:8080/"
        },
        "id": "vU-QAV9Iin-6",
        "outputId": "2f805d25-682d-4b96-c098-2695cb19c0cc"
      },
      "execution_count": 324,
      "outputs": [
        {
          "output_type": "stream",
          "name": "stdout",
          "text": [
            "              precision    recall  f1-score   support\n",
            "\n",
            "           2       0.40      0.50      0.44         4\n",
            "           3       0.36      0.67      0.47         6\n",
            "           4       0.00      0.00      0.00         6\n",
            "           5       0.00      0.00      0.00         1\n",
            "           6       0.00      0.00      0.00         1\n",
            "\n",
            "    accuracy                           0.33        18\n",
            "   macro avg       0.15      0.23      0.18        18\n",
            "weighted avg       0.21      0.33      0.26        18\n",
            "\n",
            "[[2 1 1 0 0]\n",
            " [1 4 1 0 0]\n",
            " [2 4 0 0 0]\n",
            " [0 1 0 0 0]\n",
            " [0 1 0 0 0]]\n"
          ]
        },
        {
          "output_type": "stream",
          "name": "stderr",
          "text": [
            "/usr/local/lib/python3.7/dist-packages/sklearn/metrics/_classification.py:1318: UndefinedMetricWarning: Precision and F-score are ill-defined and being set to 0.0 in labels with no predicted samples. Use `zero_division` parameter to control this behavior.\n",
            "  _warn_prf(average, modifier, msg_start, len(result))\n",
            "/usr/local/lib/python3.7/dist-packages/sklearn/metrics/_classification.py:1318: UndefinedMetricWarning: Precision and F-score are ill-defined and being set to 0.0 in labels with no predicted samples. Use `zero_division` parameter to control this behavior.\n",
            "  _warn_prf(average, modifier, msg_start, len(result))\n",
            "/usr/local/lib/python3.7/dist-packages/sklearn/metrics/_classification.py:1318: UndefinedMetricWarning: Precision and F-score are ill-defined and being set to 0.0 in labels with no predicted samples. Use `zero_division` parameter to control this behavior.\n",
            "  _warn_prf(average, modifier, msg_start, len(result))\n"
          ]
        }
      ]
    },
    {
      "cell_type": "markdown",
      "source": [
        "**Decision Tree**"
      ],
      "metadata": {
        "id": "MdrcXV8A-xFI"
      }
    },
    {
      "cell_type": "code",
      "source": [
        "x_train"
      ],
      "metadata": {
        "colab": {
          "base_uri": "https://localhost:8080/"
        },
        "id": "pSS6oRne-y7v",
        "outputId": "84e79961-5bf8-40a0-b177-dd317571ac9e"
      },
      "execution_count": 325,
      "outputs": [
        {
          "output_type": "execute_result",
          "data": {
            "text/plain": [
              "array([[ 1.   , 32.   , -0.125],\n",
              "       [ 0.   , 21.   , -0.5  ],\n",
              "       [ 1.   , 20.   , -1.5  ],\n",
              "       [ 1.   , 25.   , -2.   ],\n",
              "       [ 1.   , 35.   ,  0.125],\n",
              "       [ 1.   , 26.   ,  3.625],\n",
              "       [ 0.   , 26.   , -4.25 ],\n",
              "       [ 0.   , 28.   ,  2.875],\n",
              "       [ 0.   , 22.   ,  0.75 ],\n",
              "       [ 0.   , 19.   ,  0.   ],\n",
              "       [ 0.   , 28.   , -1.5  ],\n",
              "       [ 0.   , 30.   , 11.   ],\n",
              "       [ 1.   , 24.   , -1.625],\n",
              "       [ 1.   , 21.   , -2.375],\n",
              "       [ 1.   , 40.   , -0.125],\n",
              "       [ 0.   , 24.   , -0.25 ],\n",
              "       [ 1.   , 18.   ,  0.   ],\n",
              "       [ 1.   , 21.   ,  1.75 ],\n",
              "       [ 1.   , 23.   , -2.   ],\n",
              "       [ 1.   , 20.   , -5.375],\n",
              "       [ 1.   , 32.   , -1.25 ],\n",
              "       [ 1.   , 21.   , -1.25 ],\n",
              "       [ 0.   , 30.   ,  0.375],\n",
              "       [ 0.   , 21.   ,  0.625],\n",
              "       [ 0.   , 25.   ,  0.625],\n",
              "       [ 1.   , 26.   , -0.5  ],\n",
              "       [ 1.   , 28.   , -0.375],\n",
              "       [ 1.   , 35.   ,  0.75 ],\n",
              "       [ 0.   , 25.   ,  0.25 ],\n",
              "       [ 1.   , 22.   , 18.875],\n",
              "       [ 0.   , 36.   ,  1.75 ],\n",
              "       [ 0.   , 32.   , -0.5  ],\n",
              "       [ 0.   , 32.   , -0.375],\n",
              "       [ 1.   , 37.   , -0.25 ],\n",
              "       [ 0.   , 29.   ,  0.25 ],\n",
              "       [ 0.   , 36.   ,  5.375],\n",
              "       [ 1.   , 43.   ,  2.375],\n",
              "       [ 0.   , 26.   , -3.5  ],\n",
              "       [ 1.   , 18.   , -4.25 ],\n",
              "       [ 1.   , 35.   , -2.75 ],\n",
              "       [ 1.   , 22.   , -1.5  ]])"
            ]
          },
          "metadata": {},
          "execution_count": 325
        }
      ]
    },
    {
      "cell_type": "code",
      "source": [
        "#importing decision tree classifier\n",
        "from sklearn.tree import DecisionTreeClassifier"
      ],
      "metadata": {
        "id": "DHkh-oNZ_1PT"
      },
      "execution_count": 326,
      "outputs": []
    },
    {
      "cell_type": "code",
      "source": [
        "#importing decision tree regressor\n",
        "from sklearn.tree import DecisionTreeRegressor"
      ],
      "metadata": {
        "id": "DK-8tkkZADlR"
      },
      "execution_count": 327,
      "outputs": []
    },
    {
      "cell_type": "code",
      "source": [
        "#creating decision tree function\n",
        "dt=DecisionTreeClassifier(random_state=42)"
      ],
      "metadata": {
        "id": "j-1XKY0BANyD"
      },
      "execution_count": 328,
      "outputs": []
    },
    {
      "cell_type": "code",
      "source": [
        "#fitting model\n",
        "dt.fit(x_train,y_train)"
      ],
      "metadata": {
        "colab": {
          "base_uri": "https://localhost:8080/"
        },
        "id": "3rrILZhLAdJb",
        "outputId": "3defab93-a2eb-46b8-d1b2-e79f9654afca"
      },
      "execution_count": 329,
      "outputs": [
        {
          "output_type": "execute_result",
          "data": {
            "text/plain": [
              "DecisionTreeClassifier(random_state=42)"
            ]
          },
          "metadata": {},
          "execution_count": 329
        }
      ]
    },
    {
      "cell_type": "code",
      "source": [
        "#checking training score\n",
        "dt.score(x_train,y_train)"
      ],
      "metadata": {
        "colab": {
          "base_uri": "https://localhost:8080/"
        },
        "id": "J_bSAtxTAnkm",
        "outputId": "9ea42ba7-7acc-4513-8776-9101cc8c547b"
      },
      "execution_count": 330,
      "outputs": [
        {
          "output_type": "execute_result",
          "data": {
            "text/plain": [
              "1.0"
            ]
          },
          "metadata": {},
          "execution_count": 330
        }
      ]
    },
    {
      "cell_type": "code",
      "source": [
        "#checking testing score\n",
        "y_preddt=dt.predict(x_test)"
      ],
      "metadata": {
        "id": "YCe46ZllA4qi"
      },
      "execution_count": 331,
      "outputs": []
    },
    {
      "cell_type": "code",
      "source": [
        "from sklearn import metrics\n",
        "metrics.accuracy_score(y_test,y_preddt)"
      ],
      "metadata": {
        "colab": {
          "base_uri": "https://localhost:8080/"
        },
        "id": "Vmc2uD9sBD1Q",
        "outputId": "7634f9f4-aae5-45af-94b0-1564e70789cf"
      },
      "execution_count": 332,
      "outputs": [
        {
          "output_type": "execute_result",
          "data": {
            "text/plain": [
              "0.7777777777777778"
            ]
          },
          "metadata": {},
          "execution_count": 332
        }
      ]
    },
    {
      "cell_type": "code",
      "source": [
        "print(classification_report(y_test,y_preddt))"
      ],
      "metadata": {
        "colab": {
          "base_uri": "https://localhost:8080/"
        },
        "id": "vqhgyXolOidd",
        "outputId": "fb4299f4-d4fe-40c6-ce79-8763c5086d19"
      },
      "execution_count": 333,
      "outputs": [
        {
          "output_type": "stream",
          "name": "stdout",
          "text": [
            "              precision    recall  f1-score   support\n",
            "\n",
            "           2       0.80      1.00      0.89         4\n",
            "           3       1.00      0.83      0.91         6\n",
            "           4       0.80      0.67      0.73         6\n",
            "           5       0.00      0.00      0.00         1\n",
            "           6       1.00      1.00      1.00         1\n",
            "\n",
            "    accuracy                           0.78        18\n",
            "   macro avg       0.72      0.70      0.71        18\n",
            "weighted avg       0.83      0.78      0.80        18\n",
            "\n"
          ]
        }
      ]
    },
    {
      "cell_type": "markdown",
      "source": [
        "**Random Forest**"
      ],
      "metadata": {
        "id": "njfRjXheKdgQ"
      }
    },
    {
      "cell_type": "code",
      "source": [
        "x_train"
      ],
      "metadata": {
        "colab": {
          "base_uri": "https://localhost:8080/"
        },
        "id": "s0cAlafrKka-",
        "outputId": "cd90be75-dc23-4846-a7b2-1745d1544c66"
      },
      "execution_count": 334,
      "outputs": [
        {
          "output_type": "execute_result",
          "data": {
            "text/plain": [
              "array([[ 1.   , 32.   , -0.125],\n",
              "       [ 0.   , 21.   , -0.5  ],\n",
              "       [ 1.   , 20.   , -1.5  ],\n",
              "       [ 1.   , 25.   , -2.   ],\n",
              "       [ 1.   , 35.   ,  0.125],\n",
              "       [ 1.   , 26.   ,  3.625],\n",
              "       [ 0.   , 26.   , -4.25 ],\n",
              "       [ 0.   , 28.   ,  2.875],\n",
              "       [ 0.   , 22.   ,  0.75 ],\n",
              "       [ 0.   , 19.   ,  0.   ],\n",
              "       [ 0.   , 28.   , -1.5  ],\n",
              "       [ 0.   , 30.   , 11.   ],\n",
              "       [ 1.   , 24.   , -1.625],\n",
              "       [ 1.   , 21.   , -2.375],\n",
              "       [ 1.   , 40.   , -0.125],\n",
              "       [ 0.   , 24.   , -0.25 ],\n",
              "       [ 1.   , 18.   ,  0.   ],\n",
              "       [ 1.   , 21.   ,  1.75 ],\n",
              "       [ 1.   , 23.   , -2.   ],\n",
              "       [ 1.   , 20.   , -5.375],\n",
              "       [ 1.   , 32.   , -1.25 ],\n",
              "       [ 1.   , 21.   , -1.25 ],\n",
              "       [ 0.   , 30.   ,  0.375],\n",
              "       [ 0.   , 21.   ,  0.625],\n",
              "       [ 0.   , 25.   ,  0.625],\n",
              "       [ 1.   , 26.   , -0.5  ],\n",
              "       [ 1.   , 28.   , -0.375],\n",
              "       [ 1.   , 35.   ,  0.75 ],\n",
              "       [ 0.   , 25.   ,  0.25 ],\n",
              "       [ 1.   , 22.   , 18.875],\n",
              "       [ 0.   , 36.   ,  1.75 ],\n",
              "       [ 0.   , 32.   , -0.5  ],\n",
              "       [ 0.   , 32.   , -0.375],\n",
              "       [ 1.   , 37.   , -0.25 ],\n",
              "       [ 0.   , 29.   ,  0.25 ],\n",
              "       [ 0.   , 36.   ,  5.375],\n",
              "       [ 1.   , 43.   ,  2.375],\n",
              "       [ 0.   , 26.   , -3.5  ],\n",
              "       [ 1.   , 18.   , -4.25 ],\n",
              "       [ 1.   , 35.   , -2.75 ],\n",
              "       [ 1.   , 22.   , -1.5  ]])"
            ]
          },
          "metadata": {},
          "execution_count": 334
        }
      ]
    },
    {
      "cell_type": "code",
      "source": [
        "from sklearn.ensemble import RandomForestClassifier\n",
        "rf=RandomForestClassifier(random_state=42)\n",
        "rf.fit(x_train,y_train)"
      ],
      "metadata": {
        "colab": {
          "base_uri": "https://localhost:8080/"
        },
        "id": "54-jrK6JKrfD",
        "outputId": "c5571123-92ae-4026-93f9-c75b3072463b"
      },
      "execution_count": 335,
      "outputs": [
        {
          "output_type": "execute_result",
          "data": {
            "text/plain": [
              "RandomForestClassifier(random_state=42)"
            ]
          },
          "metadata": {},
          "execution_count": 335
        }
      ]
    },
    {
      "cell_type": "code",
      "source": [
        "rf.predict(x_test)"
      ],
      "metadata": {
        "colab": {
          "base_uri": "https://localhost:8080/"
        },
        "id": "UkGz4LNxNvat",
        "outputId": "758c6413-b575-48e4-944b-bf26efd7f25a"
      },
      "execution_count": 336,
      "outputs": [
        {
          "output_type": "execute_result",
          "data": {
            "text/plain": [
              "array([4, 3, 6, 3, 4, 2, 2, 3, 2, 3, 2, 4, 3, 4, 3, 4, 4, 2])"
            ]
          },
          "metadata": {},
          "execution_count": 336
        }
      ]
    },
    {
      "cell_type": "code",
      "source": [
        "y_predrf=rf.predict(x_test)"
      ],
      "metadata": {
        "id": "B8K2s9VqK6sx"
      },
      "execution_count": 337,
      "outputs": []
    },
    {
      "cell_type": "code",
      "source": [
        "from sklearn.metrics import accuracy_score,classification_report\n",
        "accuracy_score(y_test,y_predrf)\n"
      ],
      "metadata": {
        "colab": {
          "base_uri": "https://localhost:8080/"
        },
        "id": "EaReoqmfLIo3",
        "outputId": "b9bd4c15-0166-4c8d-8e80-7240e209e5f1"
      },
      "execution_count": 338,
      "outputs": [
        {
          "output_type": "execute_result",
          "data": {
            "text/plain": [
              "0.8333333333333334"
            ]
          },
          "metadata": {},
          "execution_count": 338
        }
      ]
    },
    {
      "cell_type": "code",
      "source": [
        "print(classification_report(y_test,y_predrf))"
      ],
      "metadata": {
        "colab": {
          "base_uri": "https://localhost:8080/"
        },
        "id": "PNjTgLDTMS7k",
        "outputId": "efb8b316-2e0d-46ae-b7fb-dbcc134a2944"
      },
      "execution_count": 339,
      "outputs": [
        {
          "output_type": "stream",
          "name": "stdout",
          "text": [
            "              precision    recall  f1-score   support\n",
            "\n",
            "           2       0.80      1.00      0.89         4\n",
            "           3       0.83      0.83      0.83         6\n",
            "           4       0.83      0.83      0.83         6\n",
            "           5       0.00      0.00      0.00         1\n",
            "           6       1.00      1.00      1.00         1\n",
            "\n",
            "    accuracy                           0.83        18\n",
            "   macro avg       0.69      0.73      0.71        18\n",
            "weighted avg       0.79      0.83      0.81        18\n",
            "\n"
          ]
        },
        {
          "output_type": "stream",
          "name": "stderr",
          "text": [
            "/usr/local/lib/python3.7/dist-packages/sklearn/metrics/_classification.py:1318: UndefinedMetricWarning: Precision and F-score are ill-defined and being set to 0.0 in labels with no predicted samples. Use `zero_division` parameter to control this behavior.\n",
            "  _warn_prf(average, modifier, msg_start, len(result))\n",
            "/usr/local/lib/python3.7/dist-packages/sklearn/metrics/_classification.py:1318: UndefinedMetricWarning: Precision and F-score are ill-defined and being set to 0.0 in labels with no predicted samples. Use `zero_division` parameter to control this behavior.\n",
            "  _warn_prf(average, modifier, msg_start, len(result))\n",
            "/usr/local/lib/python3.7/dist-packages/sklearn/metrics/_classification.py:1318: UndefinedMetricWarning: Precision and F-score are ill-defined and being set to 0.0 in labels with no predicted samples. Use `zero_division` parameter to control this behavior.\n",
            "  _warn_prf(average, modifier, msg_start, len(result))\n"
          ]
        }
      ]
    },
    {
      "cell_type": "code",
      "source": [
        ""
      ],
      "metadata": {
        "id": "oi34G7jQOMz1"
      },
      "execution_count": 339,
      "outputs": []
    },
    {
      "cell_type": "markdown",
      "source": [
        "SGD"
      ],
      "metadata": {
        "id": "ThqV61wVVEIl"
      }
    },
    {
      "cell_type": "code",
      "source": [
        "from sklearn import preprocessing\n",
        "from sklearn.linear_model import SGDClassifier\n",
        "#scaled\n",
        "scaler = preprocessing.StandardScaler()\n",
        "sgdx_train = scaler.fit_transform(x_train)\n",
        "sgdx_test = scaler.transform(x_test)"
      ],
      "metadata": {
        "id": "t-6TEPGyVp4V"
      },
      "execution_count": 340,
      "outputs": []
    },
    {
      "cell_type": "code",
      "source": [
        "sgdc=SGDClassifier(max_iter=1000)\n",
        "print(sgdc)"
      ],
      "metadata": {
        "id": "LogMJTP4Yj5S",
        "outputId": "de54dff5-3092-43d0-e978-00a4af725b4a",
        "colab": {
          "base_uri": "https://localhost:8080/"
        }
      },
      "execution_count": 341,
      "outputs": [
        {
          "output_type": "stream",
          "name": "stdout",
          "text": [
            "SGDClassifier()\n"
          ]
        }
      ]
    },
    {
      "cell_type": "code",
      "source": [
        "sgdc.fit(sgdx_train,y_train)"
      ],
      "metadata": {
        "id": "EtQaC8DrFRPm",
        "outputId": "10d06208-fc1b-4ca9-b93d-3e01280ba88d",
        "colab": {
          "base_uri": "https://localhost:8080/"
        }
      },
      "execution_count": 342,
      "outputs": [
        {
          "output_type": "execute_result",
          "data": {
            "text/plain": [
              "SGDClassifier()"
            ]
          },
          "metadata": {},
          "execution_count": 342
        }
      ]
    },
    {
      "cell_type": "code",
      "source": [
        "score = sgdc.score(sgdx_train, y_train)\n",
        "print(\"Training score: \", score) \n",
        " \n",
        "\n"
      ],
      "metadata": {
        "id": "IXntJemlFlGE",
        "outputId": "24404f52-3bd8-402a-db82-7427ccf71474",
        "colab": {
          "base_uri": "https://localhost:8080/"
        }
      },
      "execution_count": 343,
      "outputs": [
        {
          "output_type": "stream",
          "name": "stdout",
          "text": [
            "Training score:  0.5365853658536586\n"
          ]
        }
      ]
    },
    {
      "cell_type": "code",
      "source": [
        "sgdypred = sgdc.predict(sgdx_test)"
      ],
      "metadata": {
        "id": "rylAF-acGJfr"
      },
      "execution_count": 344,
      "outputs": []
    },
    {
      "cell_type": "code",
      "source": [
        "cr = classification_report(y_test, sgdypred)\n",
        "print(cr)"
      ],
      "metadata": {
        "id": "j_UFsQOTFq_3",
        "outputId": "c6784eca-d70a-4303-feaf-8d1e06f8ff07",
        "colab": {
          "base_uri": "https://localhost:8080/"
        }
      },
      "execution_count": 345,
      "outputs": [
        {
          "output_type": "stream",
          "name": "stdout",
          "text": [
            "              precision    recall  f1-score   support\n",
            "\n",
            "           2       0.40      0.50      0.44         4\n",
            "           3       0.00      0.00      0.00         6\n",
            "           4       0.33      0.33      0.33         6\n",
            "           5       0.00      0.00      0.00         1\n",
            "           6       0.00      0.00      0.00         1\n",
            "           7       0.00      0.00      0.00         0\n",
            "\n",
            "    accuracy                           0.22        18\n",
            "   macro avg       0.12      0.14      0.13        18\n",
            "weighted avg       0.20      0.22      0.21        18\n",
            "\n"
          ]
        },
        {
          "output_type": "stream",
          "name": "stderr",
          "text": [
            "/usr/local/lib/python3.7/dist-packages/sklearn/metrics/_classification.py:1318: UndefinedMetricWarning: Precision and F-score are ill-defined and being set to 0.0 in labels with no predicted samples. Use `zero_division` parameter to control this behavior.\n",
            "  _warn_prf(average, modifier, msg_start, len(result))\n",
            "/usr/local/lib/python3.7/dist-packages/sklearn/metrics/_classification.py:1318: UndefinedMetricWarning: Recall and F-score are ill-defined and being set to 0.0 in labels with no true samples. Use `zero_division` parameter to control this behavior.\n",
            "  _warn_prf(average, modifier, msg_start, len(result))\n",
            "/usr/local/lib/python3.7/dist-packages/sklearn/metrics/_classification.py:1318: UndefinedMetricWarning: Precision and F-score are ill-defined and being set to 0.0 in labels with no predicted samples. Use `zero_division` parameter to control this behavior.\n",
            "  _warn_prf(average, modifier, msg_start, len(result))\n",
            "/usr/local/lib/python3.7/dist-packages/sklearn/metrics/_classification.py:1318: UndefinedMetricWarning: Recall and F-score are ill-defined and being set to 0.0 in labels with no true samples. Use `zero_division` parameter to control this behavior.\n",
            "  _warn_prf(average, modifier, msg_start, len(result))\n",
            "/usr/local/lib/python3.7/dist-packages/sklearn/metrics/_classification.py:1318: UndefinedMetricWarning: Precision and F-score are ill-defined and being set to 0.0 in labels with no predicted samples. Use `zero_division` parameter to control this behavior.\n",
            "  _warn_prf(average, modifier, msg_start, len(result))\n",
            "/usr/local/lib/python3.7/dist-packages/sklearn/metrics/_classification.py:1318: UndefinedMetricWarning: Recall and F-score are ill-defined and being set to 0.0 in labels with no true samples. Use `zero_division` parameter to control this behavior.\n",
            "  _warn_prf(average, modifier, msg_start, len(result))\n"
          ]
        }
      ]
    },
    {
      "cell_type": "code",
      "source": [
        ""
      ],
      "metadata": {
        "id": "f4ms7aJFGX77"
      },
      "execution_count": 345,
      "outputs": []
    }
  ]
}