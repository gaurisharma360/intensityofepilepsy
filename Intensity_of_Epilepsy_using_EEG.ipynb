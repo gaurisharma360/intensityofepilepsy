{
  "nbformat": 4,
  "nbformat_minor": 0,
  "metadata": {
    "colab": {
      "name": "Intensity of Epilepsy using EEG.ipynb",
      "provenance": [],
      "collapsed_sections": [],
      "mount_file_id": "1ApSGWAO8Lj7dpbJDhE1OovAfjn7jHaJY",
      "authorship_tag": "ABX9TyMka9Dn6J5TzVRcMVAnPX5I",
      "include_colab_link": true
    },
    "kernelspec": {
      "name": "python3",
      "display_name": "Python 3"
    },
    "language_info": {
      "name": "python"
    }
  },
  "cells": [
    {
      "cell_type": "markdown",
      "metadata": {
        "id": "view-in-github",
        "colab_type": "text"
      },
      "source": [
        "<a href=\"https://colab.research.google.com/github/gaurisharma360/intensityofepilepsy/blob/main/Intensity_of_Epilepsy_using_EEG.ipynb\" target=\"_parent\"><img src=\"https://colab.research.google.com/assets/colab-badge.svg\" alt=\"Open In Colab\"/></a>"
      ]
    },
    {
      "cell_type": "code",
      "execution_count": 319,
      "metadata": {
        "id": "PBU3Ccwaw7We"
      },
      "outputs": [],
      "source": [
        "import pandas as pd\n",
        "import numpy as np\n",
        "import sklearn.metrics as metrics\n",
        "from sklearn.metrics import classification_report,confusion_matrix\n",
        "from sklearn.metrics import mean_squared_error\n",
        "from math import sqrt\n",
        "from sklearn.ensemble import GradientBoostingClassifier\n",
        "import matplotlib.pyplot as plt\n",
        "from sklearn.metrics import roc_curve\n",
        "from sklearn.metrics import roc_auc_score\n",
        "import seaborn as sns"
      ]
    },
    {
      "cell_type": "code",
      "source": [
        "#import sklearn\n",
        "#sklearn.__version__"
      ],
      "metadata": {
        "id": "B3MaF_ueWKM7"
      },
      "execution_count": 320,
      "outputs": []
    },
    {
      "cell_type": "markdown",
      "source": [
        "**Multiple Linear Regression**"
      ],
      "metadata": {
        "id": "7V1tBaqOX4CG"
      }
    },
    {
      "cell_type": "code",
      "source": [
        "#confusion,heatmap not possible because it tells the possibility no clear cut classification(i Think)"
      ],
      "metadata": {
        "id": "0VvZkzsKXWAO"
      },
      "execution_count": 321,
      "outputs": []
    },
    {
      "cell_type": "code",
      "source": [
        "data_df=pd.read_csv(\"/content/Minorv2.csv\")"
      ],
      "metadata": {
        "id": "CBZvTmKyxbia"
      },
      "execution_count": 322,
      "outputs": []
    },
    {
      "cell_type": "code",
      "source": [
        "data_df.head()"
      ],
      "metadata": {
        "colab": {
          "base_uri": "https://localhost:8080/",
          "height": 206
        },
        "id": "mb2OtDAAyDmc",
        "outputId": "6c32ccfd-549c-4b10-ab1f-e8add929914e"
      },
      "execution_count": 323,
      "outputs": [
        {
          "output_type": "execute_result",
          "data": {
            "text/plain": [
              "   Treatment (0=Placebo, 1=Progabide)  Age  Difference in frequencies  \\\n",
              "0                                   0   31                      0.375   \n",
              "1                                   0   30                      0.375   \n",
              "2                                   0   25                      0.625   \n",
              "3                                   0   36                      0.625   \n",
              "4                                   0   22                     -1.375   \n",
              "\n",
              "   Intensity of disease  \n",
              "0                     4  \n",
              "1                     4  \n",
              "2                     4  \n",
              "3                     4  \n",
              "4                     2  "
            ],
            "text/html": [
              "\n",
              "  <div id=\"df-809e21b8-a692-4985-b39c-02809e7520fa\">\n",
              "    <div class=\"colab-df-container\">\n",
              "      <div>\n",
              "<style scoped>\n",
              "    .dataframe tbody tr th:only-of-type {\n",
              "        vertical-align: middle;\n",
              "    }\n",
              "\n",
              "    .dataframe tbody tr th {\n",
              "        vertical-align: top;\n",
              "    }\n",
              "\n",
              "    .dataframe thead th {\n",
              "        text-align: right;\n",
              "    }\n",
              "</style>\n",
              "<table border=\"1\" class=\"dataframe\">\n",
              "  <thead>\n",
              "    <tr style=\"text-align: right;\">\n",
              "      <th></th>\n",
              "      <th>Treatment (0=Placebo, 1=Progabide)</th>\n",
              "      <th>Age</th>\n",
              "      <th>Difference in frequencies</th>\n",
              "      <th>Intensity of disease</th>\n",
              "    </tr>\n",
              "  </thead>\n",
              "  <tbody>\n",
              "    <tr>\n",
              "      <th>0</th>\n",
              "      <td>0</td>\n",
              "      <td>31</td>\n",
              "      <td>0.375</td>\n",
              "      <td>4</td>\n",
              "    </tr>\n",
              "    <tr>\n",
              "      <th>1</th>\n",
              "      <td>0</td>\n",
              "      <td>30</td>\n",
              "      <td>0.375</td>\n",
              "      <td>4</td>\n",
              "    </tr>\n",
              "    <tr>\n",
              "      <th>2</th>\n",
              "      <td>0</td>\n",
              "      <td>25</td>\n",
              "      <td>0.625</td>\n",
              "      <td>4</td>\n",
              "    </tr>\n",
              "    <tr>\n",
              "      <th>3</th>\n",
              "      <td>0</td>\n",
              "      <td>36</td>\n",
              "      <td>0.625</td>\n",
              "      <td>4</td>\n",
              "    </tr>\n",
              "    <tr>\n",
              "      <th>4</th>\n",
              "      <td>0</td>\n",
              "      <td>22</td>\n",
              "      <td>-1.375</td>\n",
              "      <td>2</td>\n",
              "    </tr>\n",
              "  </tbody>\n",
              "</table>\n",
              "</div>\n",
              "      <button class=\"colab-df-convert\" onclick=\"convertToInteractive('df-809e21b8-a692-4985-b39c-02809e7520fa')\"\n",
              "              title=\"Convert this dataframe to an interactive table.\"\n",
              "              style=\"display:none;\">\n",
              "        \n",
              "  <svg xmlns=\"http://www.w3.org/2000/svg\" height=\"24px\"viewBox=\"0 0 24 24\"\n",
              "       width=\"24px\">\n",
              "    <path d=\"M0 0h24v24H0V0z\" fill=\"none\"/>\n",
              "    <path d=\"M18.56 5.44l.94 2.06.94-2.06 2.06-.94-2.06-.94-.94-2.06-.94 2.06-2.06.94zm-11 1L8.5 8.5l.94-2.06 2.06-.94-2.06-.94L8.5 2.5l-.94 2.06-2.06.94zm10 10l.94 2.06.94-2.06 2.06-.94-2.06-.94-.94-2.06-.94 2.06-2.06.94z\"/><path d=\"M17.41 7.96l-1.37-1.37c-.4-.4-.92-.59-1.43-.59-.52 0-1.04.2-1.43.59L10.3 9.45l-7.72 7.72c-.78.78-.78 2.05 0 2.83L4 21.41c.39.39.9.59 1.41.59.51 0 1.02-.2 1.41-.59l7.78-7.78 2.81-2.81c.8-.78.8-2.07 0-2.86zM5.41 20L4 18.59l7.72-7.72 1.47 1.35L5.41 20z\"/>\n",
              "  </svg>\n",
              "      </button>\n",
              "      \n",
              "  <style>\n",
              "    .colab-df-container {\n",
              "      display:flex;\n",
              "      flex-wrap:wrap;\n",
              "      gap: 12px;\n",
              "    }\n",
              "\n",
              "    .colab-df-convert {\n",
              "      background-color: #E8F0FE;\n",
              "      border: none;\n",
              "      border-radius: 50%;\n",
              "      cursor: pointer;\n",
              "      display: none;\n",
              "      fill: #1967D2;\n",
              "      height: 32px;\n",
              "      padding: 0 0 0 0;\n",
              "      width: 32px;\n",
              "    }\n",
              "\n",
              "    .colab-df-convert:hover {\n",
              "      background-color: #E2EBFA;\n",
              "      box-shadow: 0px 1px 2px rgba(60, 64, 67, 0.3), 0px 1px 3px 1px rgba(60, 64, 67, 0.15);\n",
              "      fill: #174EA6;\n",
              "    }\n",
              "\n",
              "    [theme=dark] .colab-df-convert {\n",
              "      background-color: #3B4455;\n",
              "      fill: #D2E3FC;\n",
              "    }\n",
              "\n",
              "    [theme=dark] .colab-df-convert:hover {\n",
              "      background-color: #434B5C;\n",
              "      box-shadow: 0px 1px 3px 1px rgba(0, 0, 0, 0.15);\n",
              "      filter: drop-shadow(0px 1px 2px rgba(0, 0, 0, 0.3));\n",
              "      fill: #FFFFFF;\n",
              "    }\n",
              "  </style>\n",
              "\n",
              "      <script>\n",
              "        const buttonEl =\n",
              "          document.querySelector('#df-809e21b8-a692-4985-b39c-02809e7520fa button.colab-df-convert');\n",
              "        buttonEl.style.display =\n",
              "          google.colab.kernel.accessAllowed ? 'block' : 'none';\n",
              "\n",
              "        async function convertToInteractive(key) {\n",
              "          const element = document.querySelector('#df-809e21b8-a692-4985-b39c-02809e7520fa');\n",
              "          const dataTable =\n",
              "            await google.colab.kernel.invokeFunction('convertToInteractive',\n",
              "                                                     [key], {});\n",
              "          if (!dataTable) return;\n",
              "\n",
              "          const docLinkHtml = 'Like what you see? Visit the ' +\n",
              "            '<a target=\"_blank\" href=https://colab.research.google.com/notebooks/data_table.ipynb>data table notebook</a>'\n",
              "            + ' to learn more about interactive tables.';\n",
              "          element.innerHTML = '';\n",
              "          dataTable['output_type'] = 'display_data';\n",
              "          await google.colab.output.renderOutput(dataTable, element);\n",
              "          const docLink = document.createElement('div');\n",
              "          docLink.innerHTML = docLinkHtml;\n",
              "          element.appendChild(docLink);\n",
              "        }\n",
              "      </script>\n",
              "    </div>\n",
              "  </div>\n",
              "  "
            ]
          },
          "metadata": {},
          "execution_count": 323
        }
      ]
    },
    {
      "cell_type": "code",
      "source": [
        "\n",
        "x=data_df.drop([('Intensity of disease')],axis=1).values\n",
        "y=data_df['Intensity of disease'].values"
      ],
      "metadata": {
        "id": "aQxFD-IGyPAX"
      },
      "execution_count": 324,
      "outputs": []
    },
    {
      "cell_type": "code",
      "source": [
        "print(x)"
      ],
      "metadata": {
        "colab": {
          "base_uri": "https://localhost:8080/"
        },
        "id": "vJPJDtVV_jJs",
        "outputId": "a379122c-d331-4094-d2d6-dde2c6975640"
      },
      "execution_count": 325,
      "outputs": [
        {
          "output_type": "stream",
          "name": "stdout",
          "text": [
            "[[ 0.    31.     0.375]\n",
            " [ 0.    30.     0.375]\n",
            " [ 0.    25.     0.625]\n",
            " [ 0.    36.     0.625]\n",
            " [ 0.    22.    -1.375]\n",
            " [ 0.    29.    -0.625]\n",
            " [ 0.    31.     0.   ]\n",
            " [ 0.    36.     5.375]\n",
            " [ 0.    37.    -0.125]\n",
            " [ 0.    28.     2.875]\n",
            " [ 0.    36.     1.75 ]\n",
            " [ 0.    24.    -0.25 ]\n",
            " [ 0.    28.    -0.25 ]\n",
            " [ 0.    36.     0.   ]\n",
            " [ 0.    26.    -3.5  ]\n",
            " [ 0.    26.    -4.25 ]\n",
            " [ 0.    28.    -1.5  ]\n",
            " [ 0.    31.     1.5  ]\n",
            " [ 0.    32.    -0.375]\n",
            " [ 0.    21.    -0.5  ]\n",
            " [ 0.    29.     0.25 ]\n",
            " [ 0.    21.     0.625]\n",
            " [ 0.    32.    -0.5  ]\n",
            " [ 0.    25.     0.25 ]\n",
            " [ 0.    30.    11.   ]\n",
            " [ 0.    40.    -0.375]\n",
            " [ 0.    19.     0.   ]\n",
            " [ 0.    22.     0.75 ]\n",
            " [ 1.    18.    -4.25 ]\n",
            " [ 1.    32.    -1.25 ]\n",
            " [ 1.    20.    -1.5  ]\n",
            " [ 1.    20.     0.375]\n",
            " [ 1.    18.     0.   ]\n",
            " [ 1.    24.    -1.625]\n",
            " [ 1.    30.     5.375]\n",
            " [ 1.    35.     0.75 ]\n",
            " [ 1.    57.    -0.125]\n",
            " [ 1.    20.    -5.375]\n",
            " [ 1.    22.    -1.5  ]\n",
            " [ 1.    28.    -0.375]\n",
            " [ 1.    23.    -2.   ]\n",
            " [ 1.    40.    -0.125]\n",
            " [ 1.    43.     2.375]\n",
            " [ 1.    21.    -1.25 ]\n",
            " [ 1.    35.     0.125]\n",
            " [ 1.    25.     0.125]\n",
            " [ 1.    26.    -0.5  ]\n",
            " [ 1.    25.    -1.   ]\n",
            " [ 1.    22.    18.875]\n",
            " [ 1.    32.    -1.125]\n",
            " [ 1.    25.    -2.   ]\n",
            " [ 1.    35.    -2.75 ]\n",
            " [ 1.    21.     1.75 ]\n",
            " [ 1.    41.    -1.375]\n",
            " [ 1.    32.    -0.125]\n",
            " [ 1.    26.     3.625]\n",
            " [ 1.    21.    -2.375]\n",
            " [ 1.    36.    -1.625]\n",
            " [ 1.    37.    -0.25 ]]\n"
          ]
        }
      ]
    },
    {
      "cell_type": "code",
      "source": [
        "print(y)"
      ],
      "metadata": {
        "colab": {
          "base_uri": "https://localhost:8080/"
        },
        "id": "oY5sLoHMCb1_",
        "outputId": "bba661be-8e16-4967-e417-9fb357907d84"
      },
      "execution_count": 326,
      "outputs": [
        {
          "output_type": "stream",
          "name": "stdout",
          "text": [
            "[4 4 4 4 2 3 4 6 3 5 5 3 3 4 1 1 2 5 3 3 4 4 3 4 7 3 4 4 6 2 2 4 4 2 6 3 3\n",
            " 1 2 3 2 3 5 2 4 4 3 3 7 2 2 2 4 2 3 6 2 2 3]\n"
          ]
        }
      ]
    },
    {
      "cell_type": "code",
      "source": [
        "from sklearn.model_selection import train_test_split\n",
        "x_train,x_test,y_train,y_test=train_test_split(x,y,test_size=0.30,random_state=42)"
      ],
      "metadata": {
        "id": "nSrGYlOc039g"
      },
      "execution_count": 327,
      "outputs": []
    },
    {
      "cell_type": "code",
      "source": [
        "from sklearn.linear_model import LinearRegression\n",
        "ml=LinearRegression()\n",
        "ml.fit(x_train,y_train)"
      ],
      "metadata": {
        "colab": {
          "base_uri": "https://localhost:8080/"
        },
        "id": "Ugq9Xjdw5ROl",
        "outputId": "003f0e53-6e80-4fe0-de05-3c3199b273c0"
      },
      "execution_count": 328,
      "outputs": [
        {
          "output_type": "execute_result",
          "data": {
            "text/plain": [
              "LinearRegression()"
            ]
          },
          "metadata": {},
          "execution_count": 328
        }
      ]
    },
    {
      "cell_type": "code",
      "source": [
        "y_pred=ml.predict(x_test)\n",
        "print(y_pred)"
      ],
      "metadata": {
        "colab": {
          "base_uri": "https://localhost:8080/"
        },
        "id": "L2qKLoxP51Mk",
        "outputId": "75e34780-30c0-4043-fffd-df794c1cccf5"
      },
      "execution_count": 329,
      "outputs": [
        {
          "output_type": "stream",
          "name": "stdout",
          "text": [
            "[3.64897148 3.34576147 4.74408632 3.5764498  3.19162532 2.87289022\n",
            " 2.76485826 3.49676603 2.86662878 3.44693154 2.88065276 3.75700343\n",
            " 3.3485911  3.22803626 3.54750118 3.97396801 3.5406393  3.0789624 ]\n"
          ]
        }
      ]
    },
    {
      "cell_type": "code",
      "source": [
        "ml.predict([[0,31,0.375]])"
      ],
      "metadata": {
        "colab": {
          "base_uri": "https://localhost:8080/"
        },
        "id": "3JKYlLyC6CSJ",
        "outputId": "ce3c9585-96b6-4af9-d1ec-f1f675e94bab"
      },
      "execution_count": 330,
      "outputs": [
        {
          "output_type": "execute_result",
          "data": {
            "text/plain": [
              "array([3.64897148])"
            ]
          },
          "metadata": {},
          "execution_count": 330
        }
      ]
    },
    {
      "cell_type": "code",
      "source": [
        "from sklearn.metrics import mean_squared_error\n",
        "errors = mean_squared_error(y_test, y_pred)\n",
        "errors"
      ],
      "metadata": {
        "colab": {
          "base_uri": "https://localhost:8080/"
        },
        "id": "mXWAdUH-yD_Y",
        "outputId": "b33ee581-f882-42ac-c357-303520f89259"
      },
      "execution_count": 331,
      "outputs": [
        {
          "output_type": "execute_result",
          "data": {
            "text/plain": [
              "0.48577360870587355"
            ]
          },
          "metadata": {},
          "execution_count": 331
        }
      ]
    },
    {
      "cell_type": "code",
      "source": [
        "from sklearn.metrics import r2_score\n",
        "m1=r2_score(y_test,y_pred)\n",
        "print(m1)"
      ],
      "metadata": {
        "colab": {
          "base_uri": "https://localhost:8080/"
        },
        "id": "mKT05qWt7jX4",
        "outputId": "aea8ab8a-9694-4bf2-9c56-a1729c555362"
      },
      "execution_count": 427,
      "outputs": [
        {
          "output_type": "stream",
          "name": "stdout",
          "text": [
            "0.5687927418610875\n"
          ]
        }
      ]
    },
    {
      "cell_type": "code",
      "source": [
        "ms1=mean_squared_error(y_test,y_pred)\n",
        "rms1 = sqrt(ms1)\n",
        "\n",
        "print(\"Mean Squared Error is\",ms1)\n",
        "print(\"Root Mean Squared Error is\",rms1)"
      ],
      "metadata": {
        "colab": {
          "base_uri": "https://localhost:8080/"
        },
        "id": "bmxNrSjXQip2",
        "outputId": "1eed2152-f256-4a25-d170-dc7f2045175e"
      },
      "execution_count": 333,
      "outputs": [
        {
          "output_type": "stream",
          "name": "stdout",
          "text": [
            "Mean Squared Error is 0.48577360870587355\n",
            "Root Mean Squared Error is 0.6969746112347806\n"
          ]
        }
      ]
    },
    {
      "cell_type": "code",
      "source": [
        "\n",
        "plt.figure(figsize=(5,5))\n",
        "plt.scatter(y_test,y_pred)\n",
        "plt.xlabel('Actual')\n",
        "plt.ylabel('Predicted')\n",
        "plt.title('Actual vs Predicted in Multiple Linear Regression')"
      ],
      "metadata": {
        "colab": {
          "base_uri": "https://localhost:8080/",
          "height": 367
        },
        "id": "oh2-DeAR786U",
        "outputId": "d8b7dea0-f713-4488-9996-ad852671203b"
      },
      "execution_count": 334,
      "outputs": [
        {
          "output_type": "execute_result",
          "data": {
            "text/plain": [
              "Text(0.5, 1.0, 'Actual vs Predicted in Multiple Linear Regression')"
            ]
          },
          "metadata": {},
          "execution_count": 334
        },
        {
          "output_type": "display_data",
          "data": {
            "text/plain": [
              "<Figure size 360x360 with 1 Axes>"
            ],
            "image/png": "[encoded data removed]"
          },
          "metadata": {
            "needs_background": "light"
          }
        }
      ]
    },
    {
      "cell_type": "code",
      "source": [
        "#cannot be performed here\n",
        "\n",
        "#print(classification_report(y_test,y_pred))\n",
        "#print(confusion_matrix(y_test,y_pred))"
      ],
      "metadata": {
        "id": "aSuXcKefVB6g"
      },
      "execution_count": 335,
      "outputs": []
    },
    {
      "cell_type": "markdown",
      "source": [
        "**Multinomial Logistic Regression**"
      ],
      "metadata": {
        "id": "9dwhn-0rI3a2"
      }
    },
    {
      "cell_type": "code",
      "source": [
        "x_train"
      ],
      "metadata": {
        "colab": {
          "base_uri": "https://localhost:8080/"
        },
        "id": "YoYd2LhfJDyq",
        "outputId": "9b9ed7fc-f4cd-45f7-9451-aaf2bfb5dfcf"
      },
      "execution_count": 336,
      "outputs": [
        {
          "output_type": "execute_result",
          "data": {
            "text/plain": [
              "array([[ 1.   , 32.   , -0.125],\n",
              "       [ 0.   , 21.   , -0.5  ],\n",
              "       [ 1.   , 20.   , -1.5  ],\n",
              "       [ 1.   , 25.   , -2.   ],\n",
              "       [ 1.   , 35.   ,  0.125],\n",
              "       [ 1.   , 26.   ,  3.625],\n",
              "       [ 0.   , 26.   , -4.25 ],\n",
              "       [ 0.   , 28.   ,  2.875],\n",
              "       [ 0.   , 22.   ,  0.75 ],\n",
              "       [ 0.   , 19.   ,  0.   ],\n",
              "       [ 0.   , 28.   , -1.5  ],\n",
              "       [ 0.   , 30.   , 11.   ],\n",
              "       [ 1.   , 24.   , -1.625],\n",
              "       [ 1.   , 21.   , -2.375],\n",
              "       [ 1.   , 40.   , -0.125],\n",
              "       [ 0.   , 24.   , -0.25 ],\n",
              "       [ 1.   , 18.   ,  0.   ],\n",
              "       [ 1.   , 21.   ,  1.75 ],\n",
              "       [ 1.   , 23.   , -2.   ],\n",
              "       [ 1.   , 20.   , -5.375],\n",
              "       [ 1.   , 32.   , -1.25 ],\n",
              "       [ 1.   , 21.   , -1.25 ],\n",
              "       [ 0.   , 30.   ,  0.375],\n",
              "       [ 0.   , 21.   ,  0.625],\n",
              "       [ 0.   , 25.   ,  0.625],\n",
              "       [ 1.   , 26.   , -0.5  ],\n",
              "       [ 1.   , 28.   , -0.375],\n",
              "       [ 1.   , 35.   ,  0.75 ],\n",
              "       [ 0.   , 25.   ,  0.25 ],\n",
              "       [ 1.   , 22.   , 18.875],\n",
              "       [ 0.   , 36.   ,  1.75 ],\n",
              "       [ 0.   , 32.   , -0.5  ],\n",
              "       [ 0.   , 32.   , -0.375],\n",
              "       [ 1.   , 37.   , -0.25 ],\n",
              "       [ 0.   , 29.   ,  0.25 ],\n",
              "       [ 0.   , 36.   ,  5.375],\n",
              "       [ 1.   , 43.   ,  2.375],\n",
              "       [ 0.   , 26.   , -3.5  ],\n",
              "       [ 1.   , 18.   , -4.25 ],\n",
              "       [ 1.   , 35.   , -2.75 ],\n",
              "       [ 1.   , 22.   , -1.5  ]])"
            ]
          },
          "metadata": {},
          "execution_count": 336
        }
      ]
    },
    {
      "cell_type": "code",
      "source": [
        "y_train"
      ],
      "metadata": {
        "colab": {
          "base_uri": "https://localhost:8080/"
        },
        "id": "_7M70S_IJQXJ",
        "outputId": "d85f4f6a-78d9-4087-b019-639d9f652327"
      },
      "execution_count": 337,
      "outputs": [
        {
          "output_type": "execute_result",
          "data": {
            "text/plain": [
              "array([3, 3, 2, 2, 4, 6, 1, 5, 4, 4, 2, 7, 2, 2, 3, 3, 4, 4, 2, 1, 2, 2,\n",
              "       4, 4, 4, 3, 3, 3, 4, 7, 5, 3, 3, 3, 4, 6, 5, 1, 6, 2, 2])"
            ]
          },
          "metadata": {},
          "execution_count": 337
        }
      ]
    },
    {
      "cell_type": "code",
      "source": [
        "x_test"
      ],
      "metadata": {
        "colab": {
          "base_uri": "https://localhost:8080/"
        },
        "id": "bsMnTaJHJt9_",
        "outputId": "28b5b3db-7e44-42a2-e744-60d059969b81"
      },
      "execution_count": 338,
      "outputs": [
        {
          "output_type": "execute_result",
          "data": {
            "text/plain": [
              "array([[ 0.   , 31.   ,  0.375],\n",
              "       [ 0.   , 29.   , -0.625],\n",
              "       [ 1.   , 30.   ,  5.375],\n",
              "       [ 0.   , 36.   ,  0.   ],\n",
              "       [ 1.   , 25.   ,  0.125],\n",
              "       [ 1.   , 41.   , -1.375],\n",
              "       [ 1.   , 36.   , -1.625],\n",
              "       [ 0.   , 40.   , -0.375],\n",
              "       [ 1.   , 25.   , -1.   ],\n",
              "       [ 0.   , 28.   , -0.25 ],\n",
              "       [ 1.   , 32.   , -1.125],\n",
              "       [ 0.   , 36.   ,  0.625],\n",
              "       [ 1.   , 57.   , -0.125],\n",
              "       [ 1.   , 20.   ,  0.375],\n",
              "       [ 0.   , 37.   , -0.125],\n",
              "       [ 0.   , 31.   ,  1.5  ],\n",
              "       [ 0.   , 31.   ,  0.   ],\n",
              "       [ 0.   , 22.   , -1.375]])"
            ]
          },
          "metadata": {},
          "execution_count": 338
        }
      ]
    },
    {
      "cell_type": "code",
      "source": [
        "y_test"
      ],
      "metadata": {
        "colab": {
          "base_uri": "https://localhost:8080/"
        },
        "id": "wFiLY_yhJxBO",
        "outputId": "7db12f2c-f3c6-4e74-e444-42dd8783e4b4"
      },
      "execution_count": 339,
      "outputs": [
        {
          "output_type": "execute_result",
          "data": {
            "text/plain": [
              "array([4, 3, 6, 4, 4, 2, 2, 3, 3, 3, 2, 4, 3, 4, 3, 5, 4, 2])"
            ]
          },
          "metadata": {},
          "execution_count": 339
        }
      ]
    },
    {
      "cell_type": "code",
      "source": [
        "from sklearn.linear_model import LogisticRegression\n",
        "from sklearn.preprocessing import StandardScaler"
      ],
      "metadata": {
        "id": "mqmCbrISJ1N3"
      },
      "execution_count": 340,
      "outputs": []
    },
    {
      "cell_type": "code",
      "source": [
        "lr=LogisticRegression(multi_class=\"multinomial\",solver=\"lbfgs\",random_state=42)"
      ],
      "metadata": {
        "id": "CsYXs6nbKF0k"
      },
      "execution_count": 341,
      "outputs": []
    },
    {
      "cell_type": "code",
      "source": [
        "lr.fit(x_train,y_train)"
      ],
      "metadata": {
        "colab": {
          "base_uri": "https://localhost:8080/"
        },
        "id": "prWyonxwO5N0",
        "outputId": "ca26abf1-2fc4-4e81-a56a-c755ec2c6415"
      },
      "execution_count": 342,
      "outputs": [
        {
          "output_type": "stream",
          "name": "stderr",
          "text": [
            "/usr/local/lib/python3.7/dist-packages/sklearn/linear_model/_logistic.py:818: ConvergenceWarning: lbfgs failed to converge (status=1):\n",
            "STOP: TOTAL NO. of ITERATIONS REACHED LIMIT.\n",
            "\n",
            "Increase the number of iterations (max_iter) or scale the data as shown in:\n",
            "    https://scikit-learn.org/stable/modules/preprocessing.html\n",
            "Please also refer to the documentation for alternative solver options:\n",
            "    https://scikit-learn.org/stable/modules/linear_model.html#logistic-regression\n",
            "  extra_warning_msg=_LOGISTIC_SOLVER_CONVERGENCE_MSG,\n"
          ]
        },
        {
          "output_type": "execute_result",
          "data": {
            "text/plain": [
              "LogisticRegression(multi_class='multinomial', random_state=42)"
            ]
          },
          "metadata": {},
          "execution_count": 342
        }
      ]
    },
    {
      "cell_type": "code",
      "source": [
        "y_predlr=lr.predict(x_test)"
      ],
      "metadata": {
        "id": "37yOBqKyPGU0"
      },
      "execution_count": 343,
      "outputs": []
    },
    {
      "cell_type": "code",
      "source": [
        "y_predproblr=lr.predict_proba(x_test)"
      ],
      "metadata": {
        "id": "1MZSx1doPYTH"
      },
      "execution_count": 344,
      "outputs": []
    },
    {
      "cell_type": "code",
      "source": [
        "print(y_predproblr)"
      ],
      "metadata": {
        "id": "kdsgBwObkNks",
        "outputId": "7991183d-7ad2-40e9-f26f-3f25365e32f2",
        "colab": {
          "base_uri": "https://localhost:8080/"
        }
      },
      "execution_count": 345,
      "outputs": [
        {
          "output_type": "stream",
          "name": "stdout",
          "text": [
            "[[3.75331324e-03 8.81512540e-02 4.14601526e-01 2.80372195e-01\n",
            "  1.47347392e-01 6.47410275e-02 1.03329197e-03]\n",
            " [2.18735583e-02 1.84438765e-01 4.20565073e-01 2.54894104e-01\n",
            "  7.80495929e-02 3.97774827e-02 4.01423965e-04]\n",
            " [9.82305124e-08 1.21170650e-03 2.70510383e-02 2.21981899e-01\n",
            "  2.07746740e-01 4.19827978e-01 1.22180540e-01]\n",
            " [3.77830218e-03 8.92927277e-02 6.05971397e-01 1.20246476e-01\n",
            "  1.45557367e-01 3.49267999e-02 2.26930559e-04]\n",
            " [3.03872263e-03 2.51409804e-01 2.30966163e-01 3.43268385e-01\n",
            "  5.08120352e-02 1.18948205e-01 1.55668516e-03]\n",
            " [4.06289658e-03 2.62670715e-01 6.70993235e-01 1.68608841e-02\n",
            "  3.41474849e-02 1.12580753e-02 6.70897500e-06]\n",
            " [1.08504928e-02 4.00059631e-01 5.17526259e-01 3.19862804e-02\n",
            "  2.51398273e-02 1.44239720e-02 1.35376118e-05]\n",
            " [3.71617793e-03 8.25728142e-02 7.23616073e-01 5.17782805e-02\n",
            "  1.20544072e-01 1.77193992e-02 5.31827101e-05]\n",
            " [1.52688654e-02 4.64886659e-01 2.42792848e-01 2.00638808e-01\n",
            "  2.42684373e-02 5.18395757e-02 3.04806988e-04]\n",
            " [1.34534931e-02 1.47910920e-01 3.64369319e-01 3.30019947e-01\n",
            "  9.02544077e-02 5.31965369e-02 7.95375837e-04]\n",
            " [9.33879324e-03 4.09245415e-01 4.36525317e-01 7.98627998e-02\n",
            "  3.33773447e-02 3.15802023e-02 7.01283522e-05]\n",
            " [1.41131915e-03 5.81218652e-02 5.39809805e-01 1.48414272e-01\n",
            "  2.00984704e-01 5.07438000e-02 5.14234596e-04]\n",
            " [5.41898235e-05 3.15236108e-02 8.90532179e-01 1.58852150e-03\n",
            "  7.21122917e-02 4.18840338e-03 8.03496108e-07]\n",
            " [2.51401849e-03 1.84975802e-01 1.10610001e-01 5.24856676e-01\n",
            "  3.29817795e-02 1.39945469e-01 4.11625420e-03]\n",
            " [3.98185221e-03 9.01259985e-02 6.41847177e-01 9.71014982e-02\n",
            "  1.37645048e-01 2.91457381e-02 1.52687632e-04]\n",
            " [5.39384177e-04 3.44241098e-02 2.84801625e-01 3.46380079e-01\n",
            "  2.22774936e-01 1.07269224e-01 3.81064082e-03]\n",
            " [6.87211574e-03 1.15661070e-01 4.50640782e-01 2.50591155e-01\n",
            "  1.23122648e-01 5.24708204e-02 6.41408705e-04]\n",
            " [1.05041487e-01 2.82792584e-01 2.03488999e-01 3.52899422e-01\n",
            "  2.67279539e-02 2.86388346e-02 4.10718565e-04]]\n"
          ]
        }
      ]
    },
    {
      "cell_type": "code",
      "source": [
        "print('Accuracy Score:', metrics.accuracy_score(y_test, y_predlr))  \n",
        "m2=metrics.accuracy_score(y_test, y_predlr)"
      ],
      "metadata": {
        "colab": {
          "base_uri": "https://localhost:8080/"
        },
        "id": "uPWcA4Asdqbt",
        "outputId": "b4a6c8e5-3a6a-444e-bd90-a698b3aadf0c"
      },
      "execution_count": 346,
      "outputs": [
        {
          "output_type": "stream",
          "name": "stdout",
          "text": [
            "Accuracy Score: 0.4444444444444444\n"
          ]
        }
      ]
    },
    {
      "cell_type": "code",
      "source": [
        "r2predlr=r2_score(y_test,y_predlr)\n",
        "r2predlr"
      ],
      "metadata": {
        "id": "xZRsdJSfM6vh",
        "outputId": "adfa1fe4-a23c-45ae-ed15-043a3699e310",
        "colab": {
          "base_uri": "https://localhost:8080/"
        }
      },
      "execution_count": 347,
      "outputs": [
        {
          "output_type": "execute_result",
          "data": {
            "text/plain": [
              "0.35890410958904095"
            ]
          },
          "metadata": {},
          "execution_count": 347
        }
      ]
    },
    {
      "cell_type": "code",
      "source": [
        "ms2=mean_squared_error(y_test,y_predlr)\n",
        "rms2 = sqrt(ms2)\n",
        "print(\"Mean Squared Error is\",ms2)\n",
        "print(\"Root Mean Squared Error is\",rms2)"
      ],
      "metadata": {
        "colab": {
          "base_uri": "https://localhost:8080/"
        },
        "id": "fgOgGBuUUTEN",
        "outputId": "45cc4dfd-8479-4e25-e636-62540ea9dc28"
      },
      "execution_count": 348,
      "outputs": [
        {
          "output_type": "stream",
          "name": "stdout",
          "text": [
            "Mean Squared Error is 0.7222222222222222\n",
            "Root Mean Squared Error is 0.8498365855987975\n"
          ]
        }
      ]
    },
    {
      "cell_type": "code",
      "source": [
        "class_report=classification_report(y_test, y_predlr)\n",
        "print(class_report)\n",
        "cm2=confusion_matrix(y_test,y_predlr)\n",
        "print(cm2)"
      ],
      "metadata": {
        "colab": {
          "base_uri": "https://localhost:8080/"
        },
        "id": "xPiLUxASeqew",
        "outputId": "6a32350d-4dff-467b-dae4-fb095234108c"
      },
      "execution_count": 349,
      "outputs": [
        {
          "output_type": "stream",
          "name": "stdout",
          "text": [
            "              precision    recall  f1-score   support\n",
            "\n",
            "           2       0.00      0.00      0.00         4\n",
            "           3       0.42      0.83      0.56         6\n",
            "           4       0.50      0.33      0.40         6\n",
            "           5       0.00      0.00      0.00         1\n",
            "           6       1.00      1.00      1.00         1\n",
            "\n",
            "    accuracy                           0.44        18\n",
            "   macro avg       0.38      0.43      0.39        18\n",
            "weighted avg       0.36      0.44      0.37        18\n",
            "\n",
            "[[0 3 1 0 0]\n",
            " [1 5 0 0 0]\n",
            " [0 4 2 0 0]\n",
            " [0 0 1 0 0]\n",
            " [0 0 0 0 1]]\n"
          ]
        },
        {
          "output_type": "stream",
          "name": "stderr",
          "text": [
            "/usr/local/lib/python3.7/dist-packages/sklearn/metrics/_classification.py:1318: UndefinedMetricWarning: Precision and F-score are ill-defined and being set to 0.0 in labels with no predicted samples. Use `zero_division` parameter to control this behavior.\n",
            "  _warn_prf(average, modifier, msg_start, len(result))\n",
            "/usr/local/lib/python3.7/dist-packages/sklearn/metrics/_classification.py:1318: UndefinedMetricWarning: Precision and F-score are ill-defined and being set to 0.0 in labels with no predicted samples. Use `zero_division` parameter to control this behavior.\n",
            "  _warn_prf(average, modifier, msg_start, len(result))\n",
            "/usr/local/lib/python3.7/dist-packages/sklearn/metrics/_classification.py:1318: UndefinedMetricWarning: Precision and F-score are ill-defined and being set to 0.0 in labels with no predicted samples. Use `zero_division` parameter to control this behavior.\n",
            "  _warn_prf(average, modifier, msg_start, len(result))\n"
          ]
        }
      ]
    },
    {
      "cell_type": "code",
      "source": [
        "plt.figure(figsize=(5,5))\n",
        "plt.scatter(y_test,y_predlr)\n",
        "plt.xlabel('Actual')\n",
        "plt.ylabel('Predicted')\n",
        "plt.title('Actual vs Predicted in Multinomial Logistic Regression')"
      ],
      "metadata": {
        "colab": {
          "base_uri": "https://localhost:8080/",
          "height": 367
        },
        "id": "E5JL9GnOIxZM",
        "outputId": "d14464a3-e85d-4f6e-dae9-6b920a8f5597"
      },
      "execution_count": 350,
      "outputs": [
        {
          "output_type": "execute_result",
          "data": {
            "text/plain": [
              "Text(0.5, 1.0, 'Actual vs Predicted in Multinomial Logistic Regression')"
            ]
          },
          "metadata": {},
          "execution_count": 350
        },
        {
          "output_type": "display_data",
          "data": {
            "text/plain": [
              "<Figure size 360x360 with 1 Axes>"
            ],
            "image/png": "[encoded data removed]"
          },
          "metadata": {
            "needs_background": "light"
          }
        }
      ]
    },
    {
      "cell_type": "code",
      "source": [
        "plt.figure(figsize=(9,9))\n",
        "sns.heatmap(cm2, annot=True, fmt=\".3f\", linewidths=.5, square = True, cmap = 'Blues_r');\n",
        "plt.ylabel('Actual label');\n",
        "plt.xlabel('Predicted label');\n",
        "all_sample_title = 'Accuracy Score: {0}'.format(m2)\n",
        "plt.title(all_sample_title, size = 15);"
      ],
      "metadata": {
        "id": "Q32NunrRC3pE",
        "outputId": "dee7186c-f0e6-47bf-8bb3-7d969fb41c62",
        "colab": {
          "base_uri": "https://localhost:8080/",
          "height": 530
        }
      },
      "execution_count": 351,
      "outputs": [
        {
          "output_type": "display_data",
          "data": {
            "text/plain": [
              "<Figure size 648x648 with 2 Axes>"
            ],
            "image/png": "[encoded data removed]"
          },
          "metadata": {
            "needs_background": "light"
          }
        }
      ]
    },
    {
      "cell_type": "code",
      "source": [
        "# multi-class classification\n",
        "from sklearn.multiclass import OneVsRestClassifier\n",
        "from sklearn.linear_model import LogisticRegression\n",
        "from sklearn.model_selection import train_test_split\n",
        "from sklearn.metrics import roc_curve\n",
        "from sklearn.metrics import roc_auc_score\n",
        "\n",
        "\n",
        "\n",
        "\n",
        "# fit model\n",
        "clf = lr\n",
        "clf.fit(x_train, y_train)\n",
        "pred = clf.predict(x_test)\n",
        "pred_prob = clf.predict_proba(x_test)\n",
        "\n",
        "# roc curve for classes\n",
        "fpr = {}\n",
        "tpr = {}\n",
        "thresh ={}\n",
        "\n",
        "n_class = 7\n",
        "\n",
        "for i in range(n_class):    \n",
        "    fpr[i], tpr[i], thresh[i] = roc_curve(y_test, pred_prob[:,i], pos_label=i)\n",
        "    \n",
        "# plotting    \n",
        "plt.plot(fpr[0], tpr[0], linestyle='--',color='orange', label='Class 1 vs Rest')\n",
        "plt.plot(fpr[1], tpr[1], linestyle='--',color='green', label='Class 2 vs Rest')\n",
        "plt.plot(fpr[2], tpr[2], linestyle='--',color='blue', label='Class 3 vs Rest')\n",
        "plt.plot(fpr[3], tpr[3], linestyle='--',color='red', label='Class 4 vs Rest')\n",
        "plt.plot(fpr[4], tpr[4], linestyle='--',color='pink', label='Class 5 vs Rest')\n",
        "plt.plot(fpr[5], tpr[5], linestyle='--',color='purple', label='Class 6 vs Rest')\n",
        "plt.plot(fpr[6], tpr[6], linestyle='--',color='yellow', label='Class 7 vs Rest')\n",
        "plt.title('Multiclass ROC curve')\n",
        "plt.xlabel('False Positive Rate')\n",
        "plt.ylabel('True Positive rate')\n",
        "plt.legend(loc='best')\n",
        "plt.savefig('Multiclass ROC',dpi=300);    "
      ],
      "metadata": {
        "id": "qHaN7NS2McdX",
        "outputId": "c0bcfaa5-5714-49ef-f952-1fb7c6c87f76",
        "colab": {
          "base_uri": "https://localhost:8080/",
          "height": 523
        }
      },
      "execution_count": 352,
      "outputs": [
        {
          "output_type": "stream",
          "name": "stderr",
          "text": [
            "/usr/local/lib/python3.7/dist-packages/sklearn/linear_model/_logistic.py:818: ConvergenceWarning: lbfgs failed to converge (status=1):\n",
            "STOP: TOTAL NO. of ITERATIONS REACHED LIMIT.\n",
            "\n",
            "Increase the number of iterations (max_iter) or scale the data as shown in:\n",
            "    https://scikit-learn.org/stable/modules/preprocessing.html\n",
            "Please also refer to the documentation for alternative solver options:\n",
            "    https://scikit-learn.org/stable/modules/linear_model.html#logistic-regression\n",
            "  extra_warning_msg=_LOGISTIC_SOLVER_CONVERGENCE_MSG,\n",
            "/usr/local/lib/python3.7/dist-packages/sklearn/metrics/_ranking.py:1001: UndefinedMetricWarning: No positive samples in y_true, true positive value should be meaningless\n",
            "  UndefinedMetricWarning,\n",
            "/usr/local/lib/python3.7/dist-packages/sklearn/metrics/_ranking.py:1001: UndefinedMetricWarning: No positive samples in y_true, true positive value should be meaningless\n",
            "  UndefinedMetricWarning,\n"
          ]
        },
        {
          "output_type": "display_data",
          "data": {
            "text/plain": [
              "<Figure size 432x288 with 1 Axes>"
            ],
            "image/png": "[encoded data removed]"
          },
          "metadata": {
            "needs_background": "light"
          }
        }
      ]
    },
    {
      "cell_type": "code",
      "source": [
        "#y_pred_proba = lr.predict_proba(x_test)[::,1]\n",
        "#fpr, tpr, _ = metrics.roc_curve(y_test,  y_pred_proba)\n",
        "#auc = metrics.roc_auc_score(y_test, y_pred_proba)\n",
        "#plt.plot(fpr,tpr,label=\"data 1, auc=\"+str(auc))\n",
        "#plt.legend(loc=4)\n",
        "#plt.show()"
      ],
      "metadata": {
        "id": "92ZkHdLPLEyv"
      },
      "execution_count": 353,
      "outputs": []
    },
    {
      "cell_type": "code",
      "source": [
        "#report_with_auc = class_report(y_test, y_predlr, y_predproblr)\n",
        "\n",
        "#print(report_with_auc)"
      ],
      "metadata": {
        "id": "nMzHyxgBakWw"
      },
      "execution_count": 354,
      "outputs": []
    },
    {
      "cell_type": "code",
      "source": [
        "#applying standardisation\n",
        "#scaler=StandardScaler()"
      ],
      "metadata": {
        "id": "n1rHcCWNSviT"
      },
      "execution_count": 355,
      "outputs": []
    },
    {
      "cell_type": "code",
      "source": [
        "#x_train_s=scaler.fit_transform(x_train)\n",
        "#x_test_s=scaler.transform(x_test)"
      ],
      "metadata": {
        "id": "24pfI4KVVFfL"
      },
      "execution_count": 356,
      "outputs": []
    },
    {
      "cell_type": "code",
      "source": [
        "#lr.fit(x_train,y_train)"
      ],
      "metadata": {
        "id": "xpvgqcqUVSpN"
      },
      "execution_count": 357,
      "outputs": []
    },
    {
      "cell_type": "code",
      "source": [
        "#y_predlr2=lr.predict(x_test_s)"
      ],
      "metadata": {
        "id": "0OUpxMl5VcYv"
      },
      "execution_count": 358,
      "outputs": []
    },
    {
      "cell_type": "code",
      "source": [
        "#lr.score(x_test_s,y_test)"
      ],
      "metadata": {
        "id": "_376RS2YVnhN"
      },
      "execution_count": 359,
      "outputs": []
    },
    {
      "cell_type": "markdown",
      "source": [
        "**Naive Bayes**"
      ],
      "metadata": {
        "id": "1jYsLpf5bhPh"
      }
    },
    {
      "cell_type": "code",
      "source": [
        "x_train"
      ],
      "metadata": {
        "colab": {
          "base_uri": "https://localhost:8080/"
        },
        "id": "WZN0L6v2bqcI",
        "outputId": "b902199b-4a45-42e3-f636-6e5daa390777"
      },
      "execution_count": 360,
      "outputs": [
        {
          "output_type": "execute_result",
          "data": {
            "text/plain": [
              "array([[ 1.   , 32.   , -0.125],\n",
              "       [ 0.   , 21.   , -0.5  ],\n",
              "       [ 1.   , 20.   , -1.5  ],\n",
              "       [ 1.   , 25.   , -2.   ],\n",
              "       [ 1.   , 35.   ,  0.125],\n",
              "       [ 1.   , 26.   ,  3.625],\n",
              "       [ 0.   , 26.   , -4.25 ],\n",
              "       [ 0.   , 28.   ,  2.875],\n",
              "       [ 0.   , 22.   ,  0.75 ],\n",
              "       [ 0.   , 19.   ,  0.   ],\n",
              "       [ 0.   , 28.   , -1.5  ],\n",
              "       [ 0.   , 30.   , 11.   ],\n",
              "       [ 1.   , 24.   , -1.625],\n",
              "       [ 1.   , 21.   , -2.375],\n",
              "       [ 1.   , 40.   , -0.125],\n",
              "       [ 0.   , 24.   , -0.25 ],\n",
              "       [ 1.   , 18.   ,  0.   ],\n",
              "       [ 1.   , 21.   ,  1.75 ],\n",
              "       [ 1.   , 23.   , -2.   ],\n",
              "       [ 1.   , 20.   , -5.375],\n",
              "       [ 1.   , 32.   , -1.25 ],\n",
              "       [ 1.   , 21.   , -1.25 ],\n",
              "       [ 0.   , 30.   ,  0.375],\n",
              "       [ 0.   , 21.   ,  0.625],\n",
              "       [ 0.   , 25.   ,  0.625],\n",
              "       [ 1.   , 26.   , -0.5  ],\n",
              "       [ 1.   , 28.   , -0.375],\n",
              "       [ 1.   , 35.   ,  0.75 ],\n",
              "       [ 0.   , 25.   ,  0.25 ],\n",
              "       [ 1.   , 22.   , 18.875],\n",
              "       [ 0.   , 36.   ,  1.75 ],\n",
              "       [ 0.   , 32.   , -0.5  ],\n",
              "       [ 0.   , 32.   , -0.375],\n",
              "       [ 1.   , 37.   , -0.25 ],\n",
              "       [ 0.   , 29.   ,  0.25 ],\n",
              "       [ 0.   , 36.   ,  5.375],\n",
              "       [ 1.   , 43.   ,  2.375],\n",
              "       [ 0.   , 26.   , -3.5  ],\n",
              "       [ 1.   , 18.   , -4.25 ],\n",
              "       [ 1.   , 35.   , -2.75 ],\n",
              "       [ 1.   , 22.   , -1.5  ]])"
            ]
          },
          "metadata": {},
          "execution_count": 360
        }
      ]
    },
    {
      "cell_type": "code",
      "source": [
        "from sklearn.naive_bayes import GaussianNB\n",
        "modelnb=GaussianNB()"
      ],
      "metadata": {
        "id": "GH2ejDa2bv1s"
      },
      "execution_count": 361,
      "outputs": []
    },
    {
      "cell_type": "code",
      "source": [
        "nv=modelnb.fit(x_train,y_train)"
      ],
      "metadata": {
        "id": "-VmoM2ttcHuJ"
      },
      "execution_count": 362,
      "outputs": []
    },
    {
      "cell_type": "code",
      "source": [
        "y_nv=nv.predict(x_test)"
      ],
      "metadata": {
        "id": "wKdPwQwEfMFw"
      },
      "execution_count": 363,
      "outputs": []
    },
    {
      "cell_type": "code",
      "source": [
        "modelnb.score(x_test,y_test)"
      ],
      "metadata": {
        "colab": {
          "base_uri": "https://localhost:8080/"
        },
        "id": "Oz4i7Q26cT76",
        "outputId": "61d42e4b-0959-4da8-95e8-309affb4c638"
      },
      "execution_count": 364,
      "outputs": [
        {
          "output_type": "execute_result",
          "data": {
            "text/plain": [
              "0.7222222222222222"
            ]
          },
          "metadata": {},
          "execution_count": 364
        }
      ]
    },
    {
      "cell_type": "code",
      "source": [
        "print('Accuracy Score:', metrics.accuracy_score(y_test, y_nv))  \n",
        "m3=metrics.accuracy_score(y_test, y_nv)"
      ],
      "metadata": {
        "colab": {
          "base_uri": "https://localhost:8080/"
        },
        "id": "BhSUPy7JeBtt",
        "outputId": "a98da077-0eb5-47c0-bffa-639ad80d1a82"
      },
      "execution_count": 365,
      "outputs": [
        {
          "output_type": "stream",
          "name": "stdout",
          "text": [
            "Accuracy Score: 0.7222222222222222\n"
          ]
        }
      ]
    },
    {
      "cell_type": "code",
      "source": [
        "r2prednb=r2_score(y_test,y_nv)\n",
        "r2prednb"
      ],
      "metadata": {
        "id": "AdhX-F9PNt7q",
        "outputId": "ddd68746-464b-47fa-a701-a2a3048c3e79",
        "colab": {
          "base_uri": "https://localhost:8080/"
        }
      },
      "execution_count": 429,
      "outputs": [
        {
          "output_type": "execute_result",
          "data": {
            "text/plain": [
              "0.7534246575342465"
            ]
          },
          "metadata": {},
          "execution_count": 429
        }
      ]
    },
    {
      "cell_type": "code",
      "source": [
        "ms3=mean_squared_error(y_test,y_nv)\n",
        "rms3 = sqrt(ms3)\n",
        "print(\"Mean Squared Error is\",ms3)\n",
        "print(\"Root Mean Squared Error is\",rms3)"
      ],
      "metadata": {
        "colab": {
          "base_uri": "https://localhost:8080/"
        },
        "id": "fM1Rf9U1VfsG",
        "outputId": "d72b513b-a61b-493f-bb15-a0daa728af7a"
      },
      "execution_count": 367,
      "outputs": [
        {
          "output_type": "stream",
          "name": "stdout",
          "text": [
            "Mean Squared Error is 0.2777777777777778\n",
            "Root Mean Squared Error is 0.5270462766947299\n"
          ]
        }
      ]
    },
    {
      "cell_type": "code",
      "source": [
        "class_report=classification_report(y_test, y_nv)\n",
        "print(class_report)\n",
        "cm3=confusion_matrix(y_test,y_nv)\n",
        "print(cm3)\n"
      ],
      "metadata": {
        "colab": {
          "base_uri": "https://localhost:8080/"
        },
        "id": "PfHH06qLimn2",
        "outputId": "7d75ace5-3979-4447-d62d-720c6bdbdc86"
      },
      "execution_count": 368,
      "outputs": [
        {
          "output_type": "stream",
          "name": "stdout",
          "text": [
            "              precision    recall  f1-score   support\n",
            "\n",
            "           2       0.80      1.00      0.89         4\n",
            "           3       0.62      0.83      0.71         6\n",
            "           4       0.75      0.50      0.60         6\n",
            "           5       0.00      0.00      0.00         1\n",
            "           6       1.00      1.00      1.00         1\n",
            "\n",
            "    accuracy                           0.72        18\n",
            "   macro avg       0.64      0.67      0.64        18\n",
            "weighted avg       0.69      0.72      0.69        18\n",
            "\n",
            "[[4 0 0 0 0]\n",
            " [1 5 0 0 0]\n",
            " [0 3 3 0 0]\n",
            " [0 0 1 0 0]\n",
            " [0 0 0 0 1]]\n"
          ]
        },
        {
          "output_type": "stream",
          "name": "stderr",
          "text": [
            "/usr/local/lib/python3.7/dist-packages/sklearn/metrics/_classification.py:1318: UndefinedMetricWarning: Precision and F-score are ill-defined and being set to 0.0 in labels with no predicted samples. Use `zero_division` parameter to control this behavior.\n",
            "  _warn_prf(average, modifier, msg_start, len(result))\n",
            "/usr/local/lib/python3.7/dist-packages/sklearn/metrics/_classification.py:1318: UndefinedMetricWarning: Precision and F-score are ill-defined and being set to 0.0 in labels with no predicted samples. Use `zero_division` parameter to control this behavior.\n",
            "  _warn_prf(average, modifier, msg_start, len(result))\n",
            "/usr/local/lib/python3.7/dist-packages/sklearn/metrics/_classification.py:1318: UndefinedMetricWarning: Precision and F-score are ill-defined and being set to 0.0 in labels with no predicted samples. Use `zero_division` parameter to control this behavior.\n",
            "  _warn_prf(average, modifier, msg_start, len(result))\n"
          ]
        }
      ]
    },
    {
      "cell_type": "code",
      "source": [
        "x_test"
      ],
      "metadata": {
        "colab": {
          "base_uri": "https://localhost:8080/"
        },
        "id": "LUspiUDEdlEN",
        "outputId": "9f3e510e-5f1d-4954-9262-475ac4b576c1"
      },
      "execution_count": 369,
      "outputs": [
        {
          "output_type": "execute_result",
          "data": {
            "text/plain": [
              "array([[ 0.   , 31.   ,  0.375],\n",
              "       [ 0.   , 29.   , -0.625],\n",
              "       [ 1.   , 30.   ,  5.375],\n",
              "       [ 0.   , 36.   ,  0.   ],\n",
              "       [ 1.   , 25.   ,  0.125],\n",
              "       [ 1.   , 41.   , -1.375],\n",
              "       [ 1.   , 36.   , -1.625],\n",
              "       [ 0.   , 40.   , -0.375],\n",
              "       [ 1.   , 25.   , -1.   ],\n",
              "       [ 0.   , 28.   , -0.25 ],\n",
              "       [ 1.   , 32.   , -1.125],\n",
              "       [ 0.   , 36.   ,  0.625],\n",
              "       [ 1.   , 57.   , -0.125],\n",
              "       [ 1.   , 20.   ,  0.375],\n",
              "       [ 0.   , 37.   , -0.125],\n",
              "       [ 0.   , 31.   ,  1.5  ],\n",
              "       [ 0.   , 31.   ,  0.   ],\n",
              "       [ 0.   , 22.   , -1.375]])"
            ]
          },
          "metadata": {},
          "execution_count": 369
        }
      ]
    },
    {
      "cell_type": "code",
      "source": [
        "y_test"
      ],
      "metadata": {
        "colab": {
          "base_uri": "https://localhost:8080/"
        },
        "id": "APfTquA1db2R",
        "outputId": "4f656d76-147e-4cbd-8bcc-c09a11b11697"
      },
      "execution_count": 370,
      "outputs": [
        {
          "output_type": "execute_result",
          "data": {
            "text/plain": [
              "array([4, 3, 6, 4, 4, 2, 2, 3, 3, 3, 2, 4, 3, 4, 3, 5, 4, 2])"
            ]
          },
          "metadata": {},
          "execution_count": 370
        }
      ]
    },
    {
      "cell_type": "code",
      "source": [
        "modelnb.predict(x_test)"
      ],
      "metadata": {
        "colab": {
          "base_uri": "https://localhost:8080/"
        },
        "id": "lmrSR7K7deqt",
        "outputId": "2eabe613-6992-4300-c826-5d5ef3ef63b9"
      },
      "execution_count": 371,
      "outputs": [
        {
          "output_type": "execute_result",
          "data": {
            "text/plain": [
              "array([4, 3, 6, 3, 3, 2, 2, 3, 2, 3, 2, 4, 3, 4, 3, 4, 3, 2])"
            ]
          },
          "metadata": {},
          "execution_count": 371
        }
      ]
    },
    {
      "cell_type": "code",
      "source": [
        "plt.figure(figsize=(5,5))\n",
        "plt.scatter(y_test,y_nv)\n",
        "plt.xlabel('Actual')\n",
        "plt.ylabel('Predicted')\n",
        "plt.title('Actual vs Predicted using Naive Bayes')"
      ],
      "metadata": {
        "colab": {
          "base_uri": "https://localhost:8080/",
          "height": 367
        },
        "id": "vZC6NvybKmrA",
        "outputId": "93fd32e1-d1db-448b-f1a3-60027c19768b"
      },
      "execution_count": 372,
      "outputs": [
        {
          "output_type": "execute_result",
          "data": {
            "text/plain": [
              "Text(0.5, 1.0, 'Actual vs Predicted using Naive Bayes')"
            ]
          },
          "metadata": {},
          "execution_count": 372
        },
        {
          "output_type": "display_data",
          "data": {
            "text/plain": [
              "<Figure size 360x360 with 1 Axes>"
            ],
            "image/png": "[encoded data removed]"
          },
          "metadata": {
            "needs_background": "light"
          }
        }
      ]
    },
    {
      "cell_type": "code",
      "source": [
        "plt.figure(figsize=(9,9))\n",
        "sns.heatmap(cm3, annot=True, fmt=\".3f\", linewidths=.5, square = True, cmap = 'Blues_r');\n",
        "plt.ylabel('Actual label');\n",
        "plt.xlabel('Predicted label');\n",
        "all_sample_title = 'Accuracy Score: {0}'.format(m3)\n",
        "plt.title(all_sample_title, size = 15);"
      ],
      "metadata": {
        "id": "w2U1OFHlEaiA",
        "outputId": "c2fdd1b9-be03-4c53-e9da-ea6f311e5c13",
        "colab": {
          "base_uri": "https://localhost:8080/",
          "height": 530
        }
      },
      "execution_count": 373,
      "outputs": [
        {
          "output_type": "display_data",
          "data": {
            "text/plain": [
              "<Figure size 648x648 with 2 Axes>"
            ],
            "image/png": "[encoded data removed]"
          },
          "metadata": {
            "needs_background": "light"
          }
        }
      ]
    },
    {
      "cell_type": "code",
      "source": [
        "# multi-class classification\n",
        "from sklearn.multiclass import OneVsRestClassifier\n",
        "from sklearn.linear_model import LogisticRegression\n",
        "from sklearn.model_selection import train_test_split\n",
        "from sklearn.metrics import roc_curve\n",
        "from sklearn.metrics import roc_auc_score\n",
        "\n",
        "\n",
        "\n",
        "\n",
        "# fit model\n",
        "clf = nv\n",
        "clf.fit(x_train, y_train)\n",
        "pred = clf.predict(x_test)\n",
        "pred_prob = clf.predict_proba(x_test)\n",
        "\n",
        "# roc curve for classes\n",
        "fpr = {}\n",
        "tpr = {}\n",
        "thresh ={}\n",
        "\n",
        "n_class = 7\n",
        "\n",
        "for i in range(n_class):    \n",
        "    fpr[i], tpr[i], thresh[i] = roc_curve(y_test, pred_prob[:,i], pos_label=i)\n",
        "    \n",
        "# plotting    \n",
        "plt.plot(fpr[0], tpr[0], linestyle='--',color='orange', label='Class 1 vs Rest')\n",
        "plt.plot(fpr[1], tpr[1], linestyle='--',color='green', label='Class 2 vs Rest')\n",
        "plt.plot(fpr[2], tpr[2], linestyle='--',color='blue', label='Class 3 vs Rest')\n",
        "plt.plot(fpr[3], tpr[3], linestyle='--',color='red', label='Class 4 vs Rest')\n",
        "plt.plot(fpr[4], tpr[4], linestyle='--',color='pink', label='Class 5 vs Rest')\n",
        "plt.plot(fpr[5], tpr[5], linestyle='--',color='purple', label='Class 6 vs Rest')\n",
        "plt.plot(fpr[6], tpr[6], linestyle='--',color='yellow', label='Class 7 vs Rest')\n",
        "plt.title('Multiclass ROC curve')\n",
        "plt.xlabel('False Positive Rate')\n",
        "plt.ylabel('True Positive rate')\n",
        "plt.legend(loc='best')\n",
        "plt.savefig('Multiclass ROC',dpi=300);    "
      ],
      "metadata": {
        "id": "ErhdTOjQR6rA",
        "outputId": "55cf7334-162a-455a-c90d-66c2f52b2dc0",
        "colab": {
          "base_uri": "https://localhost:8080/",
          "height": 384
        }
      },
      "execution_count": 374,
      "outputs": [
        {
          "output_type": "stream",
          "name": "stderr",
          "text": [
            "/usr/local/lib/python3.7/dist-packages/sklearn/metrics/_ranking.py:1001: UndefinedMetricWarning: No positive samples in y_true, true positive value should be meaningless\n",
            "  UndefinedMetricWarning,\n",
            "/usr/local/lib/python3.7/dist-packages/sklearn/metrics/_ranking.py:1001: UndefinedMetricWarning: No positive samples in y_true, true positive value should be meaningless\n",
            "  UndefinedMetricWarning,\n"
          ]
        },
        {
          "output_type": "display_data",
          "data": {
            "text/plain": [
              "<Figure size 432x288 with 1 Axes>"
            ],
            "image/png": "[encoded data removed]"
          },
          "metadata": {
            "needs_background": "light"
          }
        }
      ]
    },
    {
      "cell_type": "markdown",
      "source": [
        "**K-Nearest Neighbours(KNN algorithm)**"
      ],
      "metadata": {
        "id": "v8cBIWwhgAI0"
      }
    },
    {
      "cell_type": "code",
      "source": [
        "#Scaling imp here else 0.33\n",
        "from sklearn.preprocessing import StandardScaler\n",
        "scaler=StandardScaler()\n",
        "scaler.fit(x_train)\n",
        "x_trainsc=scaler.transform(x_train)\n",
        "x_testsc=scaler.transform(x_test)"
      ],
      "metadata": {
        "id": "joDqeMAKgOqP"
      },
      "execution_count": 375,
      "outputs": []
    },
    {
      "cell_type": "code",
      "source": [
        "from sklearn.neighbors import KNeighborsClassifier\n",
        "classifier=KNeighborsClassifier(n_neighbors=5)\n",
        "classifier.fit(x_trainsc,y_train)"
      ],
      "metadata": {
        "colab": {
          "base_uri": "https://localhost:8080/"
        },
        "id": "iv23_W7chTdS",
        "outputId": "a607faf3-58ef-4213-cc1e-7058d1ca7a06"
      },
      "execution_count": 376,
      "outputs": [
        {
          "output_type": "execute_result",
          "data": {
            "text/plain": [
              "KNeighborsClassifier()"
            ]
          },
          "metadata": {},
          "execution_count": 376
        }
      ]
    },
    {
      "cell_type": "code",
      "source": [
        "classifier.score(x_testsc,y_test)\n"
      ],
      "metadata": {
        "colab": {
          "base_uri": "https://localhost:8080/"
        },
        "id": "4jrGxtu5lpN6",
        "outputId": "85b3b83b-5f93-43ff-9a3c-ace6526d64d2"
      },
      "execution_count": 377,
      "outputs": [
        {
          "output_type": "execute_result",
          "data": {
            "text/plain": [
              "0.3333333333333333"
            ]
          },
          "metadata": {},
          "execution_count": 377
        }
      ]
    },
    {
      "cell_type": "code",
      "source": [
        "y_predknn=classifier.predict(x_testsc)"
      ],
      "metadata": {
        "id": "Jw5IjvijiUQm"
      },
      "execution_count": 378,
      "outputs": []
    },
    {
      "cell_type": "code",
      "source": [
        "m4=metrics.accuracy_score(y_test, y_predknn)\n",
        "m4"
      ],
      "metadata": {
        "colab": {
          "base_uri": "https://localhost:8080/"
        },
        "id": "aseGsjnqEjLv",
        "outputId": "56e819d2-ab89-40a4-94a6-37aff241f50b"
      },
      "execution_count": 379,
      "outputs": [
        {
          "output_type": "execute_result",
          "data": {
            "text/plain": [
              "0.3333333333333333"
            ]
          },
          "metadata": {},
          "execution_count": 379
        }
      ]
    },
    {
      "cell_type": "code",
      "source": [
        "#negative beacuse dataset is very small\n",
        "r2predknn=r2_score(y_test,y_predknn)\n",
        "r2predknn"
      ],
      "metadata": {
        "id": "IX_5X03-Ofo9",
        "outputId": "8bd14c31-7884-45c2-962d-e92925574d9a",
        "colab": {
          "base_uri": "https://localhost:8080/"
        }
      },
      "execution_count": 430,
      "outputs": [
        {
          "output_type": "execute_result",
          "data": {
            "text/plain": [
              "-0.5780821917808221"
            ]
          },
          "metadata": {},
          "execution_count": 430
        }
      ]
    },
    {
      "cell_type": "code",
      "source": [
        "ms4=mean_squared_error(y_test,y_predknn)\n",
        "rms4 = sqrt(ms4)\n",
        "print(\"Mean Squared Error is\",ms4)\n",
        "print(\"Root Mean Squared Error is\",rms4)"
      ],
      "metadata": {
        "colab": {
          "base_uri": "https://localhost:8080/"
        },
        "id": "uR0pZD1oWaeE",
        "outputId": "e4ce890d-3703-4d71-d7d5-313d41c6ee7d"
      },
      "execution_count": 381,
      "outputs": [
        {
          "output_type": "stream",
          "name": "stdout",
          "text": [
            "Mean Squared Error is 1.7777777777777777\n",
            "Root Mean Squared Error is 1.3333333333333333\n"
          ]
        }
      ]
    },
    {
      "cell_type": "code",
      "source": [
        "\n",
        "print(classification_report(y_test,y_predknn))\n",
        "cm4=confusion_matrix(y_test,y_predknn)\n",
        "print(cm4)"
      ],
      "metadata": {
        "colab": {
          "base_uri": "https://localhost:8080/"
        },
        "id": "vU-QAV9Iin-6",
        "outputId": "3f22859f-1378-45bb-dcc3-69ffe9f41588"
      },
      "execution_count": 382,
      "outputs": [
        {
          "output_type": "stream",
          "name": "stdout",
          "text": [
            "              precision    recall  f1-score   support\n",
            "\n",
            "           2       0.40      0.50      0.44         4\n",
            "           3       0.36      0.67      0.47         6\n",
            "           4       0.00      0.00      0.00         6\n",
            "           5       0.00      0.00      0.00         1\n",
            "           6       0.00      0.00      0.00         1\n",
            "\n",
            "    accuracy                           0.33        18\n",
            "   macro avg       0.15      0.23      0.18        18\n",
            "weighted avg       0.21      0.33      0.26        18\n",
            "\n",
            "[[2 1 1 0 0]\n",
            " [1 4 1 0 0]\n",
            " [2 4 0 0 0]\n",
            " [0 1 0 0 0]\n",
            " [0 1 0 0 0]]\n"
          ]
        },
        {
          "output_type": "stream",
          "name": "stderr",
          "text": [
            "/usr/local/lib/python3.7/dist-packages/sklearn/metrics/_classification.py:1318: UndefinedMetricWarning: Precision and F-score are ill-defined and being set to 0.0 in labels with no predicted samples. Use `zero_division` parameter to control this behavior.\n",
            "  _warn_prf(average, modifier, msg_start, len(result))\n",
            "/usr/local/lib/python3.7/dist-packages/sklearn/metrics/_classification.py:1318: UndefinedMetricWarning: Precision and F-score are ill-defined and being set to 0.0 in labels with no predicted samples. Use `zero_division` parameter to control this behavior.\n",
            "  _warn_prf(average, modifier, msg_start, len(result))\n",
            "/usr/local/lib/python3.7/dist-packages/sklearn/metrics/_classification.py:1318: UndefinedMetricWarning: Precision and F-score are ill-defined and being set to 0.0 in labels with no predicted samples. Use `zero_division` parameter to control this behavior.\n",
            "  _warn_prf(average, modifier, msg_start, len(result))\n"
          ]
        }
      ]
    },
    {
      "cell_type": "code",
      "source": [
        "plt.figure(figsize=(5,5))\n",
        "plt.scatter(y_test,y_predknn)\n",
        "plt.xlabel('Actual')\n",
        "plt.ylabel('Predicted')\n",
        "plt.title('Actual vs Predicted using KNN')"
      ],
      "metadata": {
        "colab": {
          "base_uri": "https://localhost:8080/",
          "height": 367
        },
        "id": "QxXhoiVlLNLk",
        "outputId": "8e4db91d-b05e-4089-db74-fc2c7c7b86f2"
      },
      "execution_count": 383,
      "outputs": [
        {
          "output_type": "execute_result",
          "data": {
            "text/plain": [
              "Text(0.5, 1.0, 'Actual vs Predicted using KNN')"
            ]
          },
          "metadata": {},
          "execution_count": 383
        },
        {
          "output_type": "display_data",
          "data": {
            "text/plain": [
              "<Figure size 360x360 with 1 Axes>"
            ],
            "image/png": "[encoded data removed]"
          },
          "metadata": {
            "needs_background": "light"
          }
        }
      ]
    },
    {
      "cell_type": "code",
      "source": [
        "plt.figure(figsize=(9,9))\n",
        "sns.heatmap(cm4, annot=True, fmt=\".3f\", linewidths=.5, square = True, cmap = 'Blues_r');\n",
        "plt.ylabel('Actual label');\n",
        "plt.xlabel('Predicted label');\n",
        "all_sample_title = 'Accuracy Score: {0}'.format(m4)\n",
        "plt.title(all_sample_title, size = 15);"
      ],
      "metadata": {
        "id": "_uzQDFmaFkYF",
        "outputId": "6c9b6af7-81a6-4dc7-9292-f172e405c13f",
        "colab": {
          "base_uri": "https://localhost:8080/",
          "height": 530
        }
      },
      "execution_count": 384,
      "outputs": [
        {
          "output_type": "display_data",
          "data": {
            "text/plain": [
              "<Figure size 648x648 with 2 Axes>"
            ],
            "image/png": "[encoded data removed]"
          },
          "metadata": {
            "needs_background": "light"
          }
        }
      ]
    },
    {
      "cell_type": "code",
      "source": [
        "# multi-class classification\n",
        "from sklearn.multiclass import OneVsRestClassifier\n",
        "from sklearn.linear_model import LogisticRegression\n",
        "from sklearn.model_selection import train_test_split\n",
        "from sklearn.metrics import roc_curve\n",
        "from sklearn.metrics import roc_auc_score\n",
        "\n",
        "\n",
        "\n",
        "\n",
        "# fit model\n",
        "clf = classifier\n",
        "clf.fit(x_train, y_train)\n",
        "pred = clf.predict(x_test)\n",
        "pred_prob = clf.predict_proba(x_test)\n",
        "\n",
        "# roc curve for classes\n",
        "fpr = {}\n",
        "tpr = {}\n",
        "thresh ={}\n",
        "\n",
        "n_class = 7\n",
        "\n",
        "for i in range(n_class):    \n",
        "    fpr[i], tpr[i], thresh[i] = roc_curve(y_test, pred_prob[:,i], pos_label=i)\n",
        "    \n",
        "# plotting    \n",
        "plt.plot(fpr[0], tpr[0], linestyle='--',color='orange', label='Class 1 vs Rest')\n",
        "plt.plot(fpr[1], tpr[1], linestyle='--',color='green', label='Class 2 vs Rest')\n",
        "plt.plot(fpr[2], tpr[2], linestyle='--',color='blue', label='Class 3 vs Rest')\n",
        "plt.plot(fpr[3], tpr[3], linestyle='--',color='red', label='Class 4 vs Rest')\n",
        "plt.plot(fpr[4], tpr[4], linestyle='--',color='pink', label='Class 5 vs Rest')\n",
        "plt.plot(fpr[5], tpr[5], linestyle='--',color='purple', label='Class 6 vs Rest')\n",
        "plt.plot(fpr[6], tpr[6], linestyle='--',color='yellow', label='Class 7 vs Rest')\n",
        "plt.title('Multiclass ROC curve')\n",
        "plt.xlabel('False Positive Rate')\n",
        "plt.ylabel('True Positive rate')\n",
        "plt.legend(loc='best')\n",
        "plt.savefig('Multiclass ROC',dpi=300);    "
      ],
      "metadata": {
        "id": "OaPKBW9qSJLa",
        "outputId": "ad3e330a-1779-4a9e-adb9-7cac72ab35ef",
        "colab": {
          "base_uri": "https://localhost:8080/",
          "height": 384
        }
      },
      "execution_count": 385,
      "outputs": [
        {
          "output_type": "stream",
          "name": "stderr",
          "text": [
            "/usr/local/lib/python3.7/dist-packages/sklearn/metrics/_ranking.py:1001: UndefinedMetricWarning: No positive samples in y_true, true positive value should be meaningless\n",
            "  UndefinedMetricWarning,\n",
            "/usr/local/lib/python3.7/dist-packages/sklearn/metrics/_ranking.py:1001: UndefinedMetricWarning: No positive samples in y_true, true positive value should be meaningless\n",
            "  UndefinedMetricWarning,\n"
          ]
        },
        {
          "output_type": "display_data",
          "data": {
            "text/plain": [
              "<Figure size 432x288 with 1 Axes>"
            ],
            "image/png": "[encoded data removed]"
          },
          "metadata": {
            "needs_background": "light"
          }
        }
      ]
    },
    {
      "cell_type": "markdown",
      "source": [
        "**Decision Tree**"
      ],
      "metadata": {
        "id": "MdrcXV8A-xFI"
      }
    },
    {
      "cell_type": "code",
      "source": [
        "x_train"
      ],
      "metadata": {
        "colab": {
          "base_uri": "https://localhost:8080/"
        },
        "id": "pSS6oRne-y7v",
        "outputId": "d017ff8b-ee4c-439c-c314-58bc574dac6f"
      },
      "execution_count": 386,
      "outputs": [
        {
          "output_type": "execute_result",
          "data": {
            "text/plain": [
              "array([[ 1.   , 32.   , -0.125],\n",
              "       [ 0.   , 21.   , -0.5  ],\n",
              "       [ 1.   , 20.   , -1.5  ],\n",
              "       [ 1.   , 25.   , -2.   ],\n",
              "       [ 1.   , 35.   ,  0.125],\n",
              "       [ 1.   , 26.   ,  3.625],\n",
              "       [ 0.   , 26.   , -4.25 ],\n",
              "       [ 0.   , 28.   ,  2.875],\n",
              "       [ 0.   , 22.   ,  0.75 ],\n",
              "       [ 0.   , 19.   ,  0.   ],\n",
              "       [ 0.   , 28.   , -1.5  ],\n",
              "       [ 0.   , 30.   , 11.   ],\n",
              "       [ 1.   , 24.   , -1.625],\n",
              "       [ 1.   , 21.   , -2.375],\n",
              "       [ 1.   , 40.   , -0.125],\n",
              "       [ 0.   , 24.   , -0.25 ],\n",
              "       [ 1.   , 18.   ,  0.   ],\n",
              "       [ 1.   , 21.   ,  1.75 ],\n",
              "       [ 1.   , 23.   , -2.   ],\n",
              "       [ 1.   , 20.   , -5.375],\n",
              "       [ 1.   , 32.   , -1.25 ],\n",
              "       [ 1.   , 21.   , -1.25 ],\n",
              "       [ 0.   , 30.   ,  0.375],\n",
              "       [ 0.   , 21.   ,  0.625],\n",
              "       [ 0.   , 25.   ,  0.625],\n",
              "       [ 1.   , 26.   , -0.5  ],\n",
              "       [ 1.   , 28.   , -0.375],\n",
              "       [ 1.   , 35.   ,  0.75 ],\n",
              "       [ 0.   , 25.   ,  0.25 ],\n",
              "       [ 1.   , 22.   , 18.875],\n",
              "       [ 0.   , 36.   ,  1.75 ],\n",
              "       [ 0.   , 32.   , -0.5  ],\n",
              "       [ 0.   , 32.   , -0.375],\n",
              "       [ 1.   , 37.   , -0.25 ],\n",
              "       [ 0.   , 29.   ,  0.25 ],\n",
              "       [ 0.   , 36.   ,  5.375],\n",
              "       [ 1.   , 43.   ,  2.375],\n",
              "       [ 0.   , 26.   , -3.5  ],\n",
              "       [ 1.   , 18.   , -4.25 ],\n",
              "       [ 1.   , 35.   , -2.75 ],\n",
              "       [ 1.   , 22.   , -1.5  ]])"
            ]
          },
          "metadata": {},
          "execution_count": 386
        }
      ]
    },
    {
      "cell_type": "code",
      "source": [
        "#importing decision tree classifier\n",
        "from sklearn.tree import DecisionTreeClassifier"
      ],
      "metadata": {
        "id": "DHkh-oNZ_1PT"
      },
      "execution_count": 387,
      "outputs": []
    },
    {
      "cell_type": "code",
      "source": [
        "#importing decision tree regressor\n",
        "from sklearn.tree import DecisionTreeRegressor"
      ],
      "metadata": {
        "id": "DK-8tkkZADlR"
      },
      "execution_count": 388,
      "outputs": []
    },
    {
      "cell_type": "code",
      "source": [
        "#creating decision tree function\n",
        "dt=DecisionTreeClassifier(random_state=42)"
      ],
      "metadata": {
        "id": "j-1XKY0BANyD"
      },
      "execution_count": 389,
      "outputs": []
    },
    {
      "cell_type": "code",
      "source": [
        "#fitting model\n",
        "dt.fit(x_train,y_train)"
      ],
      "metadata": {
        "colab": {
          "base_uri": "https://localhost:8080/"
        },
        "id": "3rrILZhLAdJb",
        "outputId": "37518156-58b8-4834-84c2-e63b07f4b7f7"
      },
      "execution_count": 390,
      "outputs": [
        {
          "output_type": "execute_result",
          "data": {
            "text/plain": [
              "DecisionTreeClassifier(random_state=42)"
            ]
          },
          "metadata": {},
          "execution_count": 390
        }
      ]
    },
    {
      "cell_type": "code",
      "source": [
        "#checking training score\n",
        "dt.score(x_train,y_train)"
      ],
      "metadata": {
        "colab": {
          "base_uri": "https://localhost:8080/"
        },
        "id": "J_bSAtxTAnkm",
        "outputId": "0ec08f19-6822-4088-e35e-85a34f956674"
      },
      "execution_count": 391,
      "outputs": [
        {
          "output_type": "execute_result",
          "data": {
            "text/plain": [
              "1.0"
            ]
          },
          "metadata": {},
          "execution_count": 391
        }
      ]
    },
    {
      "cell_type": "code",
      "source": [
        "#checking testing score\n",
        "y_preddt=dt.predict(x_test)"
      ],
      "metadata": {
        "id": "YCe46ZllA4qi"
      },
      "execution_count": 392,
      "outputs": []
    },
    {
      "cell_type": "code",
      "source": [
        "from sklearn import metrics\n",
        "m5=metrics.accuracy_score(y_test,y_preddt)\n",
        "metrics.accuracy_score(y_test,y_preddt)\n"
      ],
      "metadata": {
        "colab": {
          "base_uri": "https://localhost:8080/"
        },
        "id": "Vmc2uD9sBD1Q",
        "outputId": "94d112d4-75bd-47ac-c524-7a68a0d6ca26"
      },
      "execution_count": 393,
      "outputs": [
        {
          "output_type": "execute_result",
          "data": {
            "text/plain": [
              "0.7777777777777778"
            ]
          },
          "metadata": {},
          "execution_count": 393
        }
      ]
    },
    {
      "cell_type": "code",
      "source": [
        "ms5=mean_squared_error(y_test,y_preddt)\n",
        "rms5 = sqrt(ms5)\n",
        "print(\"Mean Squared Error is\",ms5)\n",
        "print(\"Root Mean Squared Error is\",rms5)"
      ],
      "metadata": {
        "colab": {
          "base_uri": "https://localhost:8080/"
        },
        "id": "p5r6m2stXTE4",
        "outputId": "c06c16f6-8e98-490c-f341-8a3586103275"
      },
      "execution_count": 394,
      "outputs": [
        {
          "output_type": "stream",
          "name": "stdout",
          "text": [
            "Mean Squared Error is 0.2222222222222222\n",
            "Root Mean Squared Error is 0.4714045207910317\n"
          ]
        }
      ]
    },
    {
      "cell_type": "code",
      "source": [
        "r2preddt=r2_score(y_test,y_preddt)\n",
        "r2preddt"
      ],
      "metadata": {
        "id": "R6C02Pr2G3uf",
        "outputId": "4bb3562a-68bc-450e-8234-c6d132b0ed3a",
        "colab": {
          "base_uri": "https://localhost:8080/"
        }
      },
      "execution_count": 395,
      "outputs": [
        {
          "output_type": "execute_result",
          "data": {
            "text/plain": [
              "0.8027397260273972"
            ]
          },
          "metadata": {},
          "execution_count": 395
        }
      ]
    },
    {
      "cell_type": "code",
      "source": [
        "print(classification_report(y_test,y_preddt))\n",
        "cm5=confusion_matrix(y_test,y_preddt)\n",
        "print(cm5)"
      ],
      "metadata": {
        "colab": {
          "base_uri": "https://localhost:8080/"
        },
        "id": "vqhgyXolOidd",
        "outputId": "feaa6e7e-4568-4e3d-d4d5-8af774cd5cec"
      },
      "execution_count": 396,
      "outputs": [
        {
          "output_type": "stream",
          "name": "stdout",
          "text": [
            "              precision    recall  f1-score   support\n",
            "\n",
            "           2       0.80      1.00      0.89         4\n",
            "           3       1.00      0.83      0.91         6\n",
            "           4       0.80      0.67      0.73         6\n",
            "           5       0.00      0.00      0.00         1\n",
            "           6       1.00      1.00      1.00         1\n",
            "\n",
            "    accuracy                           0.78        18\n",
            "   macro avg       0.72      0.70      0.71        18\n",
            "weighted avg       0.83      0.78      0.80        18\n",
            "\n",
            "[[4 0 0 0 0]\n",
            " [1 5 0 0 0]\n",
            " [0 0 4 2 0]\n",
            " [0 0 1 0 0]\n",
            " [0 0 0 0 1]]\n"
          ]
        }
      ]
    },
    {
      "cell_type": "code",
      "source": [
        "plt.figure(figsize=(5,5))\n",
        "plt.scatter(y_test,y_preddt)\n",
        "plt.xlabel('Actual')\n",
        "plt.ylabel('Predicted')\n",
        "plt.title('Actual vs Predicted using Decision Tree')"
      ],
      "metadata": {
        "colab": {
          "base_uri": "https://localhost:8080/",
          "height": 367
        },
        "id": "Ic4ApLs8Lcyt",
        "outputId": "37b8e337-c5e0-4723-bf3c-765618de97ae"
      },
      "execution_count": 397,
      "outputs": [
        {
          "output_type": "execute_result",
          "data": {
            "text/plain": [
              "Text(0.5, 1.0, 'Actual vs Predicted using Decision Tree')"
            ]
          },
          "metadata": {},
          "execution_count": 397
        },
        {
          "output_type": "display_data",
          "data": {
            "text/plain": [
              "<Figure size 360x360 with 1 Axes>"
            ],
            "image/png": "[encoded data removed]"
          },
          "metadata": {
            "needs_background": "light"
          }
        }
      ]
    },
    {
      "cell_type": "code",
      "source": [
        "plt.figure(figsize=(9,9))\n",
        "sns.heatmap(cm5, annot=True, fmt=\".3f\", linewidths=.5, square = True, cmap = 'Blues_r');\n",
        "plt.ylabel('Actual label');\n",
        "plt.xlabel('Predicted label');\n",
        "all_sample_title = 'Accuracy Score: {0}'.format(m5)\n",
        "plt.title(all_sample_title, size = 15);"
      ],
      "metadata": {
        "id": "QwbGOS3WFtQx",
        "outputId": "40cc8ffe-2929-42ef-a781-d8caf2ad1579",
        "colab": {
          "base_uri": "https://localhost:8080/",
          "height": 530
        }
      },
      "execution_count": 398,
      "outputs": [
        {
          "output_type": "display_data",
          "data": {
            "text/plain": [
              "<Figure size 648x648 with 2 Axes>"
            ],
            "image/png": "[encoded data removed]"
          },
          "metadata": {
            "needs_background": "light"
          }
        }
      ]
    },
    {
      "cell_type": "code",
      "source": [
        "# multi-class classification\n",
        "from sklearn.multiclass import OneVsRestClassifier\n",
        "from sklearn.linear_model import LogisticRegression\n",
        "from sklearn.model_selection import train_test_split\n",
        "from sklearn.metrics import roc_curve\n",
        "from sklearn.metrics import roc_auc_score\n",
        "\n",
        "\n",
        "\n",
        "\n",
        "# fit model\n",
        "clf = dt\n",
        "clf.fit(x_train, y_train)\n",
        "pred = clf.predict(x_test)\n",
        "pred_prob = clf.predict_proba(x_test)\n",
        "\n",
        "# roc curve for classes\n",
        "fpr = {}\n",
        "tpr = {}\n",
        "thresh ={}\n",
        "\n",
        "n_class = 7\n",
        "\n",
        "for i in range(n_class):    \n",
        "    fpr[i], tpr[i], thresh[i] = roc_curve(y_test, pred_prob[:,i], pos_label=i)\n",
        "    \n",
        "# plotting    \n",
        "plt.plot(fpr[0], tpr[0], linestyle='--',color='orange', label='Class 1 vs Rest')\n",
        "plt.plot(fpr[1], tpr[1], linestyle='--',color='green', label='Class 2 vs Rest')\n",
        "plt.plot(fpr[2], tpr[2], linestyle='--',color='blue', label='Class 3 vs Rest')\n",
        "plt.plot(fpr[3], tpr[3], linestyle='--',color='red', label='Class 4 vs Rest')\n",
        "plt.plot(fpr[4], tpr[4], linestyle='--',color='pink', label='Class 5 vs Rest')\n",
        "plt.plot(fpr[5], tpr[5], linestyle='--',color='purple', label='Class 6 vs Rest')\n",
        "plt.plot(fpr[6], tpr[6], linestyle='--',color='yellow', label='Class 7 vs Rest')\n",
        "plt.title('Multiclass ROC curve')\n",
        "plt.xlabel('False Positive Rate')\n",
        "plt.ylabel('True Positive rate')\n",
        "plt.legend(loc='best')\n",
        "plt.savefig('Multiclass ROC',dpi=300);    "
      ],
      "metadata": {
        "id": "8XzfVo8fScOO",
        "outputId": "9fb09db7-8627-4911-f4bd-db4c49615221",
        "colab": {
          "base_uri": "https://localhost:8080/",
          "height": 384
        }
      },
      "execution_count": 399,
      "outputs": [
        {
          "output_type": "stream",
          "name": "stderr",
          "text": [
            "/usr/local/lib/python3.7/dist-packages/sklearn/metrics/_ranking.py:1001: UndefinedMetricWarning: No positive samples in y_true, true positive value should be meaningless\n",
            "  UndefinedMetricWarning,\n",
            "/usr/local/lib/python3.7/dist-packages/sklearn/metrics/_ranking.py:1001: UndefinedMetricWarning: No positive samples in y_true, true positive value should be meaningless\n",
            "  UndefinedMetricWarning,\n"
          ]
        },
        {
          "output_type": "display_data",
          "data": {
            "text/plain": [
              "<Figure size 432x288 with 1 Axes>"
            ],
            "image/png": "[encoded data removed]"
          },
          "metadata": {
            "needs_background": "light"
          }
        }
      ]
    },
    {
      "cell_type": "markdown",
      "source": [
        "**Random Forest**"
      ],
      "metadata": {
        "id": "njfRjXheKdgQ"
      }
    },
    {
      "cell_type": "code",
      "source": [
        "x_train"
      ],
      "metadata": {
        "colab": {
          "base_uri": "https://localhost:8080/"
        },
        "id": "s0cAlafrKka-",
        "outputId": "2870a7bc-5bb0-4428-e1b7-308eee3e818c"
      },
      "execution_count": 400,
      "outputs": [
        {
          "output_type": "execute_result",
          "data": {
            "text/plain": [
              "array([[ 1.   , 32.   , -0.125],\n",
              "       [ 0.   , 21.   , -0.5  ],\n",
              "       [ 1.   , 20.   , -1.5  ],\n",
              "       [ 1.   , 25.   , -2.   ],\n",
              "       [ 1.   , 35.   ,  0.125],\n",
              "       [ 1.   , 26.   ,  3.625],\n",
              "       [ 0.   , 26.   , -4.25 ],\n",
              "       [ 0.   , 28.   ,  2.875],\n",
              "       [ 0.   , 22.   ,  0.75 ],\n",
              "       [ 0.   , 19.   ,  0.   ],\n",
              "       [ 0.   , 28.   , -1.5  ],\n",
              "       [ 0.   , 30.   , 11.   ],\n",
              "       [ 1.   , 24.   , -1.625],\n",
              "       [ 1.   , 21.   , -2.375],\n",
              "       [ 1.   , 40.   , -0.125],\n",
              "       [ 0.   , 24.   , -0.25 ],\n",
              "       [ 1.   , 18.   ,  0.   ],\n",
              "       [ 1.   , 21.   ,  1.75 ],\n",
              "       [ 1.   , 23.   , -2.   ],\n",
              "       [ 1.   , 20.   , -5.375],\n",
              "       [ 1.   , 32.   , -1.25 ],\n",
              "       [ 1.   , 21.   , -1.25 ],\n",
              "       [ 0.   , 30.   ,  0.375],\n",
              "       [ 0.   , 21.   ,  0.625],\n",
              "       [ 0.   , 25.   ,  0.625],\n",
              "       [ 1.   , 26.   , -0.5  ],\n",
              "       [ 1.   , 28.   , -0.375],\n",
              "       [ 1.   , 35.   ,  0.75 ],\n",
              "       [ 0.   , 25.   ,  0.25 ],\n",
              "       [ 1.   , 22.   , 18.875],\n",
              "       [ 0.   , 36.   ,  1.75 ],\n",
              "       [ 0.   , 32.   , -0.5  ],\n",
              "       [ 0.   , 32.   , -0.375],\n",
              "       [ 1.   , 37.   , -0.25 ],\n",
              "       [ 0.   , 29.   ,  0.25 ],\n",
              "       [ 0.   , 36.   ,  5.375],\n",
              "       [ 1.   , 43.   ,  2.375],\n",
              "       [ 0.   , 26.   , -3.5  ],\n",
              "       [ 1.   , 18.   , -4.25 ],\n",
              "       [ 1.   , 35.   , -2.75 ],\n",
              "       [ 1.   , 22.   , -1.5  ]])"
            ]
          },
          "metadata": {},
          "execution_count": 400
        }
      ]
    },
    {
      "cell_type": "code",
      "source": [
        "from sklearn.ensemble import RandomForestClassifier\n",
        "rf=RandomForestClassifier(random_state=42)\n",
        "rf.fit(x_train,y_train)"
      ],
      "metadata": {
        "colab": {
          "base_uri": "https://localhost:8080/"
        },
        "id": "54-jrK6JKrfD",
        "outputId": "c92289a1-f179-4edb-e1bc-8b3994f21597"
      },
      "execution_count": 401,
      "outputs": [
        {
          "output_type": "execute_result",
          "data": {
            "text/plain": [
              "RandomForestClassifier(random_state=42)"
            ]
          },
          "metadata": {},
          "execution_count": 401
        }
      ]
    },
    {
      "cell_type": "code",
      "source": [
        "rf.predict(x_test)"
      ],
      "metadata": {
        "colab": {
          "base_uri": "https://localhost:8080/"
        },
        "id": "UkGz4LNxNvat",
        "outputId": "c9fbcde6-6d35-4376-c3c6-150fae7ca387"
      },
      "execution_count": 402,
      "outputs": [
        {
          "output_type": "execute_result",
          "data": {
            "text/plain": [
              "array([4, 3, 6, 3, 4, 2, 2, 3, 2, 3, 2, 4, 3, 4, 3, 4, 4, 2])"
            ]
          },
          "metadata": {},
          "execution_count": 402
        }
      ]
    },
    {
      "cell_type": "code",
      "source": [
        "y_predrf=rf.predict(x_test)"
      ],
      "metadata": {
        "id": "B8K2s9VqK6sx"
      },
      "execution_count": 403,
      "outputs": []
    },
    {
      "cell_type": "code",
      "source": [
        "from sklearn.metrics import accuracy_score,classification_report\n",
        "m6=accuracy_score(y_test,y_predrf)\n",
        "accuracy_score(y_test,y_predrf)\n"
      ],
      "metadata": {
        "colab": {
          "base_uri": "https://localhost:8080/"
        },
        "id": "EaReoqmfLIo3",
        "outputId": "097d2ce2-d21c-4a5e-8093-9a12b4a18304"
      },
      "execution_count": 404,
      "outputs": [
        {
          "output_type": "execute_result",
          "data": {
            "text/plain": [
              "0.8333333333333334"
            ]
          },
          "metadata": {},
          "execution_count": 404
        }
      ]
    },
    {
      "cell_type": "code",
      "source": [
        "ms6=mean_squared_error(y_test,y_predrf)\n",
        "rms6 = sqrt(ms6)\n",
        "print(\"Mean Squared Error is\",ms6)\n",
        "print(\"Root Mean Squared Error is\",rms6)"
      ],
      "metadata": {
        "colab": {
          "base_uri": "https://localhost:8080/"
        },
        "id": "YuAXoIj4XkMZ",
        "outputId": "6da610c3-88bb-4e96-f543-ed636bd34a03"
      },
      "execution_count": 405,
      "outputs": [
        {
          "output_type": "stream",
          "name": "stdout",
          "text": [
            "Mean Squared Error is 0.16666666666666666\n",
            "Root Mean Squared Error is 0.408248290463863\n"
          ]
        }
      ]
    },
    {
      "cell_type": "code",
      "source": [
        "r2predrf=r2_score(y_test,y_predrf)\n",
        "r2predrf"
      ],
      "metadata": {
        "id": "a68_l2zaFm9V",
        "outputId": "2568e32f-352f-4bca-bb86-acf8cff067c1",
        "colab": {
          "base_uri": "https://localhost:8080/"
        }
      },
      "execution_count": 406,
      "outputs": [
        {
          "output_type": "execute_result",
          "data": {
            "text/plain": [
              "0.8520547945205479"
            ]
          },
          "metadata": {},
          "execution_count": 406
        }
      ]
    },
    {
      "cell_type": "code",
      "source": [
        "mean_squared_error(y_test, y_predrf, squared=True)\n"
      ],
      "metadata": {
        "id": "jPzED-QUFuG5",
        "outputId": "aac7bfae-9598-4d88-aa62-6cfb586d3543",
        "colab": {
          "base_uri": "https://localhost:8080/"
        }
      },
      "execution_count": 407,
      "outputs": [
        {
          "output_type": "execute_result",
          "data": {
            "text/plain": [
              "0.16666666666666666"
            ]
          },
          "metadata": {},
          "execution_count": 407
        }
      ]
    },
    {
      "cell_type": "code",
      "source": [
        "print(classification_report(y_test,y_predrf))\n",
        "\n",
        "cm6=confusion_matrix(y_test,y_predrf)\n",
        "print(cm6)"
      ],
      "metadata": {
        "colab": {
          "base_uri": "https://localhost:8080/"
        },
        "id": "PNjTgLDTMS7k",
        "outputId": "e9b4a573-e231-47c4-e283-936b8e2f8c6d"
      },
      "execution_count": 408,
      "outputs": [
        {
          "output_type": "stream",
          "name": "stdout",
          "text": [
            "              precision    recall  f1-score   support\n",
            "\n",
            "           2       0.80      1.00      0.89         4\n",
            "           3       0.83      0.83      0.83         6\n",
            "           4       0.83      0.83      0.83         6\n",
            "           5       0.00      0.00      0.00         1\n",
            "           6       1.00      1.00      1.00         1\n",
            "\n",
            "    accuracy                           0.83        18\n",
            "   macro avg       0.69      0.73      0.71        18\n",
            "weighted avg       0.79      0.83      0.81        18\n",
            "\n",
            "[[4 0 0 0 0]\n",
            " [1 5 0 0 0]\n",
            " [0 1 5 0 0]\n",
            " [0 0 1 0 0]\n",
            " [0 0 0 0 1]]\n"
          ]
        },
        {
          "output_type": "stream",
          "name": "stderr",
          "text": [
            "/usr/local/lib/python3.7/dist-packages/sklearn/metrics/_classification.py:1318: UndefinedMetricWarning: Precision and F-score are ill-defined and being set to 0.0 in labels with no predicted samples. Use `zero_division` parameter to control this behavior.\n",
            "  _warn_prf(average, modifier, msg_start, len(result))\n",
            "/usr/local/lib/python3.7/dist-packages/sklearn/metrics/_classification.py:1318: UndefinedMetricWarning: Precision and F-score are ill-defined and being set to 0.0 in labels with no predicted samples. Use `zero_division` parameter to control this behavior.\n",
            "  _warn_prf(average, modifier, msg_start, len(result))\n",
            "/usr/local/lib/python3.7/dist-packages/sklearn/metrics/_classification.py:1318: UndefinedMetricWarning: Precision and F-score are ill-defined and being set to 0.0 in labels with no predicted samples. Use `zero_division` parameter to control this behavior.\n",
            "  _warn_prf(average, modifier, msg_start, len(result))\n"
          ]
        }
      ]
    },
    {
      "cell_type": "code",
      "source": [
        "plt.figure(figsize=(5,5))\n",
        "plt.scatter(y_test,y_predrf)\n",
        "plt.xlabel('Actual')\n",
        "plt.ylabel('Predicted')\n",
        "plt.title('Actual vs Predicted using Random Forest')"
      ],
      "metadata": {
        "id": "oi34G7jQOMz1",
        "colab": {
          "base_uri": "https://localhost:8080/",
          "height": 367
        },
        "outputId": "ce567335-8a14-4707-93d8-e9a1dcc42723"
      },
      "execution_count": 409,
      "outputs": [
        {
          "output_type": "execute_result",
          "data": {
            "text/plain": [
              "Text(0.5, 1.0, 'Actual vs Predicted using Random Forest')"
            ]
          },
          "metadata": {},
          "execution_count": 409
        },
        {
          "output_type": "display_data",
          "data": {
            "text/plain": [
              "<Figure size 360x360 with 1 Axes>"
            ],
            "image/png": "[encoded data removed]"
          },
          "metadata": {
            "needs_background": "light"
          }
        }
      ]
    },
    {
      "cell_type": "code",
      "source": [
        "plt.figure(figsize=(9,9))\n",
        "sns.heatmap(cm6, annot=True, fmt=\".3f\", linewidths=.5, square = True, cmap = 'Blues_r');\n",
        "plt.ylabel('Actual label');\n",
        "plt.xlabel('Predicted label');\n",
        "all_sample_title = 'Accuracy Score: {0}'.format(m6)\n",
        "plt.title(all_sample_title, size = 15);"
      ],
      "metadata": {
        "id": "mvpIVuWcFziV",
        "outputId": "41e5e92a-91fb-44d4-df2d-4197ea86d933",
        "colab": {
          "base_uri": "https://localhost:8080/",
          "height": 530
        }
      },
      "execution_count": 410,
      "outputs": [
        {
          "output_type": "display_data",
          "data": {
            "text/plain": [
              "<Figure size 648x648 with 2 Axes>"
            ],
            "image/png": "[encoded data removed]"
          },
          "metadata": {
            "needs_background": "light"
          }
        }
      ]
    },
    {
      "cell_type": "code",
      "source": [
        "# multi-class classification\n",
        "from sklearn.multiclass import OneVsRestClassifier\n",
        "\n",
        "from sklearn.metrics import roc_curve\n",
        "from sklearn.metrics import roc_auc_score\n",
        "\n",
        "\n",
        "\n",
        "\n",
        "# fit model\n",
        "clf = rf\n",
        "clf.fit(x_train, y_train)\n",
        "pred = clf.predict(x_test)\n",
        "pred_prob = clf.predict_proba(x_test)\n",
        "\n",
        "# roc curve for classes\n",
        "fpr = {}\n",
        "tpr = {}\n",
        "thresh ={}\n",
        "\n",
        "n_class = 7\n",
        "\n",
        "for i in range(n_class):    \n",
        "    fpr[i], tpr[i], thresh[i] = roc_curve(y_test, pred_prob[:,i], pos_label=i)\n",
        "    \n",
        "# plotting    \n",
        "plt.plot(fpr[0], tpr[0], linestyle='--',color='orange', label='Class 1 vs Rest')\n",
        "plt.plot(fpr[1], tpr[1], linestyle='--',color='green', label='Class 2 vs Rest')\n",
        "plt.plot(fpr[2], tpr[2], linestyle='--',color='blue', label='Class 3 vs Rest')\n",
        "plt.plot(fpr[3], tpr[3], linestyle='--',color='red', label='Class 4 vs Rest')\n",
        "plt.plot(fpr[4], tpr[4], linestyle='--',color='pink', label='Class 5 vs Rest')\n",
        "plt.plot(fpr[5], tpr[5], linestyle='--',color='purple', label='Class 6 vs Rest')\n",
        "plt.plot(fpr[6], tpr[6], linestyle='--',color='yellow', label='Class 7 vs Rest')\n",
        "plt.title('Multiclass ROC curve')\n",
        "plt.xlabel('False Positive Rate')\n",
        "plt.ylabel('True Positive rate')\n",
        "plt.legend(loc='best')\n",
        "plt.savefig('Multiclass ROC',dpi=300);    "
      ],
      "metadata": {
        "id": "sXBYkv7YSuDL",
        "outputId": "ddb9449f-30f7-42d9-ed86-f05aa5f45abc",
        "colab": {
          "base_uri": "https://localhost:8080/",
          "height": 384
        }
      },
      "execution_count": 411,
      "outputs": [
        {
          "output_type": "stream",
          "name": "stderr",
          "text": [
            "/usr/local/lib/python3.7/dist-packages/sklearn/metrics/_ranking.py:1001: UndefinedMetricWarning: No positive samples in y_true, true positive value should be meaningless\n",
            "  UndefinedMetricWarning,\n",
            "/usr/local/lib/python3.7/dist-packages/sklearn/metrics/_ranking.py:1001: UndefinedMetricWarning: No positive samples in y_true, true positive value should be meaningless\n",
            "  UndefinedMetricWarning,\n"
          ]
        },
        {
          "output_type": "display_data",
          "data": {
            "text/plain": [
              "<Figure size 432x288 with 1 Axes>"
            ],
            "image/png": "[encoded data removed]"
          },
          "metadata": {
            "needs_background": "light"
          }
        }
      ]
    },
    {
      "cell_type": "markdown",
      "source": [
        "**SGD** "
      ],
      "metadata": {
        "id": "ThqV61wVVEIl"
      }
    },
    {
      "cell_type": "code",
      "source": [
        "from sklearn import preprocessing\n",
        "from sklearn.linear_model import SGDClassifier\n",
        "#scaled\n",
        "scaler = preprocessing.StandardScaler()\n",
        "sgdx_train = scaler.fit_transform(x_train)\n",
        "sgdx_test = scaler.transform(x_test)"
      ],
      "metadata": {
        "id": "t-6TEPGyVp4V"
      },
      "execution_count": 412,
      "outputs": []
    },
    {
      "cell_type": "code",
      "source": [
        "sgdc=SGDClassifier(max_iter=1000,loss=\"hinge\")\n",
        "print(sgdc)"
      ],
      "metadata": {
        "id": "LogMJTP4Yj5S",
        "outputId": "92269af5-39e6-4375-e22b-d067a366d298",
        "colab": {
          "base_uri": "https://localhost:8080/"
        }
      },
      "execution_count": 413,
      "outputs": [
        {
          "output_type": "stream",
          "name": "stdout",
          "text": [
            "SGDClassifier()\n"
          ]
        }
      ]
    },
    {
      "cell_type": "code",
      "source": [
        "sgdc.fit(sgdx_train,y_train)"
      ],
      "metadata": {
        "id": "EtQaC8DrFRPm",
        "outputId": "ebbe86aa-540b-4ad2-ca54-eb84b88fadbd",
        "colab": {
          "base_uri": "https://localhost:8080/"
        }
      },
      "execution_count": 414,
      "outputs": [
        {
          "output_type": "execute_result",
          "data": {
            "text/plain": [
              "SGDClassifier()"
            ]
          },
          "metadata": {},
          "execution_count": 414
        }
      ]
    },
    {
      "cell_type": "code",
      "source": [
        "score = sgdc.score(sgdx_train, y_train)\n",
        "print(\"Training score: \", score) \n",
        " \n",
        "\n"
      ],
      "metadata": {
        "id": "IXntJemlFlGE",
        "outputId": "88a4d2fb-910f-46ca-eae6-5c7d3014dbdb",
        "colab": {
          "base_uri": "https://localhost:8080/"
        }
      },
      "execution_count": 415,
      "outputs": [
        {
          "output_type": "stream",
          "name": "stdout",
          "text": [
            "Training score:  0.4878048780487805\n"
          ]
        }
      ]
    },
    {
      "cell_type": "code",
      "source": [
        "sgdypred = sgdc.predict(sgdx_test)"
      ],
      "metadata": {
        "id": "rylAF-acGJfr"
      },
      "execution_count": 416,
      "outputs": []
    },
    {
      "cell_type": "code",
      "source": [
        "m7=accuracy_score(y_test,sgdypred)\n",
        "accuracy_score(y_test,sgdypred)"
      ],
      "metadata": {
        "colab": {
          "base_uri": "https://localhost:8080/"
        },
        "id": "geIEKc0RFGqa",
        "outputId": "92cbb748-7fe2-480f-b8bc-3bcdb7c28c8e"
      },
      "execution_count": 417,
      "outputs": [
        {
          "output_type": "execute_result",
          "data": {
            "text/plain": [
              "0.3333333333333333"
            ]
          },
          "metadata": {},
          "execution_count": 417
        }
      ]
    },
    {
      "cell_type": "code",
      "source": [
        "ms7=mean_squared_error(y_test,sgdypred)\n",
        "rms7 = sqrt(ms7)\n",
        "print(\"Mean Squared Error is\",ms7)\n",
        "print(\"Root Mean Squared Error is\",rms7)"
      ],
      "metadata": {
        "colab": {
          "base_uri": "https://localhost:8080/"
        },
        "id": "kupgq-dyX8G-",
        "outputId": "7f78cd8e-d64d-4c57-c1df-21642fafaf55"
      },
      "execution_count": 418,
      "outputs": [
        {
          "output_type": "stream",
          "name": "stdout",
          "text": [
            "Mean Squared Error is 1.6111111111111112\n",
            "Root Mean Squared Error is 1.2692955176439846\n"
          ]
        }
      ]
    },
    {
      "cell_type": "code",
      "source": [
        "r2predsgd=r2_score(y_test,sgdypred)\n",
        "r2predsgd"
      ],
      "metadata": {
        "id": "vQqhFb-ePoxl",
        "outputId": "32deebc4-68dd-40d2-82e3-08914f5666a4",
        "colab": {
          "base_uri": "https://localhost:8080/"
        }
      },
      "execution_count": 419,
      "outputs": [
        {
          "output_type": "execute_result",
          "data": {
            "text/plain": [
              "-0.43013698630137"
            ]
          },
          "metadata": {},
          "execution_count": 419
        }
      ]
    },
    {
      "cell_type": "code",
      "source": [
        "cr = classification_report(y_test, sgdypred)\n",
        "print(cr)\n",
        "cm7=confusion_matrix(y_test,sgdypred)\n",
        "print(cm7)"
      ],
      "metadata": {
        "id": "j_UFsQOTFq_3",
        "outputId": "69cc9c34-64bb-48e8-8f7b-e40336a25ce4",
        "colab": {
          "base_uri": "https://localhost:8080/"
        }
      },
      "execution_count": 420,
      "outputs": [
        {
          "output_type": "stream",
          "name": "stdout",
          "text": [
            "              precision    recall  f1-score   support\n",
            "\n",
            "           2       0.00      0.00      0.00         4\n",
            "           3       0.33      0.83      0.48         6\n",
            "           4       0.50      0.17      0.25         6\n",
            "           5       0.00      0.00      0.00         1\n",
            "           6       0.00      0.00      0.00         1\n",
            "\n",
            "    accuracy                           0.33        18\n",
            "   macro avg       0.17      0.20      0.15        18\n",
            "weighted avg       0.28      0.33      0.24        18\n",
            "\n",
            "[[0 3 1 0 0]\n",
            " [0 5 0 1 0]\n",
            " [0 5 1 0 0]\n",
            " [0 1 0 0 0]\n",
            " [0 1 0 0 0]]\n"
          ]
        },
        {
          "output_type": "stream",
          "name": "stderr",
          "text": [
            "/usr/local/lib/python3.7/dist-packages/sklearn/metrics/_classification.py:1318: UndefinedMetricWarning: Precision and F-score are ill-defined and being set to 0.0 in labels with no predicted samples. Use `zero_division` parameter to control this behavior.\n",
            "  _warn_prf(average, modifier, msg_start, len(result))\n",
            "/usr/local/lib/python3.7/dist-packages/sklearn/metrics/_classification.py:1318: UndefinedMetricWarning: Precision and F-score are ill-defined and being set to 0.0 in labels with no predicted samples. Use `zero_division` parameter to control this behavior.\n",
            "  _warn_prf(average, modifier, msg_start, len(result))\n",
            "/usr/local/lib/python3.7/dist-packages/sklearn/metrics/_classification.py:1318: UndefinedMetricWarning: Precision and F-score are ill-defined and being set to 0.0 in labels with no predicted samples. Use `zero_division` parameter to control this behavior.\n",
            "  _warn_prf(average, modifier, msg_start, len(result))\n"
          ]
        }
      ]
    },
    {
      "cell_type": "code",
      "source": [
        "plt.figure(figsize=(5,5))\n",
        "plt.scatter(y_test,sgdypred)\n",
        "plt.xlabel('Actual')\n",
        "plt.ylabel('Predicted')\n",
        "plt.title('Actual vs Predicted using SGD')"
      ],
      "metadata": {
        "colab": {
          "base_uri": "https://localhost:8080/",
          "height": 367
        },
        "id": "4pTaa7oJMZzk",
        "outputId": "5e083198-8f1d-4184-c292-1d97fc11344a"
      },
      "execution_count": 421,
      "outputs": [
        {
          "output_type": "execute_result",
          "data": {
            "text/plain": [
              "Text(0.5, 1.0, 'Actual vs Predicted using SGD')"
            ]
          },
          "metadata": {},
          "execution_count": 421
        },
        {
          "output_type": "display_data",
          "data": {
            "text/plain": [
              "<Figure size 360x360 with 1 Axes>"
            ],
            "image/png": "[encoded data removed]"
          },
          "metadata": {
            "needs_background": "light"
          }
        }
      ]
    },
    {
      "cell_type": "code",
      "source": [
        "plt.figure(figsize=(9,9))\n",
        "sns.heatmap(cm7, annot=True, fmt=\".3f\", linewidths=.5, square = True, cmap = 'Blues_r');\n",
        "plt.ylabel('Actual label');\n",
        "plt.xlabel('Predicted label');\n",
        "all_sample_title = 'Accuracy Score: {0}'.format(m7)\n",
        "plt.title(all_sample_title, size = 15);"
      ],
      "metadata": {
        "id": "aNLgDyCSF9sN",
        "outputId": "72110697-bdbf-42e7-f91a-1a58363680cb",
        "colab": {
          "base_uri": "https://localhost:8080/",
          "height": 530
        }
      },
      "execution_count": 422,
      "outputs": [
        {
          "output_type": "display_data",
          "data": {
            "text/plain": [
              "<Figure size 648x648 with 2 Axes>"
            ],
            "image/png": "[encoded data removed]"
          },
          "metadata": {
            "needs_background": "light"
          }
        }
      ]
    },
    {
      "cell_type": "code",
      "source": [
        "# multi-class classification\n",
        "#from sklearn.multiclass import OneVsRestClassifier\n",
        "\n",
        "#from sklearn.metrics import roc_curve\n",
        "#from sklearn.metrics import roc_auc_score\n",
        "\n",
        "\n",
        "\n",
        "\n",
        "# fit model\n",
        "#clf = SGDClassifier\n",
        "#clf.fit(x_train, y_train)\n",
        "#pred = clf.predict(x_test)\n",
        "#pred_prob = clf.predict_proba(x_test)\n",
        "\n",
        "# roc curve for classes\n",
        "#fpr = {}\n",
        "#tpr = {}\n",
        "#thresh ={}\n",
        "\n",
        "#n_class = 7\n",
        "\n",
        "#for i in range(n_class):    \n",
        "   # fpr[i], tpr[i], thresh[i] = roc_curve(y_test, pred_prob[:,i], pos_label=i)\n",
        "    \n",
        "# plotting    \n",
        "#plt.plot(fpr[0], tpr[0], linestyle='--',color='orange', label='Class 1 vs Rest')\n",
        "#plt.plot(fpr[1], tpr[1], linestyle='--',color='green', label='Class 2 vs Rest')\n",
        "#plt.plot(fpr[2], tpr[2], linestyle='--',color='blue', label='Class 3 vs Rest')\n",
        "#plt.plot(fpr[3], tpr[3], linestyle='--',color='red', label='Class 4 vs Rest')\n",
        "#plt.plot(fpr[4], tpr[4], linestyle='--',color='pink', label='Class 5 vs Rest')\n",
        "#plt.plot(fpr[5], tpr[5], linestyle='--',color='purple', label='Class 6 vs Rest')\n",
        "#plt.plot(fpr[6], tpr[6], linestyle='--',color='yellow', label='Class 7 vs Rest')\n",
        "#plt.title('Multiclass ROC curve')\n",
        "#plt.xlabel('False Positive Rate')\n",
        "#plt.ylabel('True Positive rate')\n",
        "#plt.legend(loc='best')\n",
        "#plt.savefig('Multiclass ROC',dpi=300);    "
      ],
      "metadata": {
        "id": "LRLuD4v2TG8v"
      },
      "execution_count": 423,
      "outputs": []
    },
    {
      "cell_type": "markdown",
      "source": [
        "**PLOT**"
      ],
      "metadata": {
        "id": "o2UG2wUDNbSM"
      }
    },
    {
      "cell_type": "code",
      "source": [
        "# x-coordinates of left sides of bars \n",
        "left = [1, 2, 3, 4, 5, 6, 7]\n",
        "  \n",
        "# heights of bars\n",
        "height= [m1, m2, m3, m4, m5, m6, m7] \n",
        "# labels for bars\n",
        "tick_label = ['MultipleLinearReg', 'MultinomialLogreg', 'NaiveBayes', 'KNN', 'DecisionTree',\"RandomForest\",\"SGD\"]\n",
        " # function to add value labels\n",
        " \n",
        "# plotting a bar chart\n",
        "plt.bar(left, height, tick_label = tick_label,\n",
        "        width = 0.6, color = ['red', 'green'])\n",
        "\n",
        "\n",
        "# naming the x-axis\n",
        "plt.xlabel('x - axis')\n",
        "plt.xticks(rotation=50)\n",
        "# naming the y-axis\n",
        "plt.ylabel('y - axis')\n",
        "# plot title\n",
        "plt.title('Accuracies')\n",
        "\n",
        "# function to show the plot\n",
        "plt.show()"
      ],
      "metadata": {
        "id": "f4ms7aJFGX77",
        "colab": {
          "base_uri": "https://localhost:8080/",
          "height": 363
        },
        "outputId": "19aa12b7-f138-46b1-8504-37f87fa0b757"
      },
      "execution_count": 428,
      "outputs": [
        {
          "output_type": "display_data",
          "data": {
            "text/plain": [
              "<Figure size 432x288 with 1 Axes>"
            ],
            "image/png": "[encoded data removed]"
          },
          "metadata": {
            "needs_background": "light"
          }
        }
      ]
    },
    {
      "cell_type": "code",
      "source": [
        "# x-coordinates of left sides of bars \n",
        "left = [1, 2, 3, 4, 5, 6, 7]\n",
        "  \n",
        "# heights of bars\n",
        "height= [m1, r2predlr, r2prednb, r2predknn, r2preddt, r2predrf, r2predsgd] \n",
        "# labels for bars\n",
        "tick_label = ['MultipleLinearReg', 'MultinomialLogreg', 'NaiveBayes', 'KNN', 'DecisionTree',\"RandomForest\",\"SGD\"]\n",
        " # function to add value labels\n",
        " \n",
        "# plotting a bar chart\n",
        "plt.bar(left, height, tick_label = tick_label,\n",
        "        width = 0.6, color = ['red', 'green'])\n",
        "\n",
        "\n",
        "# naming the x-axis\n",
        "plt.xlabel('x - axis')\n",
        "plt.xticks(rotation=50)\n",
        "# naming the y-axis\n",
        "plt.ylabel('y - axis')\n",
        "# plot title\n",
        "plt.title('R2 score')\n",
        "\n",
        "# function to show the plot\n",
        "plt.show()"
      ],
      "metadata": {
        "id": "L-wTMzuTRYSY",
        "outputId": "f8f7932b-657f-4bae-c19d-f2c7cb67f71e",
        "colab": {
          "base_uri": "https://localhost:8080/",
          "height": 363
        }
      },
      "execution_count": 432,
      "outputs": [
        {
          "output_type": "display_data",
          "data": {
            "text/plain": [
              "<Figure size 432x288 with 1 Axes>"
            ],
            "image/png": "[encoded data removed]"
          },
          "metadata": {
            "needs_background": "light"
          }
        }
      ]
    },
    {
      "cell_type": "code",
      "source": [
        "# x-coordinates of left sides of bars \n",
        "left = [1, 2, 3, 4, 5, 6, 7]\n",
        "  \n",
        "# heights of bars\n",
        "height= [ms1, ms2, ms3, ms4, ms5, ms6, ms7] \n",
        "# labels for bars\n",
        "tick_label = ['MultipleLinearReg', 'MultinomialLogreg', 'NaiveBayes', 'KNN', 'DecisionTree',\"RandomForest\",\"SGD\"]\n",
        "  \n",
        "# plotting a bar chart\n",
        "plt.bar(left, height, tick_label = tick_label,\n",
        "        width = 0.6, color = ['red', 'purple'])\n",
        "\n",
        "\n",
        "# naming the x-axis\n",
        "plt.xlabel('x - axis')\n",
        "plt.xticks(rotation=50)\n",
        "# naming the y-axis\n",
        "plt.ylabel('y - axis')\n",
        "# plot title\n",
        "plt.title(\"Mean Square Error\")\n",
        "\n",
        "# function to show the plot\n",
        "plt.show()"
      ],
      "metadata": {
        "colab": {
          "base_uri": "https://localhost:8080/",
          "height": 363
        },
        "id": "WTeVriTnSdzn",
        "outputId": "10a451be-e4c4-4b8d-fdf0-642938ec8330"
      },
      "execution_count": 425,
      "outputs": [
        {
          "output_type": "display_data",
          "data": {
            "text/plain": [
              "<Figure size 432x288 with 1 Axes>"
            ],
            "image/png": "[encoded data removed]"
          },
          "metadata": {
            "needs_background": "light"
          }
        }
      ]
    },
    {
      "cell_type": "code",
      "source": [
        "# x-coordinates of left sides of bars \n",
        "left = [1, 2, 3, 4, 5, 6, 7]\n",
        "  \n",
        "# heights of bars\n",
        "height= [rms1, rms2, rms3, rms4, rms5, rms6, rms7] \n",
        "# labels for bars\n",
        "tick_label = ['MultipleLinearReg', 'MultinomialLogreg', 'NaiveBayes', 'KNN', 'DecisionTree',\"RandomForest\",\"SGD\"]\n",
        "  \n",
        "# plotting a bar chart\n",
        "plt.bar(left, height, tick_label = tick_label,\n",
        "        width = 0.6, color = ['blue', 'green'])\n",
        "\n",
        "\n",
        "# naming the x-axis\n",
        "plt.xlabel('x - axis')\n",
        "plt.xticks(rotation=50)\n",
        "# naming the y-axis\n",
        "plt.ylabel('y - axis')\n",
        "# plot title\n",
        "plt.title(\"Root Mean Square Error\")\n",
        "\n",
        "# function to show the plot\n",
        "plt.show()"
      ],
      "metadata": {
        "colab": {
          "base_uri": "https://localhost:8080/",
          "height": 363
        },
        "id": "oRAAFfOWUCke",
        "outputId": "747c4d66-92da-4d38-a1f7-e20c2af04ccd"
      },
      "execution_count": 426,
      "outputs": [
        {
          "output_type": "display_data",
          "data": {
            "text/plain": [
              "<Figure size 432x288 with 1 Axes>"
            ],
            "image/png": "[encoded data removed]"
          },
          "metadata": {
            "needs_background": "light"
          }
        }
      ]
    },
    {
      "cell_type": "code",
      "source": [
        ""
      ],
      "metadata": {
        "id": "I5abFHZaO-Ms"
      },
      "execution_count": 426,
      "outputs": []
    }
  ]
}