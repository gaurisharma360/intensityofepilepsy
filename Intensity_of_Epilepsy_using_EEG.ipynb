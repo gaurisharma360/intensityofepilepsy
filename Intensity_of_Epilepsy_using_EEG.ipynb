{
  "nbformat": 4,
  "nbformat_minor": 0,
  "metadata": {
    "colab": {
      "name": "Intensity of Epilepsy using EEG.ipynb",
      "provenance": [],
      "collapsed_sections": [],
      "mount_file_id": "1ApSGWAO8Lj7dpbJDhE1OovAfjn7jHaJY",
      "authorship_tag": "ABX9TyMWMdWgHLEBTHX08JztS4kc",
      "include_colab_link": true
    },
    "kernelspec": {
      "name": "python3",
      "display_name": "Python 3"
    },
    "language_info": {
      "name": "python"
    }
  },
  "cells": [
    {
      "cell_type": "markdown",
      "metadata": {
        "id": "view-in-github",
        "colab_type": "text"
      },
      "source": [
        "<a href=\"https://colab.research.google.com/github/gaurisharma360/intensityofepilepsy/blob/main/Intensity_of_Epilepsy_using_EEG.ipynb\" target=\"_parent\"><img src=\"https://colab.research.google.com/assets/colab-badge.svg\" alt=\"Open In Colab\"/></a>"
      ]
    },
    {
      "cell_type": "code",
      "execution_count": 3,
      "metadata": {
        "id": "PBU3Ccwaw7We"
      },
      "outputs": [],
      "source": [
        "import pandas as pd\n",
        "import numpy as np"
      ]
    },
    {
      "cell_type": "code",
      "source": [
        "data_df=pd.read_csv(\"/content/Minorv2.csv\")"
      ],
      "metadata": {
        "id": "CBZvTmKyxbia"
      },
      "execution_count": 4,
      "outputs": []
    },
    {
      "cell_type": "code",
      "source": [
        "data_df.head()"
      ],
      "metadata": {
        "colab": {
          "base_uri": "https://localhost:8080/",
          "height": 206
        },
        "id": "mb2OtDAAyDmc",
        "outputId": "ef1834ae-5d9f-4bce-989b-141964876afe"
      },
      "execution_count": 5,
      "outputs": [
        {
          "output_type": "execute_result",
          "data": {
            "text/plain": [
              "   Treatment (0=Placebo, 1=Progabide)  Age  Difference in frequencies  \\\n",
              "0                                   0   31                      0.375   \n",
              "1                                   0   30                      0.375   \n",
              "2                                   0   25                      0.625   \n",
              "3                                   0   36                      0.625   \n",
              "4                                   0   22                     -1.375   \n",
              "\n",
              "   Intensity of disease  \n",
              "0                     4  \n",
              "1                     4  \n",
              "2                     4  \n",
              "3                     4  \n",
              "4                     2  "
            ],
            "text/html": [
              "\n",
              "  <div id=\"df-b1b84987-ec99-480d-a327-2f35ff00d6d4\">\n",
              "    <div class=\"colab-df-container\">\n",
              "      <div>\n",
              "<style scoped>\n",
              "    .dataframe tbody tr th:only-of-type {\n",
              "        vertical-align: middle;\n",
              "    }\n",
              "\n",
              "    .dataframe tbody tr th {\n",
              "        vertical-align: top;\n",
              "    }\n",
              "\n",
              "    .dataframe thead th {\n",
              "        text-align: right;\n",
              "    }\n",
              "</style>\n",
              "<table border=\"1\" class=\"dataframe\">\n",
              "  <thead>\n",
              "    <tr style=\"text-align: right;\">\n",
              "      <th></th>\n",
              "      <th>Treatment (0=Placebo, 1=Progabide)</th>\n",
              "      <th>Age</th>\n",
              "      <th>Difference in frequencies</th>\n",
              "      <th>Intensity of disease</th>\n",
              "    </tr>\n",
              "  </thead>\n",
              "  <tbody>\n",
              "    <tr>\n",
              "      <th>0</th>\n",
              "      <td>0</td>\n",
              "      <td>31</td>\n",
              "      <td>0.375</td>\n",
              "      <td>4</td>\n",
              "    </tr>\n",
              "    <tr>\n",
              "      <th>1</th>\n",
              "      <td>0</td>\n",
              "      <td>30</td>\n",
              "      <td>0.375</td>\n",
              "      <td>4</td>\n",
              "    </tr>\n",
              "    <tr>\n",
              "      <th>2</th>\n",
              "      <td>0</td>\n",
              "      <td>25</td>\n",
              "      <td>0.625</td>\n",
              "      <td>4</td>\n",
              "    </tr>\n",
              "    <tr>\n",
              "      <th>3</th>\n",
              "      <td>0</td>\n",
              "      <td>36</td>\n",
              "      <td>0.625</td>\n",
              "      <td>4</td>\n",
              "    </tr>\n",
              "    <tr>\n",
              "      <th>4</th>\n",
              "      <td>0</td>\n",
              "      <td>22</td>\n",
              "      <td>-1.375</td>\n",
              "      <td>2</td>\n",
              "    </tr>\n",
              "  </tbody>\n",
              "</table>\n",
              "</div>\n",
              "      <button class=\"colab-df-convert\" onclick=\"convertToInteractive('df-b1b84987-ec99-480d-a327-2f35ff00d6d4')\"\n",
              "              title=\"Convert this dataframe to an interactive table.\"\n",
              "              style=\"display:none;\">\n",
              "        \n",
              "  <svg xmlns=\"http://www.w3.org/2000/svg\" height=\"24px\"viewBox=\"0 0 24 24\"\n",
              "       width=\"24px\">\n",
              "    <path d=\"M0 0h24v24H0V0z\" fill=\"none\"/>\n",
              "    <path d=\"M18.56 5.44l.94 2.06.94-2.06 2.06-.94-2.06-.94-.94-2.06-.94 2.06-2.06.94zm-11 1L8.5 8.5l.94-2.06 2.06-.94-2.06-.94L8.5 2.5l-.94 2.06-2.06.94zm10 10l.94 2.06.94-2.06 2.06-.94-2.06-.94-.94-2.06-.94 2.06-2.06.94z\"/><path d=\"M17.41 7.96l-1.37-1.37c-.4-.4-.92-.59-1.43-.59-.52 0-1.04.2-1.43.59L10.3 9.45l-7.72 7.72c-.78.78-.78 2.05 0 2.83L4 21.41c.39.39.9.59 1.41.59.51 0 1.02-.2 1.41-.59l7.78-7.78 2.81-2.81c.8-.78.8-2.07 0-2.86zM5.41 20L4 18.59l7.72-7.72 1.47 1.35L5.41 20z\"/>\n",
              "  </svg>\n",
              "      </button>\n",
              "      \n",
              "  <style>\n",
              "    .colab-df-container {\n",
              "      display:flex;\n",
              "      flex-wrap:wrap;\n",
              "      gap: 12px;\n",
              "    }\n",
              "\n",
              "    .colab-df-convert {\n",
              "      background-color: #E8F0FE;\n",
              "      border: none;\n",
              "      border-radius: 50%;\n",
              "      cursor: pointer;\n",
              "      display: none;\n",
              "      fill: #1967D2;\n",
              "      height: 32px;\n",
              "      padding: 0 0 0 0;\n",
              "      width: 32px;\n",
              "    }\n",
              "\n",
              "    .colab-df-convert:hover {\n",
              "      background-color: #E2EBFA;\n",
              "      box-shadow: 0px 1px 2px rgba(60, 64, 67, 0.3), 0px 1px 3px 1px rgba(60, 64, 67, 0.15);\n",
              "      fill: #174EA6;\n",
              "    }\n",
              "\n",
              "    [theme=dark] .colab-df-convert {\n",
              "      background-color: #3B4455;\n",
              "      fill: #D2E3FC;\n",
              "    }\n",
              "\n",
              "    [theme=dark] .colab-df-convert:hover {\n",
              "      background-color: #434B5C;\n",
              "      box-shadow: 0px 1px 3px 1px rgba(0, 0, 0, 0.15);\n",
              "      filter: drop-shadow(0px 1px 2px rgba(0, 0, 0, 0.3));\n",
              "      fill: #FFFFFF;\n",
              "    }\n",
              "  </style>\n",
              "\n",
              "      <script>\n",
              "        const buttonEl =\n",
              "          document.querySelector('#df-b1b84987-ec99-480d-a327-2f35ff00d6d4 button.colab-df-convert');\n",
              "        buttonEl.style.display =\n",
              "          google.colab.kernel.accessAllowed ? 'block' : 'none';\n",
              "\n",
              "        async function convertToInteractive(key) {\n",
              "          const element = document.querySelector('#df-b1b84987-ec99-480d-a327-2f35ff00d6d4');\n",
              "          const dataTable =\n",
              "            await google.colab.kernel.invokeFunction('convertToInteractive',\n",
              "                                                     [key], {});\n",
              "          if (!dataTable) return;\n",
              "\n",
              "          const docLinkHtml = 'Like what you see? Visit the ' +\n",
              "            '<a target=\"_blank\" href=https://colab.research.google.com/notebooks/data_table.ipynb>data table notebook</a>'\n",
              "            + ' to learn more about interactive tables.';\n",
              "          element.innerHTML = '';\n",
              "          dataTable['output_type'] = 'display_data';\n",
              "          await google.colab.output.renderOutput(dataTable, element);\n",
              "          const docLink = document.createElement('div');\n",
              "          docLink.innerHTML = docLinkHtml;\n",
              "          element.appendChild(docLink);\n",
              "        }\n",
              "      </script>\n",
              "    </div>\n",
              "  </div>\n",
              "  "
            ]
          },
          "metadata": {},
          "execution_count": 5
        }
      ]
    },
    {
      "cell_type": "code",
      "source": [
        "\n",
        "x=data_df.drop([('Intensity of disease')],axis=1).values\n",
        "y=data_df['Intensity of disease'].values"
      ],
      "metadata": {
        "id": "aQxFD-IGyPAX"
      },
      "execution_count": 6,
      "outputs": []
    },
    {
      "cell_type": "code",
      "source": [
        "print(x)"
      ],
      "metadata": {
        "colab": {
          "base_uri": "https://localhost:8080/"
        },
        "id": "vJPJDtVV_jJs",
        "outputId": "ac65832b-1db6-4c41-89d0-1828395234e6"
      },
      "execution_count": 7,
      "outputs": [
        {
          "output_type": "stream",
          "name": "stdout",
          "text": [
            "[[ 0.    31.     0.375]\n",
            " [ 0.    30.     0.375]\n",
            " [ 0.    25.     0.625]\n",
            " [ 0.    36.     0.625]\n",
            " [ 0.    22.    -1.375]\n",
            " [ 0.    29.    -0.625]\n",
            " [ 0.    31.     0.   ]\n",
            " [ 0.    36.     5.375]\n",
            " [ 0.    37.    -0.125]\n",
            " [ 0.    28.     2.875]\n",
            " [ 0.    36.     1.75 ]\n",
            " [ 0.    24.    -0.25 ]\n",
            " [ 0.    28.    -0.25 ]\n",
            " [ 0.    36.     0.   ]\n",
            " [ 0.    26.    -3.5  ]\n",
            " [ 0.    26.    -4.25 ]\n",
            " [ 0.    28.    -1.5  ]\n",
            " [ 0.    31.     1.5  ]\n",
            " [ 0.    32.    -0.375]\n",
            " [ 0.    21.    -0.5  ]\n",
            " [ 0.    29.     0.25 ]\n",
            " [ 0.    21.     0.625]\n",
            " [ 0.    32.    -0.5  ]\n",
            " [ 0.    25.     0.25 ]\n",
            " [ 0.    30.    11.   ]\n",
            " [ 0.    40.    -0.375]\n",
            " [ 0.    19.     0.   ]\n",
            " [ 0.    22.     0.75 ]\n",
            " [ 1.    18.    -4.25 ]\n",
            " [ 1.    32.    -1.25 ]\n",
            " [ 1.    20.    -1.5  ]\n",
            " [ 1.    20.     0.375]\n",
            " [ 1.    18.     0.   ]\n",
            " [ 1.    24.    -1.625]\n",
            " [ 1.    30.     5.375]\n",
            " [ 1.    35.     0.75 ]\n",
            " [ 1.    57.    -0.125]\n",
            " [ 1.    20.    -5.375]\n",
            " [ 1.    22.    -1.5  ]\n",
            " [ 1.    28.    -0.375]\n",
            " [ 1.    23.    -2.   ]\n",
            " [ 1.    40.    -0.125]\n",
            " [ 1.    43.     2.375]\n",
            " [ 1.    21.    -1.25 ]\n",
            " [ 1.    35.     0.125]\n",
            " [ 1.    25.     0.125]\n",
            " [ 1.    26.    -0.5  ]\n",
            " [ 1.    25.    -1.   ]\n",
            " [ 1.    22.    18.875]\n",
            " [ 1.    32.    -1.125]\n",
            " [ 1.    25.    -2.   ]\n",
            " [ 1.    35.    -2.75 ]\n",
            " [ 1.    21.     1.75 ]\n",
            " [ 1.    41.    -1.375]\n",
            " [ 1.    32.    -0.125]\n",
            " [ 1.    26.     3.625]\n",
            " [ 1.    21.    -2.375]\n",
            " [ 1.    36.    -1.625]\n",
            " [ 1.    37.    -0.25 ]]\n"
          ]
        }
      ]
    },
    {
      "cell_type": "code",
      "source": [
        "print(y)"
      ],
      "metadata": {
        "colab": {
          "base_uri": "https://localhost:8080/"
        },
        "id": "oY5sLoHMCb1_",
        "outputId": "c76ac9ec-0307-4551-fcff-446541ebba32"
      },
      "execution_count": 8,
      "outputs": [
        {
          "output_type": "stream",
          "name": "stdout",
          "text": [
            "[4 4 4 4 2 3 4 6 3 5 5 3 3 4 1 1 2 5 3 3 4 4 3 4 7 3 4 4 6 2 2 4 4 2 6 3 3\n",
            " 1 2 3 2 3 5 2 4 4 3 3 7 2 2 2 4 2 3 6 2 2 3]\n"
          ]
        }
      ]
    },
    {
      "cell_type": "code",
      "source": [
        "from sklearn.model_selection import train_test_split\n",
        "x_train,x_test,y_train,y_test=train_test_split(x,y,test_size=0.15,random_state=42)"
      ],
      "metadata": {
        "id": "nSrGYlOc039g"
      },
      "execution_count": 9,
      "outputs": []
    },
    {
      "cell_type": "code",
      "source": [
        "from sklearn.linear_model import LinearRegression\n",
        "ml=LinearRegression()\n",
        "ml.fit(x_train,y_train)"
      ],
      "metadata": {
        "colab": {
          "base_uri": "https://localhost:8080/"
        },
        "id": "Ugq9Xjdw5ROl",
        "outputId": "d4b3671d-766b-4037-d840-5a4b708993ba"
      },
      "execution_count": 10,
      "outputs": [
        {
          "output_type": "execute_result",
          "data": {
            "text/plain": [
              "LinearRegression()"
            ]
          },
          "metadata": {},
          "execution_count": 10
        }
      ]
    },
    {
      "cell_type": "code",
      "source": [
        "y_pred=ml.predict(x_test)\n",
        "print(y_pred)"
      ],
      "metadata": {
        "colab": {
          "base_uri": "https://localhost:8080/"
        },
        "id": "L2qKLoxP51Mk",
        "outputId": "09906d96-26f1-4786-df5a-18ebae292f37"
      },
      "execution_count": 11,
      "outputs": [
        {
          "output_type": "stream",
          "name": "stdout",
          "text": [
            "[3.61986518 3.31751628 4.76316622 3.52124139 3.1899499  2.78518894\n",
            " 2.69805273 3.42005115 2.85558187]\n"
          ]
        }
      ]
    },
    {
      "cell_type": "code",
      "source": [
        "ml.predict([[0,31,0.375]])"
      ],
      "metadata": {
        "colab": {
          "base_uri": "https://localhost:8080/"
        },
        "id": "3JKYlLyC6CSJ",
        "outputId": "6da469e9-70bd-4e8a-c986-be69a9e00b1e"
      },
      "execution_count": 12,
      "outputs": [
        {
          "output_type": "execute_result",
          "data": {
            "text/plain": [
              "array([3.61986518])"
            ]
          },
          "metadata": {},
          "execution_count": 12
        }
      ]
    },
    {
      "cell_type": "code",
      "source": [
        "from sklearn.metrics import mean_squared_error\n",
        "errors = mean_squared_error(y_test, y_pred, squared=False)\n",
        "errors"
      ],
      "metadata": {
        "colab": {
          "base_uri": "https://localhost:8080/"
        },
        "id": "mXWAdUH-yD_Y",
        "outputId": "5e1e014d-f277-450c-b641-5772f0bfff3f"
      },
      "execution_count": 13,
      "outputs": [
        {
          "output_type": "execute_result",
          "data": {
            "text/plain": [
              "0.6634561589850955"
            ]
          },
          "metadata": {},
          "execution_count": 13
        }
      ]
    },
    {
      "cell_type": "code",
      "source": [
        "from sklearn.metrics import r2_score\n",
        "r2_score(y_test,y_pred)"
      ],
      "metadata": {
        "colab": {
          "base_uri": "https://localhost:8080/"
        },
        "id": "mKT05qWt7jX4",
        "outputId": "02f39a05-240d-44d0-95cb-d6bf69ce24f3"
      },
      "execution_count": 14,
      "outputs": [
        {
          "output_type": "execute_result",
          "data": {
            "text/plain": [
              "0.6758718175771294"
            ]
          },
          "metadata": {},
          "execution_count": 14
        }
      ]
    },
    {
      "cell_type": "code",
      "source": [
        "import matplotlib.pyplot as plt\n",
        "plt.figure(figsize=(5,5))\n",
        "plt.scatter(y_test,y_pred)\n",
        "plt.xlabel('Actual')\n",
        "plt.ylabel('Predicted')\n",
        "plt.title('Actual vs Predicted')"
      ],
      "metadata": {
        "colab": {
          "base_uri": "https://localhost:8080/",
          "height": 367
        },
        "id": "oh2-DeAR786U",
        "outputId": "db51d86f-ef2a-4b75-8f6d-1fb25ebfbbfb"
      },
      "execution_count": 15,
      "outputs": [
        {
          "output_type": "execute_result",
          "data": {
            "text/plain": [
              "Text(0.5, 1.0, 'Actual vs Predicted')"
            ]
          },
          "metadata": {},
          "execution_count": 15
        },
        {
          "output_type": "display_data",
          "data": {
            "text/plain": [
              "<Figure size 360x360 with 1 Axes>"
            ],
            "image/png": "[encoded data removed]"
          },
          "metadata": {
            "needs_background": "light"
          }
        }
      ]
    },
    {
      "cell_type": "markdown",
      "source": [
        "**Multinomial Logistic Regression**"
      ],
      "metadata": {
        "id": "9dwhn-0rI3a2"
      }
    },
    {
      "cell_type": "code",
      "source": [
        "x_train"
      ],
      "metadata": {
        "colab": {
          "base_uri": "https://localhost:8080/"
        },
        "id": "YoYd2LhfJDyq",
        "outputId": "809df020-8c9b-427b-cec4-556317a93995"
      },
      "execution_count": 16,
      "outputs": [
        {
          "output_type": "execute_result",
          "data": {
            "text/plain": [
              "array([[ 0.   , 28.   , -0.25 ],\n",
              "       [ 1.   , 32.   , -1.125],\n",
              "       [ 0.   , 36.   ,  0.625],\n",
              "       [ 1.   , 57.   , -0.125],\n",
              "       [ 1.   , 20.   ,  0.375],\n",
              "       [ 0.   , 37.   , -0.125],\n",
              "       [ 0.   , 31.   ,  1.5  ],\n",
              "       [ 0.   , 31.   ,  0.   ],\n",
              "       [ 0.   , 22.   , -1.375],\n",
              "       [ 1.   , 32.   , -0.125],\n",
              "       [ 0.   , 21.   , -0.5  ],\n",
              "       [ 1.   , 20.   , -1.5  ],\n",
              "       [ 1.   , 25.   , -2.   ],\n",
              "       [ 1.   , 35.   ,  0.125],\n",
              "       [ 1.   , 26.   ,  3.625],\n",
              "       [ 0.   , 26.   , -4.25 ],\n",
              "       [ 0.   , 28.   ,  2.875],\n",
              "       [ 0.   , 22.   ,  0.75 ],\n",
              "       [ 0.   , 19.   ,  0.   ],\n",
              "       [ 0.   , 28.   , -1.5  ],\n",
              "       [ 0.   , 30.   , 11.   ],\n",
              "       [ 1.   , 24.   , -1.625],\n",
              "       [ 1.   , 21.   , -2.375],\n",
              "       [ 1.   , 40.   , -0.125],\n",
              "       [ 0.   , 24.   , -0.25 ],\n",
              "       [ 1.   , 18.   ,  0.   ],\n",
              "       [ 1.   , 21.   ,  1.75 ],\n",
              "       [ 1.   , 23.   , -2.   ],\n",
              "       [ 1.   , 20.   , -5.375],\n",
              "       [ 1.   , 32.   , -1.25 ],\n",
              "       [ 1.   , 21.   , -1.25 ],\n",
              "       [ 0.   , 30.   ,  0.375],\n",
              "       [ 0.   , 21.   ,  0.625],\n",
              "       [ 0.   , 25.   ,  0.625],\n",
              "       [ 1.   , 26.   , -0.5  ],\n",
              "       [ 1.   , 28.   , -0.375],\n",
              "       [ 1.   , 35.   ,  0.75 ],\n",
              "       [ 0.   , 25.   ,  0.25 ],\n",
              "       [ 1.   , 22.   , 18.875],\n",
              "       [ 0.   , 36.   ,  1.75 ],\n",
              "       [ 0.   , 32.   , -0.5  ],\n",
              "       [ 0.   , 32.   , -0.375],\n",
              "       [ 1.   , 37.   , -0.25 ],\n",
              "       [ 0.   , 29.   ,  0.25 ],\n",
              "       [ 0.   , 36.   ,  5.375],\n",
              "       [ 1.   , 43.   ,  2.375],\n",
              "       [ 0.   , 26.   , -3.5  ],\n",
              "       [ 1.   , 18.   , -4.25 ],\n",
              "       [ 1.   , 35.   , -2.75 ],\n",
              "       [ 1.   , 22.   , -1.5  ]])"
            ]
          },
          "metadata": {},
          "execution_count": 16
        }
      ]
    },
    {
      "cell_type": "code",
      "source": [
        "y_train"
      ],
      "metadata": {
        "colab": {
          "base_uri": "https://localhost:8080/"
        },
        "id": "_7M70S_IJQXJ",
        "outputId": "0e60b41c-a765-495b-bd3b-1999a700fa50"
      },
      "execution_count": 17,
      "outputs": [
        {
          "output_type": "execute_result",
          "data": {
            "text/plain": [
              "array([3, 2, 4, 3, 4, 3, 5, 4, 2, 3, 3, 2, 2, 4, 6, 1, 5, 4, 4, 2, 7, 2,\n",
              "       2, 3, 3, 4, 4, 2, 1, 2, 2, 4, 4, 4, 3, 3, 3, 4, 7, 5, 3, 3, 3, 4,\n",
              "       6, 5, 1, 6, 2, 2])"
            ]
          },
          "metadata": {},
          "execution_count": 17
        }
      ]
    },
    {
      "cell_type": "code",
      "source": [
        "x_test"
      ],
      "metadata": {
        "colab": {
          "base_uri": "https://localhost:8080/"
        },
        "id": "bsMnTaJHJt9_",
        "outputId": "b21c397d-551c-4f0b-83b1-832ca3edebcf"
      },
      "execution_count": 18,
      "outputs": [
        {
          "output_type": "execute_result",
          "data": {
            "text/plain": [
              "array([[ 0.   , 31.   ,  0.375],\n",
              "       [ 0.   , 29.   , -0.625],\n",
              "       [ 1.   , 30.   ,  5.375],\n",
              "       [ 0.   , 36.   ,  0.   ],\n",
              "       [ 1.   , 25.   ,  0.125],\n",
              "       [ 1.   , 41.   , -1.375],\n",
              "       [ 1.   , 36.   , -1.625],\n",
              "       [ 0.   , 40.   , -0.375],\n",
              "       [ 1.   , 25.   , -1.   ]])"
            ]
          },
          "metadata": {},
          "execution_count": 18
        }
      ]
    },
    {
      "cell_type": "code",
      "source": [
        "y_test"
      ],
      "metadata": {
        "colab": {
          "base_uri": "https://localhost:8080/"
        },
        "id": "wFiLY_yhJxBO",
        "outputId": "f9af1a95-0cde-4dee-b1da-b923bd21a73e"
      },
      "execution_count": 19,
      "outputs": [
        {
          "output_type": "execute_result",
          "data": {
            "text/plain": [
              "array([4, 3, 6, 4, 4, 2, 2, 3, 3])"
            ]
          },
          "metadata": {},
          "execution_count": 19
        }
      ]
    },
    {
      "cell_type": "code",
      "source": [
        "from sklearn.linear_model import LogisticRegression\n",
        "from sklearn.preprocessing import StandardScaler"
      ],
      "metadata": {
        "id": "mqmCbrISJ1N3"
      },
      "execution_count": 20,
      "outputs": []
    },
    {
      "cell_type": "code",
      "source": [
        "lr=LogisticRegression(multi_class=\"multinomial\",solver=\"lbfgs\",random_state=42)"
      ],
      "metadata": {
        "id": "CsYXs6nbKF0k"
      },
      "execution_count": 21,
      "outputs": []
    },
    {
      "cell_type": "code",
      "source": [
        "lr.fit(x_train,y_train)"
      ],
      "metadata": {
        "colab": {
          "base_uri": "https://localhost:8080/"
        },
        "id": "prWyonxwO5N0",
        "outputId": "d39ea837-5dec-4220-ac4c-93485f8eb291"
      },
      "execution_count": 22,
      "outputs": [
        {
          "output_type": "stream",
          "name": "stderr",
          "text": [
            "/usr/local/lib/python3.7/dist-packages/sklearn/linear_model/_logistic.py:818: ConvergenceWarning: lbfgs failed to converge (status=1):\n",
            "STOP: TOTAL NO. of ITERATIONS REACHED LIMIT.\n",
            "\n",
            "Increase the number of iterations (max_iter) or scale the data as shown in:\n",
            "    https://scikit-learn.org/stable/modules/preprocessing.html\n",
            "Please also refer to the documentation for alternative solver options:\n",
            "    https://scikit-learn.org/stable/modules/linear_model.html#logistic-regression\n",
            "  extra_warning_msg=_LOGISTIC_SOLVER_CONVERGENCE_MSG,\n"
          ]
        },
        {
          "output_type": "execute_result",
          "data": {
            "text/plain": [
              "LogisticRegression(multi_class='multinomial', random_state=42)"
            ]
          },
          "metadata": {},
          "execution_count": 22
        }
      ]
    },
    {
      "cell_type": "code",
      "source": [
        "y_predlr=lr.predict(x_test)"
      ],
      "metadata": {
        "id": "37yOBqKyPGU0"
      },
      "execution_count": 23,
      "outputs": []
    },
    {
      "cell_type": "code",
      "source": [
        "lr.score(x_test,y_test)"
      ],
      "metadata": {
        "colab": {
          "base_uri": "https://localhost:8080/"
        },
        "id": "1MZSx1doPYTH",
        "outputId": "f8a226b0-a68f-48ce-867f-5aba4a0ba879"
      },
      "execution_count": 24,
      "outputs": [
        {
          "output_type": "execute_result",
          "data": {
            "text/plain": [
              "0.5555555555555556"
            ]
          },
          "metadata": {},
          "execution_count": 24
        }
      ]
    },
    {
      "cell_type": "code",
      "source": [
        "#applying standardisation\n",
        "#scaler=StandardScaler()"
      ],
      "metadata": {
        "id": "n1rHcCWNSviT"
      },
      "execution_count": 25,
      "outputs": []
    },
    {
      "cell_type": "code",
      "source": [
        "#x_train_s=scaler.fit_transform(x_train)\n",
        "#x_test_s=scaler.transform(x_test)"
      ],
      "metadata": {
        "id": "24pfI4KVVFfL"
      },
      "execution_count": 26,
      "outputs": []
    },
    {
      "cell_type": "code",
      "source": [
        "#lr.fit(x_train,y_train)"
      ],
      "metadata": {
        "id": "xpvgqcqUVSpN"
      },
      "execution_count": 27,
      "outputs": []
    },
    {
      "cell_type": "code",
      "source": [
        "#y_predlr2=lr.predict(x_test_s)"
      ],
      "metadata": {
        "id": "0OUpxMl5VcYv"
      },
      "execution_count": 28,
      "outputs": []
    },
    {
      "cell_type": "code",
      "source": [
        "#lr.score(x_test_s,y_test)"
      ],
      "metadata": {
        "id": "_376RS2YVnhN"
      },
      "execution_count": 29,
      "outputs": []
    },
    {
      "cell_type": "code",
      "source": [
        ""
      ],
      "metadata": {
        "id": "PW5J6vXbV4C6"
      },
      "execution_count": 29,
      "outputs": []
    },
    {
      "cell_type": "markdown",
      "source": [
        "**Naive Bayes**"
      ],
      "metadata": {
        "id": "1jYsLpf5bhPh"
      }
    },
    {
      "cell_type": "code",
      "source": [
        "x_train"
      ],
      "metadata": {
        "colab": {
          "base_uri": "https://localhost:8080/"
        },
        "id": "WZN0L6v2bqcI",
        "outputId": "f300a139-118d-4b26-90ea-0ebc3913884b"
      },
      "execution_count": 30,
      "outputs": [
        {
          "output_type": "execute_result",
          "data": {
            "text/plain": [
              "array([[ 0.   , 28.   , -0.25 ],\n",
              "       [ 1.   , 32.   , -1.125],\n",
              "       [ 0.   , 36.   ,  0.625],\n",
              "       [ 1.   , 57.   , -0.125],\n",
              "       [ 1.   , 20.   ,  0.375],\n",
              "       [ 0.   , 37.   , -0.125],\n",
              "       [ 0.   , 31.   ,  1.5  ],\n",
              "       [ 0.   , 31.   ,  0.   ],\n",
              "       [ 0.   , 22.   , -1.375],\n",
              "       [ 1.   , 32.   , -0.125],\n",
              "       [ 0.   , 21.   , -0.5  ],\n",
              "       [ 1.   , 20.   , -1.5  ],\n",
              "       [ 1.   , 25.   , -2.   ],\n",
              "       [ 1.   , 35.   ,  0.125],\n",
              "       [ 1.   , 26.   ,  3.625],\n",
              "       [ 0.   , 26.   , -4.25 ],\n",
              "       [ 0.   , 28.   ,  2.875],\n",
              "       [ 0.   , 22.   ,  0.75 ],\n",
              "       [ 0.   , 19.   ,  0.   ],\n",
              "       [ 0.   , 28.   , -1.5  ],\n",
              "       [ 0.   , 30.   , 11.   ],\n",
              "       [ 1.   , 24.   , -1.625],\n",
              "       [ 1.   , 21.   , -2.375],\n",
              "       [ 1.   , 40.   , -0.125],\n",
              "       [ 0.   , 24.   , -0.25 ],\n",
              "       [ 1.   , 18.   ,  0.   ],\n",
              "       [ 1.   , 21.   ,  1.75 ],\n",
              "       [ 1.   , 23.   , -2.   ],\n",
              "       [ 1.   , 20.   , -5.375],\n",
              "       [ 1.   , 32.   , -1.25 ],\n",
              "       [ 1.   , 21.   , -1.25 ],\n",
              "       [ 0.   , 30.   ,  0.375],\n",
              "       [ 0.   , 21.   ,  0.625],\n",
              "       [ 0.   , 25.   ,  0.625],\n",
              "       [ 1.   , 26.   , -0.5  ],\n",
              "       [ 1.   , 28.   , -0.375],\n",
              "       [ 1.   , 35.   ,  0.75 ],\n",
              "       [ 0.   , 25.   ,  0.25 ],\n",
              "       [ 1.   , 22.   , 18.875],\n",
              "       [ 0.   , 36.   ,  1.75 ],\n",
              "       [ 0.   , 32.   , -0.5  ],\n",
              "       [ 0.   , 32.   , -0.375],\n",
              "       [ 1.   , 37.   , -0.25 ],\n",
              "       [ 0.   , 29.   ,  0.25 ],\n",
              "       [ 0.   , 36.   ,  5.375],\n",
              "       [ 1.   , 43.   ,  2.375],\n",
              "       [ 0.   , 26.   , -3.5  ],\n",
              "       [ 1.   , 18.   , -4.25 ],\n",
              "       [ 1.   , 35.   , -2.75 ],\n",
              "       [ 1.   , 22.   , -1.5  ]])"
            ]
          },
          "metadata": {},
          "execution_count": 30
        }
      ]
    },
    {
      "cell_type": "code",
      "source": [
        "from sklearn.naive_bayes import GaussianNB\n",
        "modelnb=GaussianNB()"
      ],
      "metadata": {
        "id": "GH2ejDa2bv1s"
      },
      "execution_count": 40,
      "outputs": []
    },
    {
      "cell_type": "code",
      "source": [
        "modelnb.fit(x_train,y_train)"
      ],
      "metadata": {
        "colab": {
          "base_uri": "https://localhost:8080/"
        },
        "id": "-VmoM2ttcHuJ",
        "outputId": "0f1e435b-ddad-43fe-9858-a714bbd2e99c"
      },
      "execution_count": 41,
      "outputs": [
        {
          "output_type": "execute_result",
          "data": {
            "text/plain": [
              "GaussianNB()"
            ]
          },
          "metadata": {},
          "execution_count": 41
        }
      ]
    },
    {
      "cell_type": "code",
      "source": [
        "modelnb.score(x_test,y_test)"
      ],
      "metadata": {
        "colab": {
          "base_uri": "https://localhost:8080/"
        },
        "id": "Oz4i7Q26cT76",
        "outputId": "7447d47a-6cdc-4bd9-f591-5979c25d6879"
      },
      "execution_count": 42,
      "outputs": [
        {
          "output_type": "execute_result",
          "data": {
            "text/plain": [
              "0.7777777777777778"
            ]
          },
          "metadata": {},
          "execution_count": 42
        }
      ]
    },
    {
      "cell_type": "code",
      "source": [
        "x_test"
      ],
      "metadata": {
        "colab": {
          "base_uri": "https://localhost:8080/"
        },
        "id": "LUspiUDEdlEN",
        "outputId": "7442a0d9-7b40-4929-cc35-0c53541b1f6f"
      },
      "execution_count": 43,
      "outputs": [
        {
          "output_type": "execute_result",
          "data": {
            "text/plain": [
              "array([[ 0.   , 31.   ,  0.375],\n",
              "       [ 0.   , 29.   , -0.625],\n",
              "       [ 1.   , 30.   ,  5.375],\n",
              "       [ 0.   , 36.   ,  0.   ],\n",
              "       [ 1.   , 25.   ,  0.125],\n",
              "       [ 1.   , 41.   , -1.375],\n",
              "       [ 1.   , 36.   , -1.625],\n",
              "       [ 0.   , 40.   , -0.375],\n",
              "       [ 1.   , 25.   , -1.   ]])"
            ]
          },
          "metadata": {},
          "execution_count": 43
        }
      ]
    },
    {
      "cell_type": "code",
      "source": [
        "y_test"
      ],
      "metadata": {
        "colab": {
          "base_uri": "https://localhost:8080/"
        },
        "id": "APfTquA1db2R",
        "outputId": "57461f11-0d0a-4f1b-87ad-96c080e4362a"
      },
      "execution_count": 44,
      "outputs": [
        {
          "output_type": "execute_result",
          "data": {
            "text/plain": [
              "array([4, 3, 6, 4, 4, 2, 2, 3, 3])"
            ]
          },
          "metadata": {},
          "execution_count": 44
        }
      ]
    },
    {
      "cell_type": "code",
      "source": [
        "modelnb.predict(x_test)"
      ],
      "metadata": {
        "colab": {
          "base_uri": "https://localhost:8080/"
        },
        "id": "lmrSR7K7deqt",
        "outputId": "de710fed-31a2-4bc4-f5b1-d9e12431c7c2"
      },
      "execution_count": 47,
      "outputs": [
        {
          "output_type": "execute_result",
          "data": {
            "text/plain": [
              "array([4, 3, 6, 3, 4, 2, 2, 3, 2])"
            ]
          },
          "metadata": {},
          "execution_count": 47
        }
      ]
    },
    {
      "cell_type": "markdown",
      "source": [
        "**K-Nearest Neighbours(KNN algorithm)**"
      ],
      "metadata": {
        "id": "v8cBIWwhgAI0"
      }
    },
    {
      "cell_type": "code",
      "source": [
        "#Scaling imp here else 0.33\n",
        "from sklearn.preprocessing import StandardScaler\n",
        "scaler=StandardScaler()\n",
        "scaler.fit(x_train)\n",
        "x_trainsc=scaler.transform(x_train)\n",
        "x_testsc=scaler.transform(x_test)"
      ],
      "metadata": {
        "id": "joDqeMAKgOqP"
      },
      "execution_count": 87,
      "outputs": []
    },
    {
      "cell_type": "code",
      "source": [
        "from sklearn.neighbors import KNeighborsClassifier\n",
        "classifier=KNeighborsClassifier(n_neighbors=5)\n",
        "classifier.fit(x_trainsc,y_train)"
      ],
      "metadata": {
        "colab": {
          "base_uri": "https://localhost:8080/"
        },
        "id": "iv23_W7chTdS",
        "outputId": "d5ca2cdf-28c8-4517-d26b-8dc1f031f1a9"
      },
      "execution_count": 88,
      "outputs": [
        {
          "output_type": "execute_result",
          "data": {
            "text/plain": [
              "KNeighborsClassifier()"
            ]
          },
          "metadata": {},
          "execution_count": 88
        }
      ]
    },
    {
      "cell_type": "code",
      "source": [
        "classifier.score(x_testsc,y_test)"
      ],
      "metadata": {
        "colab": {
          "base_uri": "https://localhost:8080/"
        },
        "id": "4jrGxtu5lpN6",
        "outputId": "c94ccbff-4f30-432b-dfe4-e2f713ae553c"
      },
      "execution_count": 89,
      "outputs": [
        {
          "output_type": "execute_result",
          "data": {
            "text/plain": [
              "0.4444444444444444"
            ]
          },
          "metadata": {},
          "execution_count": 89
        }
      ]
    },
    {
      "cell_type": "code",
      "source": [
        "y_pred=classifier.predict(x_testsc)"
      ],
      "metadata": {
        "id": "Jw5IjvijiUQm"
      },
      "execution_count": 90,
      "outputs": []
    },
    {
      "cell_type": "code",
      "source": [
        "from sklearn.metrics import classification_report,confusion_matrix\n",
        "print(classification_report(y_test,y_pred))\n",
        "print(confusion_matrix(y_test,y_pred))"
      ],
      "metadata": {
        "colab": {
          "base_uri": "https://localhost:8080/"
        },
        "id": "vU-QAV9Iin-6",
        "outputId": "532f020c-3046-48f7-d43c-9e376aa47656"
      },
      "execution_count": 91,
      "outputs": [
        {
          "output_type": "stream",
          "name": "stdout",
          "text": [
            "              precision    recall  f1-score   support\n",
            "\n",
            "           2       0.50      1.00      0.67         2\n",
            "           3       0.00      0.00      0.00         3\n",
            "           4       0.40      0.67      0.50         3\n",
            "           6       0.00      0.00      0.00         1\n",
            "\n",
            "    accuracy                           0.44         9\n",
            "   macro avg       0.23      0.42      0.29         9\n",
            "weighted avg       0.24      0.44      0.31         9\n",
            "\n",
            "[[2 0 0 0]\n",
            " [1 0 2 0]\n",
            " [1 0 2 0]\n",
            " [0 0 1 0]]\n"
          ]
        },
        {
          "output_type": "stream",
          "name": "stderr",
          "text": [
            "/usr/local/lib/python3.7/dist-packages/sklearn/metrics/_classification.py:1318: UndefinedMetricWarning: Precision and F-score are ill-defined and being set to 0.0 in labels with no predicted samples. Use `zero_division` parameter to control this behavior.\n",
            "  _warn_prf(average, modifier, msg_start, len(result))\n",
            "/usr/local/lib/python3.7/dist-packages/sklearn/metrics/_classification.py:1318: UndefinedMetricWarning: Precision and F-score are ill-defined and being set to 0.0 in labels with no predicted samples. Use `zero_division` parameter to control this behavior.\n",
            "  _warn_prf(average, modifier, msg_start, len(result))\n",
            "/usr/local/lib/python3.7/dist-packages/sklearn/metrics/_classification.py:1318: UndefinedMetricWarning: Precision and F-score are ill-defined and being set to 0.0 in labels with no predicted samples. Use `zero_division` parameter to control this behavior.\n",
            "  _warn_prf(average, modifier, msg_start, len(result))\n"
          ]
        }
      ]
    },
    {
      "cell_type": "markdown",
      "source": [
        "**Decision Tree**"
      ],
      "metadata": {
        "id": "MdrcXV8A-xFI"
      }
    },
    {
      "cell_type": "code",
      "source": [
        "x_train"
      ],
      "metadata": {
        "colab": {
          "base_uri": "https://localhost:8080/"
        },
        "id": "pSS6oRne-y7v",
        "outputId": "48d13974-34f9-4d4f-e2f1-cce9a5daa8bd"
      },
      "execution_count": 92,
      "outputs": [
        {
          "output_type": "execute_result",
          "data": {
            "text/plain": [
              "array([[ 0.   , 28.   , -0.25 ],\n",
              "       [ 1.   , 32.   , -1.125],\n",
              "       [ 0.   , 36.   ,  0.625],\n",
              "       [ 1.   , 57.   , -0.125],\n",
              "       [ 1.   , 20.   ,  0.375],\n",
              "       [ 0.   , 37.   , -0.125],\n",
              "       [ 0.   , 31.   ,  1.5  ],\n",
              "       [ 0.   , 31.   ,  0.   ],\n",
              "       [ 0.   , 22.   , -1.375],\n",
              "       [ 1.   , 32.   , -0.125],\n",
              "       [ 0.   , 21.   , -0.5  ],\n",
              "       [ 1.   , 20.   , -1.5  ],\n",
              "       [ 1.   , 25.   , -2.   ],\n",
              "       [ 1.   , 35.   ,  0.125],\n",
              "       [ 1.   , 26.   ,  3.625],\n",
              "       [ 0.   , 26.   , -4.25 ],\n",
              "       [ 0.   , 28.   ,  2.875],\n",
              "       [ 0.   , 22.   ,  0.75 ],\n",
              "       [ 0.   , 19.   ,  0.   ],\n",
              "       [ 0.   , 28.   , -1.5  ],\n",
              "       [ 0.   , 30.   , 11.   ],\n",
              "       [ 1.   , 24.   , -1.625],\n",
              "       [ 1.   , 21.   , -2.375],\n",
              "       [ 1.   , 40.   , -0.125],\n",
              "       [ 0.   , 24.   , -0.25 ],\n",
              "       [ 1.   , 18.   ,  0.   ],\n",
              "       [ 1.   , 21.   ,  1.75 ],\n",
              "       [ 1.   , 23.   , -2.   ],\n",
              "       [ 1.   , 20.   , -5.375],\n",
              "       [ 1.   , 32.   , -1.25 ],\n",
              "       [ 1.   , 21.   , -1.25 ],\n",
              "       [ 0.   , 30.   ,  0.375],\n",
              "       [ 0.   , 21.   ,  0.625],\n",
              "       [ 0.   , 25.   ,  0.625],\n",
              "       [ 1.   , 26.   , -0.5  ],\n",
              "       [ 1.   , 28.   , -0.375],\n",
              "       [ 1.   , 35.   ,  0.75 ],\n",
              "       [ 0.   , 25.   ,  0.25 ],\n",
              "       [ 1.   , 22.   , 18.875],\n",
              "       [ 0.   , 36.   ,  1.75 ],\n",
              "       [ 0.   , 32.   , -0.5  ],\n",
              "       [ 0.   , 32.   , -0.375],\n",
              "       [ 1.   , 37.   , -0.25 ],\n",
              "       [ 0.   , 29.   ,  0.25 ],\n",
              "       [ 0.   , 36.   ,  5.375],\n",
              "       [ 1.   , 43.   ,  2.375],\n",
              "       [ 0.   , 26.   , -3.5  ],\n",
              "       [ 1.   , 18.   , -4.25 ],\n",
              "       [ 1.   , 35.   , -2.75 ],\n",
              "       [ 1.   , 22.   , -1.5  ]])"
            ]
          },
          "metadata": {},
          "execution_count": 92
        }
      ]
    },
    {
      "cell_type": "code",
      "source": [
        "#importing decision tree classifier\n",
        "from sklearn.tree import DecisionTreeClassifier"
      ],
      "metadata": {
        "id": "DHkh-oNZ_1PT"
      },
      "execution_count": 93,
      "outputs": []
    },
    {
      "cell_type": "code",
      "source": [
        "#importing decision tree regressor\n",
        "from sklearn.tree import DecisionTreeRegressor"
      ],
      "metadata": {
        "id": "DK-8tkkZADlR"
      },
      "execution_count": 94,
      "outputs": []
    },
    {
      "cell_type": "code",
      "source": [
        "#creating decision tree function\n",
        "dt=DecisionTreeClassifier(random_state=42)"
      ],
      "metadata": {
        "id": "j-1XKY0BANyD"
      },
      "execution_count": 163,
      "outputs": []
    },
    {
      "cell_type": "code",
      "source": [
        "#fitting model\n",
        "dt.fit(x_train,y_train)"
      ],
      "metadata": {
        "colab": {
          "base_uri": "https://localhost:8080/"
        },
        "id": "3rrILZhLAdJb",
        "outputId": "d97ab61c-2c06-4015-8fe9-1b311e9310fb"
      },
      "execution_count": 164,
      "outputs": [
        {
          "output_type": "execute_result",
          "data": {
            "text/plain": [
              "DecisionTreeClassifier(random_state=42)"
            ]
          },
          "metadata": {},
          "execution_count": 164
        }
      ]
    },
    {
      "cell_type": "code",
      "source": [
        "#checking training score\n",
        "dt.score(x_train,y_train)"
      ],
      "metadata": {
        "colab": {
          "base_uri": "https://localhost:8080/"
        },
        "id": "J_bSAtxTAnkm",
        "outputId": "12d56249-ef21-4932-c873-ed28e9eb584c"
      },
      "execution_count": 165,
      "outputs": [
        {
          "output_type": "execute_result",
          "data": {
            "text/plain": [
              "1.0"
            ]
          },
          "metadata": {},
          "execution_count": 165
        }
      ]
    },
    {
      "cell_type": "code",
      "source": [
        "#checking testing score\n",
        "y_preddt=dt.predict(x_test)"
      ],
      "metadata": {
        "id": "YCe46ZllA4qi"
      },
      "execution_count": 188,
      "outputs": []
    },
    {
      "cell_type": "code",
      "source": [
        "from sklearn import metrics\n",
        "metrics.accuracy_score(y_test,y_preddt)"
      ],
      "metadata": {
        "colab": {
          "base_uri": "https://localhost:8080/"
        },
        "id": "Vmc2uD9sBD1Q",
        "outputId": "4df5ae98-0c74-4bc3-c1a1-9485e0c69446"
      },
      "execution_count": 189,
      "outputs": [
        {
          "output_type": "execute_result",
          "data": {
            "text/plain": [
              "0.5555555555555556"
            ]
          },
          "metadata": {},
          "execution_count": 189
        }
      ]
    },
    {
      "cell_type": "code",
      "source": [
        "print(classification_report(y_test,y_preddt))"
      ],
      "metadata": {
        "colab": {
          "base_uri": "https://localhost:8080/"
        },
        "id": "vqhgyXolOidd",
        "outputId": "b23b2a66-94b3-453e-eddb-b149bbd605cc"
      },
      "execution_count": 190,
      "outputs": [
        {
          "output_type": "stream",
          "name": "stdout",
          "text": [
            "              precision    recall  f1-score   support\n",
            "\n",
            "           2       0.00      0.00      0.00         2\n",
            "           3       0.50      1.00      0.67         3\n",
            "           4       0.67      0.67      0.67         3\n",
            "           6       0.00      0.00      0.00         1\n",
            "\n",
            "    accuracy                           0.56         9\n",
            "   macro avg       0.29      0.42      0.33         9\n",
            "weighted avg       0.39      0.56      0.44         9\n",
            "\n"
          ]
        },
        {
          "output_type": "stream",
          "name": "stderr",
          "text": [
            "/usr/local/lib/python3.7/dist-packages/sklearn/metrics/_classification.py:1318: UndefinedMetricWarning: Precision and F-score are ill-defined and being set to 0.0 in labels with no predicted samples. Use `zero_division` parameter to control this behavior.\n",
            "  _warn_prf(average, modifier, msg_start, len(result))\n",
            "/usr/local/lib/python3.7/dist-packages/sklearn/metrics/_classification.py:1318: UndefinedMetricWarning: Precision and F-score are ill-defined and being set to 0.0 in labels with no predicted samples. Use `zero_division` parameter to control this behavior.\n",
            "  _warn_prf(average, modifier, msg_start, len(result))\n",
            "/usr/local/lib/python3.7/dist-packages/sklearn/metrics/_classification.py:1318: UndefinedMetricWarning: Precision and F-score are ill-defined and being set to 0.0 in labels with no predicted samples. Use `zero_division` parameter to control this behavior.\n",
            "  _warn_prf(average, modifier, msg_start, len(result))\n"
          ]
        }
      ]
    },
    {
      "cell_type": "markdown",
      "source": [
        "**Random Forest**"
      ],
      "metadata": {
        "id": "njfRjXheKdgQ"
      }
    },
    {
      "cell_type": "code",
      "source": [
        "x_train"
      ],
      "metadata": {
        "colab": {
          "base_uri": "https://localhost:8080/"
        },
        "id": "s0cAlafrKka-",
        "outputId": "cbe38c92-f2bc-4287-8c82-f795ef7d8bb7"
      },
      "execution_count": 168,
      "outputs": [
        {
          "output_type": "execute_result",
          "data": {
            "text/plain": [
              "array([[ 0.   , 28.   , -0.25 ],\n",
              "       [ 1.   , 32.   , -1.125],\n",
              "       [ 0.   , 36.   ,  0.625],\n",
              "       [ 1.   , 57.   , -0.125],\n",
              "       [ 1.   , 20.   ,  0.375],\n",
              "       [ 0.   , 37.   , -0.125],\n",
              "       [ 0.   , 31.   ,  1.5  ],\n",
              "       [ 0.   , 31.   ,  0.   ],\n",
              "       [ 0.   , 22.   , -1.375],\n",
              "       [ 1.   , 32.   , -0.125],\n",
              "       [ 0.   , 21.   , -0.5  ],\n",
              "       [ 1.   , 20.   , -1.5  ],\n",
              "       [ 1.   , 25.   , -2.   ],\n",
              "       [ 1.   , 35.   ,  0.125],\n",
              "       [ 1.   , 26.   ,  3.625],\n",
              "       [ 0.   , 26.   , -4.25 ],\n",
              "       [ 0.   , 28.   ,  2.875],\n",
              "       [ 0.   , 22.   ,  0.75 ],\n",
              "       [ 0.   , 19.   ,  0.   ],\n",
              "       [ 0.   , 28.   , -1.5  ],\n",
              "       [ 0.   , 30.   , 11.   ],\n",
              "       [ 1.   , 24.   , -1.625],\n",
              "       [ 1.   , 21.   , -2.375],\n",
              "       [ 1.   , 40.   , -0.125],\n",
              "       [ 0.   , 24.   , -0.25 ],\n",
              "       [ 1.   , 18.   ,  0.   ],\n",
              "       [ 1.   , 21.   ,  1.75 ],\n",
              "       [ 1.   , 23.   , -2.   ],\n",
              "       [ 1.   , 20.   , -5.375],\n",
              "       [ 1.   , 32.   , -1.25 ],\n",
              "       [ 1.   , 21.   , -1.25 ],\n",
              "       [ 0.   , 30.   ,  0.375],\n",
              "       [ 0.   , 21.   ,  0.625],\n",
              "       [ 0.   , 25.   ,  0.625],\n",
              "       [ 1.   , 26.   , -0.5  ],\n",
              "       [ 1.   , 28.   , -0.375],\n",
              "       [ 1.   , 35.   ,  0.75 ],\n",
              "       [ 0.   , 25.   ,  0.25 ],\n",
              "       [ 1.   , 22.   , 18.875],\n",
              "       [ 0.   , 36.   ,  1.75 ],\n",
              "       [ 0.   , 32.   , -0.5  ],\n",
              "       [ 0.   , 32.   , -0.375],\n",
              "       [ 1.   , 37.   , -0.25 ],\n",
              "       [ 0.   , 29.   ,  0.25 ],\n",
              "       [ 0.   , 36.   ,  5.375],\n",
              "       [ 1.   , 43.   ,  2.375],\n",
              "       [ 0.   , 26.   , -3.5  ],\n",
              "       [ 1.   , 18.   , -4.25 ],\n",
              "       [ 1.   , 35.   , -2.75 ],\n",
              "       [ 1.   , 22.   , -1.5  ]])"
            ]
          },
          "metadata": {},
          "execution_count": 168
        }
      ]
    },
    {
      "cell_type": "code",
      "source": [
        "from sklearn.ensemble import RandomForestClassifier\n",
        "rf=RandomForestClassifier(random_state=42)\n",
        "rf.fit(x_train,y_train)"
      ],
      "metadata": {
        "colab": {
          "base_uri": "https://localhost:8080/"
        },
        "id": "54-jrK6JKrfD",
        "outputId": "0f3d0bee-a6f7-42dd-8052-3fea042b9abf"
      },
      "execution_count": 171,
      "outputs": [
        {
          "output_type": "execute_result",
          "data": {
            "text/plain": [
              "RandomForestClassifier(random_state=42)"
            ]
          },
          "metadata": {},
          "execution_count": 171
        }
      ]
    },
    {
      "cell_type": "code",
      "source": [
        "rf.predict(x_test)"
      ],
      "metadata": {
        "colab": {
          "base_uri": "https://localhost:8080/"
        },
        "id": "UkGz4LNxNvat",
        "outputId": "4611809f-3f09-45aa-9e24-19ec7984eafe"
      },
      "execution_count": 178,
      "outputs": [
        {
          "output_type": "execute_result",
          "data": {
            "text/plain": [
              "array([4, 3, 4, 4, 4, 4, 4, 3, 4])"
            ]
          },
          "metadata": {},
          "execution_count": 178
        }
      ]
    },
    {
      "cell_type": "code",
      "source": [
        "y_predrf=rf.predict(x_test)"
      ],
      "metadata": {
        "id": "B8K2s9VqK6sx"
      },
      "execution_count": 185,
      "outputs": []
    },
    {
      "cell_type": "code",
      "source": [
        "from sklearn.metrics import accuracy_score,classification_report\n",
        "accuracy_score(y_test,y_predrf)\n"
      ],
      "metadata": {
        "colab": {
          "base_uri": "https://localhost:8080/"
        },
        "id": "EaReoqmfLIo3",
        "outputId": "57e10c8e-31c8-450f-a8f4-bf869183264a"
      },
      "execution_count": 186,
      "outputs": [
        {
          "output_type": "execute_result",
          "data": {
            "text/plain": [
              "0.5555555555555556"
            ]
          },
          "metadata": {},
          "execution_count": 186
        }
      ]
    },
    {
      "cell_type": "code",
      "source": [
        "print(classification_report(y_test,y_predrf))"
      ],
      "metadata": {
        "colab": {
          "base_uri": "https://localhost:8080/"
        },
        "id": "PNjTgLDTMS7k",
        "outputId": "ab5eda8b-aac0-488a-a5dc-6f515b6215c7"
      },
      "execution_count": 187,
      "outputs": [
        {
          "output_type": "stream",
          "name": "stdout",
          "text": [
            "              precision    recall  f1-score   support\n",
            "\n",
            "           2       0.00      0.00      0.00         2\n",
            "           3       1.00      0.67      0.80         3\n",
            "           4       0.43      1.00      0.60         3\n",
            "           6       0.00      0.00      0.00         1\n",
            "\n",
            "    accuracy                           0.56         9\n",
            "   macro avg       0.36      0.42      0.35         9\n",
            "weighted avg       0.48      0.56      0.47         9\n",
            "\n"
          ]
        },
        {
          "output_type": "stream",
          "name": "stderr",
          "text": [
            "/usr/local/lib/python3.7/dist-packages/sklearn/metrics/_classification.py:1318: UndefinedMetricWarning: Precision and F-score are ill-defined and being set to 0.0 in labels with no predicted samples. Use `zero_division` parameter to control this behavior.\n",
            "  _warn_prf(average, modifier, msg_start, len(result))\n",
            "/usr/local/lib/python3.7/dist-packages/sklearn/metrics/_classification.py:1318: UndefinedMetricWarning: Precision and F-score are ill-defined and being set to 0.0 in labels with no predicted samples. Use `zero_division` parameter to control this behavior.\n",
            "  _warn_prf(average, modifier, msg_start, len(result))\n",
            "/usr/local/lib/python3.7/dist-packages/sklearn/metrics/_classification.py:1318: UndefinedMetricWarning: Precision and F-score are ill-defined and being set to 0.0 in labels with no predicted samples. Use `zero_division` parameter to control this behavior.\n",
            "  _warn_prf(average, modifier, msg_start, len(result))\n"
          ]
        }
      ]
    },
    {
      "cell_type": "code",
      "source": [
        ""
      ],
      "metadata": {
        "id": "oi34G7jQOMz1"
      },
      "execution_count": null,
      "outputs": []
    }
  ]
}